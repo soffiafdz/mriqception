{
 "cells": [
  {
   "cell_type": "markdown",
   "metadata": {
    "slideshow": {
     "slide_type": "slide"
    }
   },
   "source": [
    "# Introduction\n",
    "## Why did we do this?\n",
    "Many of the IQMs calculated are \"no-reference\" metrics. \"A no-reference IQM is a measurement of some aspect of the actual image which cannot be compared to a reference value for the metric since there is no ground-truth about what this number should be.\""
   ]
  },
  {
   "cell_type": "markdown",
   "metadata": {
    "slideshow": {
     "slide_type": "slide"
    }
   },
   "source": [
    "Our goal was provide context for the image quality metrics (IQMs) shown in the MRIQC group reports, by showing the distribution of IQMs for your data plotted relative to a larger set of anonymized IQMs pulled from the web API."
   ]
  },
  {
   "cell_type": "markdown",
   "metadata": {
    "slideshow": {
     "slide_type": "slide"
    }
   },
   "source": [
    "## What MRIQCeption does\n",
    "mriqception takes user IQMs from MRIQC and plots them relative to IQMs pulled from the 200k+ images in MRIQC web API (we're going to call those \"normative\" IQMs). The user has the option to filter their API query by relevant acquisition parameters, such as TR/TE.\n",
    "\n",
    "mriqception also features a brief description of the IQM, shown as a tooltip when you mouseover the name of the IQM. We have tried to make these descriptions as user-friendly as possible."
   ]
  },
  {
   "cell_type": "code",
   "execution_count": 2,
   "metadata": {
    "slideshow": {
     "slide_type": "slide"
    }
   },
   "outputs": [],
   "source": [
    "# Import functions #\n",
    "import argparse,datetime,os,sys,time\n",
    "\n",
    "try:\n",
    "    import plotly.graph_objects as go\n",
    "except:\n",
    "    go = None  \n",
    "\n",
    "if go is None:\n",
    "    print(\"plotly is not installed\")\n",
    "\n",
    "import pandas as pd\n",
    "import plotly.graph_objects as go\n",
    "from ipywidgets import widgets\n",
    "\n",
    "from tools import load_groupfile, query_api, filterIQM, merge_dfs, make_vio_plot\n",
    "\n",
    "import ipywidgets as widgets\n",
    "from ipywidgets import interact, interact_manual"
   ]
  },
  {
   "cell_type": "code",
   "execution_count": 3,
   "metadata": {
    "slideshow": {
     "slide_type": "slide"
    }
   },
   "outputs": [],
   "source": [
    "#define widgets\n",
    "modality_widget=widgets.RadioButtons(\n",
    "    options=['bold', 'structural'],\n",
    "    description='Modality:',\n",
    "    disabled=False\n",
    ")\n",
    "\n",
    "TR_min=widgets.FloatSlider(\n",
    "    min=1.5,\n",
    "    max=5,\n",
    "    step=0.1,\n",
    "    description='TR min:',\n",
    "    disabled=False,\n",
    "    continuous_update=False,\n",
    "    orientation='horizontal',\n",
    "    readout=True,\n",
    "    readout_format='',\n",
    "    slider_color='white',\n",
    "    color='black'\n",
    ")"
   ]
  },
  {
   "cell_type": "code",
   "execution_count": 4,
   "metadata": {
    "slideshow": {
     "slide_type": "slide"
    }
   },
   "outputs": [],
   "source": [
    "TR_max=widgets.FloatSlider(\n",
    "    min=1.5,\n",
    "    max=4,\n",
    "    step=0.1,\n",
    "    description='TR max:',\n",
    "    disabled=False,\n",
    "    continuous_update=False,\n",
    "    orientation='horizontal',\n",
    "    readout=True,\n",
    "    readout_format='',\n",
    "    slider_color='white',\n",
    "    color='black'\n",
    ")\n",
    "\n",
    "\n",
    "\n",
    "TE_min=widgets.FloatSlider(\n",
    "    min=0,\n",
    "    max=.05,\n",
    "    step=0.001,\n",
    "    description='TE min:',\n",
    "    disabled=False,\n",
    "    continuous_update=False,\n",
    "    orientation='horizontal',\n",
    "    readout=True,\n",
    "    readout_format='',\n",
    "    slider_color='white',\n",
    "    color='black'\n",
    ")\n"
   ]
  },
  {
   "cell_type": "code",
   "execution_count": 5,
   "metadata": {
    "slideshow": {
     "slide_type": "slide"
    }
   },
   "outputs": [],
   "source": [
    "TE_max=widgets.FloatSlider(\n",
    "    min=0,\n",
    "    max=.05,\n",
    "    step=0.001,\n",
    "    description='TE max:',\n",
    "    disabled=False,\n",
    "    continuous_update=False,\n",
    "    orientation='horizontal',\n",
    "    readout=True,\n",
    "    readout_format='',\n",
    "    slider_color='white',\n",
    "    color='black'\n",
    ")\n",
    "\n",
    "\n",
    "select_parameters=widgets.SelectMultiple(\n",
    "    options=['TR_min', 'TR_max', 'TE_min', 'TE_max'],\n",
    "    description='Parameters',\n",
    "    disabled=False)"
   ]
  },
  {
   "cell_type": "code",
   "execution_count": 6,
   "metadata": {
    "slideshow": {
     "slide_type": "slide"
    }
   },
   "outputs": [
    {
     "data": {
      "application/vnd.jupyter.widget-view+json": {
       "model_id": "dabd40f6540a41af86b6c48760ee7b35",
       "version_major": 2,
       "version_minor": 0
      },
      "text/plain": [
       "RadioButtons(description='Modality:', options=('bold', 'structural'), value='bold')"
      ]
     },
     "metadata": {},
     "output_type": "display_data"
    }
   ],
   "source": [
    "display(modality_widget)"
   ]
  },
  {
   "cell_type": "code",
   "execution_count": 7,
   "metadata": {
    "slideshow": {
     "slide_type": "slide"
    }
   },
   "outputs": [
    {
     "data": {
      "application/vnd.jupyter.widget-view+json": {
       "model_id": "6f370aac4c10442fa7e8a29b8520efc2",
       "version_major": 2,
       "version_minor": 0
      },
      "text/plain": [
       "SelectMultiple(description='Parameters', options=('TR_min', 'TR_max', 'TE_min', 'TE_max'), value=())"
      ]
     },
     "metadata": {},
     "output_type": "display_data"
    },
    {
     "name": "stdout",
     "output_type": "stream",
     "text": [
      "If empty, no parameter restrictions will applied\n"
     ]
    }
   ],
   "source": [
    "modal=modality_widget.value\n",
    "display(select_parameters)\n",
    "print(\"If empty, no parameter restrictions will applied\")"
   ]
  },
  {
   "cell_type": "code",
   "execution_count": 8,
   "metadata": {
    "slideshow": {
     "slide_type": "slide"
    }
   },
   "outputs": [
    {
     "data": {
      "application/vnd.jupyter.widget-view+json": {
       "model_id": "a46663f6576446d293ae42936be62445",
       "version_major": 2,
       "version_minor": 0
      },
      "text/plain": [
       "FloatSlider(value=1.5, continuous_update=False, description='TR max:', max=4.0, min=1.5, readout_format='')"
      ]
     },
     "metadata": {},
     "output_type": "display_data"
    }
   ],
   "source": [
    "for i in select_parameters.value:\n",
    "        display(eval(i))"
   ]
  },
  {
   "cell_type": "code",
   "execution_count": 9,
   "metadata": {},
   "outputs": [
    {
     "name": "stdout",
     "output_type": "stream",
     "text": [
      "['TR < 2.6']\n"
     ]
    }
   ],
   "source": [
    "to_filter=select_parameters.value\n",
    "filter_list=[]\n",
    "filter_dict={'TR_min': \"TR >= {}\".format(TR_min.value),\n",
    "             'TR_max': \"TR < {}\".format(TR_max.value),\n",
    "             'TE_min': \"TE >= {}\".format(TE_min.value),\n",
    "             'TE_max': \"TE < {}\".format(TE_max.value)\n",
    "            }\n",
    "\n",
    "for item in to_filter:\n",
    "    add_item=filter_dict.get(item)\n",
    "    filter_list.append(add_item)\n",
    "    \n",
    "print(filter_list)\n",
    "#filter_list= ['TR > 2.2', 'TR < 3']"
   ]
  },
  {
   "cell_type": "code",
   "execution_count": 10,
   "metadata": {
    "slideshow": {
     "slide_type": "slide"
    }
   },
   "outputs": [],
   "source": [
    "# Arguments #\n",
    "\n",
    "# laziness helper\n",
    "# here = os.path.dirname(os.path.abspath(os.path.realpath(__file__)))\n",
    "here = %pwd\n",
    "\n",
    "# path to input of local data from MRIQC on your own dataset \n",
    "group_file = os.path.join(here,'test_data', 'group_bold.tsv')\n",
    "\n",
    "# scan type to query the API for [bold, T1w, T2w]\n",
    "modality = 'bold'\n",
    "\n",
    "# any scan parameters that you want to filter the API search results by\n",
    "\"\"\"Current possible filters:\n",
    "   Tesla, TE, TR\n",
    "   NOTE: Only working as *and* right now!\n",
    "\"\"\"\n",
    "\n",
    "\n",
    "# IQM variables to visualize\n",
    "#need to add separate IQMs for structural and functional\n",
    "IQM_to_plot = ['aor','aqi','dummy_trs','dvars_nstd','dvars_std','dvars_vstd',\n",
    "                    'efc','fber','fd_mean','fd_num','fd_perc','fwhm_avg','fwhm_x','fwhm_y',\n",
    "                    'fwhm_z','gcor','gsr_x','gsr_y','snr','summary_bg_k','summary_bg_mad',\n",
    "                    'summary_bg_mean','summary_bg_median','summary_bg_n','summary_bg_p05',\n",
    "                    'summary_bg_p95','summary_bg_stdv','summary_fg_k','summary_fg_mad',\n",
    "                    'summary_fg_mean','summary_fg_median','summary_fg_n','summary_fg_p05',\n",
    "                    'summary_fg_p95','summary_fg_stdv','tsnr']"
   ]
  },
  {
   "cell_type": "code",
   "execution_count": 11,
   "metadata": {
    "slideshow": {
     "slide_type": "slide"
    }
   },
   "outputs": [
    {
     "data": {
      "text/plain": [
       "(18, 45)"
      ]
     },
     "execution_count": 11,
     "metadata": {},
     "output_type": "execute_result"
    }
   ],
   "source": [
    "# Load in your own data # \n",
    "\n",
    "# This should be a .csv or .tsv file outputted from MRIQC on your own data\n",
    "# This will return a pandas dataframe of the MRIQC data from your experiment\n",
    "\n",
    "userdf = load_groupfile(group_file)\n",
    "# userdf.head()\n",
    "userdf.shape"
   ]
  },
  {
   "cell_type": "code",
   "execution_count": 15,
   "metadata": {
    "slideshow": {
     "slide_type": "slide"
    }
   },
   "outputs": [
    {
     "name": "stdout",
     "output_type": "stream",
     "text": [
      "(1000, 77)\n",
      "(834, 77)\n"
     ]
    },
    {
     "data": {
      "text/html": [
       "<div>\n",
       "<style scoped>\n",
       "    .dataframe tbody tr th:only-of-type {\n",
       "        vertical-align: middle;\n",
       "    }\n",
       "\n",
       "    .dataframe tbody tr th {\n",
       "        vertical-align: top;\n",
       "    }\n",
       "\n",
       "    .dataframe thead th {\n",
       "        text-align: right;\n",
       "    }\n",
       "</style>\n",
       "<table border=\"1\" class=\"dataframe\">\n",
       "  <thead>\n",
       "    <tr style=\"text-align: right;\">\n",
       "      <th></th>\n",
       "      <th>_id</th>\n",
       "      <th>summary_fg_n</th>\n",
       "      <th>fber</th>\n",
       "      <th>dummy_trs</th>\n",
       "      <th>gcor</th>\n",
       "      <th>fwhm_x</th>\n",
       "      <th>gsr_y</th>\n",
       "      <th>summary_fg_mean</th>\n",
       "      <th>_created</th>\n",
       "      <th>aor</th>\n",
       "      <th>...</th>\n",
       "      <th>bids_meta_session_id</th>\n",
       "      <th>bids_meta_ConversionSoftware</th>\n",
       "      <th>bids_meta_EffectiveEchoSpacing</th>\n",
       "      <th>bids_meta_PhaseEncodingDirection</th>\n",
       "      <th>bids_meta_ScanningSequence</th>\n",
       "      <th>bids_meta_CogAtlasID</th>\n",
       "      <th>bids_meta_SliceEncodingDirection</th>\n",
       "      <th>bids_meta_ParallelReductionFactorInPlane</th>\n",
       "      <th>bids_meta_PulseSequenceType</th>\n",
       "      <th>bids_meta_TotalReadoutTime</th>\n",
       "    </tr>\n",
       "  </thead>\n",
       "  <tbody>\n",
       "    <tr>\n",
       "      <th>17</th>\n",
       "      <td>59a4e0c5265d200008a1da3f</td>\n",
       "      <td>25274</td>\n",
       "      <td>1.979839e+07</td>\n",
       "      <td>0</td>\n",
       "      <td>0.042622</td>\n",
       "      <td>2.618985</td>\n",
       "      <td>0.012357</td>\n",
       "      <td>601.891602</td>\n",
       "      <td>Tue, 29 Aug 2017 03:34:29 GMT</td>\n",
       "      <td>0.003113</td>\n",
       "      <td>...</td>\n",
       "      <td>dbeb1b75b6d3b0a6e4c6b4237ac54b3704547069faf30b...</td>\n",
       "      <td>GE_dcm_to_nii.sh</td>\n",
       "      <td>0.00032</td>\n",
       "      <td>j</td>\n",
       "      <td>NaN</td>\n",
       "      <td>NaN</td>\n",
       "      <td>NaN</td>\n",
       "      <td>NaN</td>\n",
       "      <td>NaN</td>\n",
       "      <td>NaN</td>\n",
       "    </tr>\n",
       "    <tr>\n",
       "      <th>18</th>\n",
       "      <td>59a4e11e265d200008a1da42</td>\n",
       "      <td>25347</td>\n",
       "      <td>1.523840e+07</td>\n",
       "      <td>0</td>\n",
       "      <td>0.025999</td>\n",
       "      <td>2.622077</td>\n",
       "      <td>0.013856</td>\n",
       "      <td>689.687378</td>\n",
       "      <td>Tue, 29 Aug 2017 03:35:58 GMT</td>\n",
       "      <td>0.009450</td>\n",
       "      <td>...</td>\n",
       "      <td>e6f64de1bd538ad0374810eea8993dd1110d1bc552d910...</td>\n",
       "      <td>GE_dcm_to_nii.sh</td>\n",
       "      <td>0.00032</td>\n",
       "      <td>j</td>\n",
       "      <td>NaN</td>\n",
       "      <td>NaN</td>\n",
       "      <td>NaN</td>\n",
       "      <td>NaN</td>\n",
       "      <td>NaN</td>\n",
       "      <td>NaN</td>\n",
       "    </tr>\n",
       "    <tr>\n",
       "      <th>19</th>\n",
       "      <td>59a4e152265d2000079e882c</td>\n",
       "      <td>25956</td>\n",
       "      <td>4.088632e+06</td>\n",
       "      <td>0</td>\n",
       "      <td>0.125848</td>\n",
       "      <td>2.550383</td>\n",
       "      <td>0.007899</td>\n",
       "      <td>931.122253</td>\n",
       "      <td>Tue, 29 Aug 2017 03:36:50 GMT</td>\n",
       "      <td>0.001761</td>\n",
       "      <td>...</td>\n",
       "      <td>dbeb1b75b6d3b0a6e4c6b4237ac54b3704547069faf30b...</td>\n",
       "      <td>GE_dcm_to_nii.sh</td>\n",
       "      <td>0.00032</td>\n",
       "      <td>j</td>\n",
       "      <td>NaN</td>\n",
       "      <td>NaN</td>\n",
       "      <td>NaN</td>\n",
       "      <td>NaN</td>\n",
       "      <td>NaN</td>\n",
       "      <td>NaN</td>\n",
       "    </tr>\n",
       "    <tr>\n",
       "      <th>20</th>\n",
       "      <td>59a4f375265d200008a1da4c</td>\n",
       "      <td>25847</td>\n",
       "      <td>1.914398e+03</td>\n",
       "      <td>0</td>\n",
       "      <td>0.024652</td>\n",
       "      <td>2.334496</td>\n",
       "      <td>0.031287</td>\n",
       "      <td>810.450134</td>\n",
       "      <td>Tue, 29 Aug 2017 04:54:13 GMT</td>\n",
       "      <td>0.003170</td>\n",
       "      <td>...</td>\n",
       "      <td>10ccd191d2d0cf162dd07594ee4e7932034aa84693eed8...</td>\n",
       "      <td>Dimon</td>\n",
       "      <td>0.00056</td>\n",
       "      <td>j</td>\n",
       "      <td>NaN</td>\n",
       "      <td>NaN</td>\n",
       "      <td>NaN</td>\n",
       "      <td>NaN</td>\n",
       "      <td>NaN</td>\n",
       "      <td>NaN</td>\n",
       "    </tr>\n",
       "    <tr>\n",
       "      <th>21</th>\n",
       "      <td>59a50df1265d200008a1da60</td>\n",
       "      <td>29851</td>\n",
       "      <td>2.338218e+05</td>\n",
       "      <td>0</td>\n",
       "      <td>0.036474</td>\n",
       "      <td>2.881513</td>\n",
       "      <td>0.019061</td>\n",
       "      <td>1167.772583</td>\n",
       "      <td>Tue, 29 Aug 2017 06:47:13 GMT</td>\n",
       "      <td>0.015904</td>\n",
       "      <td>...</td>\n",
       "      <td>dbeb1b75b6d3b0a6e4c6b4237ac54b3704547069faf30b...</td>\n",
       "      <td>GE_dcm_to_nii.sh</td>\n",
       "      <td>0.00032</td>\n",
       "      <td>j</td>\n",
       "      <td>NaN</td>\n",
       "      <td>NaN</td>\n",
       "      <td>NaN</td>\n",
       "      <td>NaN</td>\n",
       "      <td>NaN</td>\n",
       "      <td>NaN</td>\n",
       "    </tr>\n",
       "  </tbody>\n",
       "</table>\n",
       "<p>5 rows × 77 columns</p>\n",
       "</div>"
      ],
      "text/plain": [
       "                         _id  summary_fg_n          fber  dummy_trs      gcor  \\\n",
       "17  59a4e0c5265d200008a1da3f         25274  1.979839e+07          0  0.042622   \n",
       "18  59a4e11e265d200008a1da42         25347  1.523840e+07          0  0.025999   \n",
       "19  59a4e152265d2000079e882c         25956  4.088632e+06          0  0.125848   \n",
       "20  59a4f375265d200008a1da4c         25847  1.914398e+03          0  0.024652   \n",
       "21  59a50df1265d200008a1da60         29851  2.338218e+05          0  0.036474   \n",
       "\n",
       "      fwhm_x     gsr_y  summary_fg_mean                       _created  \\\n",
       "17  2.618985  0.012357       601.891602  Tue, 29 Aug 2017 03:34:29 GMT   \n",
       "18  2.622077  0.013856       689.687378  Tue, 29 Aug 2017 03:35:58 GMT   \n",
       "19  2.550383  0.007899       931.122253  Tue, 29 Aug 2017 03:36:50 GMT   \n",
       "20  2.334496  0.031287       810.450134  Tue, 29 Aug 2017 04:54:13 GMT   \n",
       "21  2.881513  0.019061      1167.772583  Tue, 29 Aug 2017 06:47:13 GMT   \n",
       "\n",
       "         aor             ...              \\\n",
       "17  0.003113             ...               \n",
       "18  0.009450             ...               \n",
       "19  0.001761             ...               \n",
       "20  0.003170             ...               \n",
       "21  0.015904             ...               \n",
       "\n",
       "                                 bids_meta_session_id  \\\n",
       "17  dbeb1b75b6d3b0a6e4c6b4237ac54b3704547069faf30b...   \n",
       "18  e6f64de1bd538ad0374810eea8993dd1110d1bc552d910...   \n",
       "19  dbeb1b75b6d3b0a6e4c6b4237ac54b3704547069faf30b...   \n",
       "20  10ccd191d2d0cf162dd07594ee4e7932034aa84693eed8...   \n",
       "21  dbeb1b75b6d3b0a6e4c6b4237ac54b3704547069faf30b...   \n",
       "\n",
       "    bids_meta_ConversionSoftware  bids_meta_EffectiveEchoSpacing  \\\n",
       "17              GE_dcm_to_nii.sh                         0.00032   \n",
       "18              GE_dcm_to_nii.sh                         0.00032   \n",
       "19              GE_dcm_to_nii.sh                         0.00032   \n",
       "20                         Dimon                         0.00056   \n",
       "21              GE_dcm_to_nii.sh                         0.00032   \n",
       "\n",
       "    bids_meta_PhaseEncodingDirection  bids_meta_ScanningSequence  \\\n",
       "17                                 j                         NaN   \n",
       "18                                 j                         NaN   \n",
       "19                                 j                         NaN   \n",
       "20                                 j                         NaN   \n",
       "21                                 j                         NaN   \n",
       "\n",
       "    bids_meta_CogAtlasID  bids_meta_SliceEncodingDirection  \\\n",
       "17                   NaN                               NaN   \n",
       "18                   NaN                               NaN   \n",
       "19                   NaN                               NaN   \n",
       "20                   NaN                               NaN   \n",
       "21                   NaN                               NaN   \n",
       "\n",
       "    bids_meta_ParallelReductionFactorInPlane  bids_meta_PulseSequenceType  \\\n",
       "17                                       NaN                          NaN   \n",
       "18                                       NaN                          NaN   \n",
       "19                                       NaN                          NaN   \n",
       "20                                       NaN                          NaN   \n",
       "21                                       NaN                          NaN   \n",
       "\n",
       "    bids_meta_TotalReadoutTime  \n",
       "17                         NaN  \n",
       "18                         NaN  \n",
       "19                         NaN  \n",
       "20                         NaN  \n",
       "21                         NaN  \n",
       "\n",
       "[5 rows x 77 columns]"
      ]
     },
     "execution_count": 15,
     "metadata": {},
     "output_type": "execute_result"
    }
   ],
   "source": [
    "# Load and filter data from the API # \n",
    "\n",
    "# Figure out which to get from modality arg #\n",
    "T1apicsv = os.path.join(here, 'demo_api', 'T1w_demo.csv')\n",
    "T2apicsv = os.path.join(here, 'demo_api', 'T2w_demo.csv')\n",
    "boldapicsv = os.path.join(here, 'demo_api', 'bold_demo.csv')\n",
    "\n",
    "if modality == 'T1w':\n",
    "    api_file = T1apicsv\n",
    "elif modality == 'T2w':\n",
    "    api_file = T1apicsv\n",
    "elif modality == 'bold':\n",
    "    api_file = boldapicsv\n",
    "\n",
    "# This will return a pandas dataframe with data from all scans of the given scan type\n",
    "# with the given parameters \n",
    "\n",
    "apidf = pd.read_csv(api_file)\n",
    "if not filter_list == []:\n",
    "    filtered_apidf = filterIQM(apidf,filter_list)\n",
    "else:\n",
    "    filtered_apidf = apidf\n",
    "\n",
    "# apidf.head()\n",
    "print(apidf.shape)\n",
    "# filtered_apidf.head()\n",
    "print(filtered_apidf.shape)\n",
    "#print(list(filtered_apidf))\n",
    "filtered_apidf.head()"
   ]
  },
  {
   "cell_type": "code",
   "execution_count": 13,
   "metadata": {
    "slideshow": {
     "slide_type": "slide"
    }
   },
   "outputs": [
    {
     "data": {
      "text/plain": [
       "(852, 78)"
      ]
     },
     "execution_count": 13,
     "metadata": {},
     "output_type": "execute_result"
    }
   ],
   "source": [
    "# Merge dataframes # \n",
    "\n",
    "# Takes the user data and API data and merges it into one dataframe \n",
    "# This will return a single pandas dataframe with the local data and API data merged, with a \"group\" measure to allow for a \"groupby\" \n",
    "# this needs to be updated with actual function name and information about how to use  \n",
    "\n",
    "vis_ready_df = merge_dfs(userdf.copy(), filtered_apidf.copy())\n",
    "#print(vis_ready_df.head())\n",
    "#print(vis_ready_df.tail())\n",
    "vis_ready_df.shape\n"
   ]
  },
  {
   "cell_type": "code",
   "execution_count": 14,
   "metadata": {
    "slideshow": {
     "slide_type": "slide"
    }
   },
   "outputs": [
    {
     "name": "stdout",
     "output_type": "stream",
     "text": [
      "Loading in dataframe...\n",
      "Loading variables: ['aor', 'aqi', 'dummy_trs', 'dvars_nstd', 'dvars_std', 'dvars_vstd', 'efc', 'fber', 'fd_mean', 'fd_num', 'fd_perc', 'fwhm_avg', 'fwhm_x', 'fwhm_y', 'fwhm_z', 'gcor', 'gsr_x', 'gsr_y', 'snr', 'summary_bg_k', 'summary_bg_mad', 'summary_bg_mean', 'summary_bg_median', 'summary_bg_n', 'summary_bg_p05', 'summary_bg_p95', 'summary_bg_stdv', 'summary_fg_k', 'summary_fg_mad', 'summary_fg_mean', 'summary_fg_median', 'summary_fg_n', 'summary_fg_p05', 'summary_fg_p95', 'summary_fg_stdv', 'tsnr']\n",
      "Loading in data descriptors...\n"
     ]
    },
    {
     "data": {
      "application/vnd.jupyter.widget-view+json": {
       "model_id": "61f5955969cc4f13a6fcb52ab6e80f9f",
       "version_major": 2,
       "version_minor": 0
      },
      "text/plain": [
       "VBox(children=(Dropdown(description='IQM:', options=('aor', 'aqi', 'dummy_trs', 'dvars_nstd', 'dvars_std', 'dv…"
      ]
     },
     "metadata": {},
     "output_type": "display_data"
    }
   ],
   "source": [
    "# Visualization # \n",
    "\n",
    "v = make_vio_plot(vis_ready_df,IQM_to_plot,\"\",outliers=True)\n",
    "\n",
    "widgets.VBox([v[0],v[1]])\n"
   ]
  }
 ],
 "metadata": {
  "celltoolbar": "Slideshow",
  "kernelspec": {
   "display_name": "Python 3",
   "language": "python",
   "name": "python3"
  },
  "language_info": {
   "codemirror_mode": {
    "name": "ipython",
    "version": 3
   },
   "file_extension": ".py",
   "mimetype": "text/x-python",
   "name": "python",
   "nbconvert_exporter": "python",
   "pygments_lexer": "ipython3",
   "version": "3.7.1"
  },
  "varInspector": {
   "cols": {
    "lenName": 16,
    "lenType": 16,
    "lenVar": 40
   },
   "kernels_config": {
    "python": {
     "delete_cmd_postfix": "",
     "delete_cmd_prefix": "del ",
     "library": "var_list.py",
     "varRefreshCmd": "print(var_dic_list())"
    },
    "r": {
     "delete_cmd_postfix": ") ",
     "delete_cmd_prefix": "rm(",
     "library": "var_list.r",
     "varRefreshCmd": "cat(var_dic_list()) "
    }
   },
   "types_to_exclude": [
    "module",
    "function",
    "builtin_function_or_method",
    "instance",
    "_Feature"
   ],
   "window_display": false
  }
 },
 "nbformat": 4,
 "nbformat_minor": 2
}
