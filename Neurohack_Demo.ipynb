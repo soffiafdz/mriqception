{
 "cells": [
  {
   "cell_type": "markdown",
   "metadata": {
    "slideshow": {
     "slide_type": "slide"
    }
   },
   "source": [
    "# Introduction\n",
    "## Why did we do this?\n",
    "Many of the IQMs calculated are \"no-reference\" metrics. \"A no-reference IQM is a measurement of some aspect of the actual image which cannot be compared to a reference value for the metric since there is no ground-truth about what this number should be.\""
   ]
  },
  {
   "cell_type": "markdown",
   "metadata": {
    "slideshow": {
     "slide_type": "slide"
    }
   },
   "source": [
    "Our goal was provide context for the image quality metrics (IQMs) shown in the MRIQC group reports, by showing the distribution of IQMs for your data plotted relative to a larger set of anonymized IQMs pulled from the web API."
   ]
  },
  {
   "cell_type": "markdown",
   "metadata": {
    "slideshow": {
     "slide_type": "slide"
    }
   },
   "source": [
    "## What MRIQCeption does\n",
    "mriqception takes user IQMs from MRIQC and plots them relative to IQMs pulled from the 200k+ images in MRIQC web API (we're going to call those \"normative\" IQMs). The user has the option to filter their API query by relevant acquisition parameters, such as TR/TE.\n",
    "\n",
    "mriqception also features a brief description of the IQM, shown as a tooltip when you mouseover the name of the IQM. We have tried to make these descriptions as user-friendly as possible."
   ]
  },
  {
   "cell_type": "code",
   "execution_count": 1,
   "metadata": {
    "slideshow": {
     "slide_type": "slide"
    }
   },
   "outputs": [],
   "source": [
    "# Import functions #\n",
    "import argparse,datetime,os,sys,time\n",
    "\n",
    "try:\n",
    "    import plotly.graph_objects as go\n",
    "except:\n",
    "    go = None  \n",
    "\n",
    "if go is None:\n",
    "    print(\"plotly is not installed\")\n",
    "\n",
    "import pandas as pd\n",
    "import plotly.graph_objects as go\n",
    "from ipywidgets import widgets\n",
    "\n",
    "from tools import load_groupfile, query_api, filterIQM, merge_dfs, make_vio_plot\n",
    "\n",
    "import ipywidgets as widgets\n",
    "from ipywidgets import interact, interact_manual"
   ]
  },
  {
   "cell_type": "code",
   "execution_count": 2,
   "metadata": {
    "slideshow": {
     "slide_type": "slide"
    }
   },
   "outputs": [],
   "source": [
    "#define widgets\n",
    "modality_widget=widgets.RadioButtons(\n",
    "    options=['bold', 'structural'],\n",
    "    description='Modality:',\n",
    "    disabled=False\n",
    ")\n",
    "\n",
    "TR_min=widgets.FloatSlider(\n",
    "    min=1.5,\n",
    "    max=5,\n",
    "    step=0.1,\n",
    "    description='TR min:',\n",
    "    disabled=False,\n",
    "    continuous_update=False,\n",
    "    orientation='horizontal',\n",
    "    readout=True,\n",
    "    readout_format='',\n",
    "    slider_color='white',\n",
    "    color='black'\n",
    ")"
   ]
  },
  {
   "cell_type": "code",
   "execution_count": 7,
   "metadata": {
    "slideshow": {
     "slide_type": "slide"
    }
   },
   "outputs": [],
   "source": [
    "TR_max=widgets.FloatSlider(\n",
    "    min=1.5,\n",
    "    max=4,\n",
    "    step=0.1,\n",
    "    description='TR max:',\n",
    "    disabled=False,\n",
    "    continuous_update=False,\n",
    "    orientation='horizontal',\n",
    "    readout=True,\n",
    "    readout_format='',\n",
    "    slider_color='white',\n",
    "    color='black'\n",
    ")\n",
    "\n",
    "\n",
    "\n",
    "TE_min=widgets.FloatSlider(\n",
    "    min=0,\n",
    "    max=.05,\n",
    "    step=0.001,\n",
    "    description='TE min:',\n",
    "    disabled=False,\n",
    "    continuous_update=False,\n",
    "    orientation='horizontal',\n",
    "    readout=True,\n",
    "    readout_format='',\n",
    "    slider_color='white',\n",
    "    color='black'\n",
    ")\n"
   ]
  },
  {
   "cell_type": "code",
   "execution_count": null,
   "metadata": {
    "slideshow": {
     "slide_type": "slide"
    }
   },
   "outputs": [],
   "source": [
    "TE_max=widgets.FloatSlider(\n",
    "    min=0,\n",
    "    max=.05,\n",
    "    step=0.001,\n",
    "    description='TE max:',\n",
    "    disabled=False,\n",
    "    continuous_update=False,\n",
    "    orientation='horizontal',\n",
    "    readout=True,\n",
    "    readout_format='',\n",
    "    slider_color='white',\n",
    "    color='black'\n",
    ")\n",
    "\n",
    "\n",
    "select_parameters=widgets.SelectMultiple(\n",
    "    options=['TR_min', 'TR_max', 'TE_min', 'TE_max'],\n",
    "    description='Parameters',\n",
    "    disabled=False)"
   ]
  },
  {
   "cell_type": "code",
   "execution_count": 9,
   "metadata": {
    "slideshow": {
     "slide_type": "slide"
    }
   },
   "outputs": [
    {
     "data": {
      "application/vnd.jupyter.widget-view+json": {
       "model_id": "c626a50d47f14641a6fc26f83d2ef360",
       "version_major": 2,
       "version_minor": 0
      },
      "text/plain": [
       "Dropdown(description='Modality:', options=('bold', 'T1w', 'T2w'), value='bold')"
      ]
     },
     "metadata": {},
     "output_type": "display_data"
    }
   ],
   "source": [
    "display(modality_widget)"
   ]
  },
  {
   "cell_type": "code",
   "execution_count": 10,
   "metadata": {
    "slideshow": {
     "slide_type": "slide"
    }
   },
   "outputs": [
    {
     "data": {
      "application/vnd.jupyter.widget-view+json": {
       "model_id": "2c6e2d99ed72432b819cc0b9375b0089",
       "version_major": 2,
       "version_minor": 0
      },
      "text/plain": [
       "SelectMultiple(description='Parameters', options=('TR', 'FD', 'SNR'), value=())"
      ]
     },
     "metadata": {},
     "output_type": "display_data"
    },
    {
     "data": {
      "application/vnd.jupyter.widget-view+json": {
       "model_id": "330b212b5f7d4766b13fb138bbae0968",
       "version_major": 2,
       "version_minor": 0
      },
      "text/plain": [
       "SelectMultiple(description='IQM to plot', options=('fwhm_avg', 'fd_mean', 'aor', 'aqi', 'efc'), value=())"
      ]
     },
     "metadata": {},
     "output_type": "display_data"
    }
   ],
   "source": [
    "modal=modality_widget.value\n",
    "display(select_parameters)\n",
    "\"If empty, no parameter restrictions will applied\""
   ]
  },
  {
   "cell_type": "code",
   "execution_count": 12,
   "metadata": {
    "slideshow": {
     "slide_type": "slide"
    }
   },
   "outputs": [
    {
     "name": "stdout",
     "output_type": "stream",
     "text": [
      "['TR > 1.25']\n"
     ]
    }
   ],
   "source": [
    "for i in select_parameters.value:\n",
    "        display(eval(i))"
   ]
  },
  {
   "cell_type": "code",
   "execution_count": null,
   "metadata": {},
   "outputs": [],
   "source": [
    "to_filter=select_parameters.value\n",
    "filter_list=[]\n",
    "filter_dict={'TR_min': \"TR >= {}\".format(TR_min.value),\n",
    "             'TR_max': \"TR < {}\".format(TR_max.value),\n",
    "             'TE_min': \"TE >= {}\".format(TE_min.value),\n",
    "             'TE_max': \"TE < {}\".format(TE_max.value)\n",
    "            }\n",
    "\n",
    "for item in to_filter:\n",
    "    add_item=filter_dict.get(item)\n",
    "    filter_list.append(add_item)\n",
    "    \n",
    "print(filter_list)\n",
    "#filter_list= ['TR > 2.2', 'TR < 3']"
   ]
  },
  {
   "cell_type": "code",
   "execution_count": 13,
   "metadata": {
    "slideshow": {
     "slide_type": "slide"
    }
   },
   "outputs": [
    {
     "data": {
      "text/plain": [
       "'Current possible filters:\\n   SNR, TSNR, DVAR, FD,\\n   FWHM, Tesla, gsr_x, gsr_y, TE, TR\\n   NOTE: Only working as *and* right now!\\n'"
      ]
     },
     "execution_count": 13,
     "metadata": {},
     "output_type": "execute_result"
    }
   ],
   "source": [
    "# Arguments #\n",
    "\n",
    "# laziness helper\n",
    "# here = os.path.dirname(os.path.abspath(os.path.realpath(__file__)))\n",
    "here = %pwd\n",
    "\n",
    "# path to input of local data from MRIQC on your own dataset \n",
    "group_file = os.path.join(here,'test_data', 'group_bold.tsv')\n",
    "\n",
    "# scan type to query the API for [bold, T1w, T2w]\n",
    "modality = 'bold'\n",
    "\n",
    "# any scan parameters that you want to filter the API search results by\n",
    "\"\"\"Current possible filters:\n",
    "   SNR, TSNR, DVAR, FD,\n",
    "   FWHM, Tesla, gsr_x, gsr_y, TE, TR\n",
    "   NOTE: Only working as *and* right now!\n",
    "\"\"\"\n",
    "\n",
    "\n",
    "# IQM variables to visualize\n",
    "#IQM_to_plot = ['aor','aqi','dummy_trs','dvars_nstd','dvars_std','dvars_vstd',\n",
    "                    #'efc','fber','fd_mean','fd_num','fd_perc','fwhm_avg','fwhm_x','fwhm_y',\n",
    "                    #'fwhm_z','gcor','gsr_x','gsr_y','snr','summary_bg_k','summary_bg_mad',\n",
    "                   # 'summary_bg_mean','summary_bg_median','summary_bg_n','summary_bg_p05',\n",
    "                   # 'summary_bg_p95','summary_bg_stdv','summary_fg_k','summary_fg_mad',\n",
    "                   # 'summary_fg_mean','summary_fg_median','summary_fg_n','summary_fg_p05',\n",
    "                   # 'summary_fg_p95','summary_fg_stdv','tsnr']"
   ]
  },
  {
   "cell_type": "code",
   "execution_count": 14,
   "metadata": {
    "slideshow": {
     "slide_type": "slide"
    }
   },
   "outputs": [
    {
     "data": {
      "text/plain": [
       "(18, 45)"
      ]
     },
     "execution_count": 14,
     "metadata": {},
     "output_type": "execute_result"
    }
   ],
   "source": [
    "# Load in your own data # \n",
    "\n",
    "# This should be a .csv or .tsv file outputted from MRIQC on your own data\n",
    "# This will return a pandas dataframe of the MRIQC data from your experiment\n",
    "\n",
    "userdf = load_groupfile(group_file)\n",
    "# userdf.head()\n",
    "userdf.shape"
   ]
  },
  {
   "cell_type": "code",
   "execution_count": 15,
   "metadata": {
    "slideshow": {
     "slide_type": "slide"
    }
   },
   "outputs": [
    {
     "name": "stdout",
     "output_type": "stream",
     "text": [
      "(1000, 77)\n",
      "(1000, 77)\n"
     ]
    }
   ],
   "source": [
    "# Load and filter data from the API # \n",
    "\n",
    "# Figure out which to get from modality arg #\n",
    "T1apicsv = os.path.join(here, 'demo_api', 'T1w_demo.csv')\n",
    "T2apicsv = os.path.join(here, 'demo_api', 'T2w_demo.csv')\n",
    "boldapicsv = os.path.join(here, 'demo_api', 'bold_demo.csv')\n",
    "\n",
    "if modality == 'T1w':\n",
    "    api_file = T1apicsv\n",
    "elif modality == 'T2w':\n",
    "    api_file = T1apicsv\n",
    "elif modality == 'bold':\n",
    "    api_file = boldapicsv\n",
    "\n",
    "# This will return a pandas dataframe with data from all scans of the given scan type\n",
    "# with the given parameters \n",
    "\n",
    "apidf = pd.read_csv(api_file)\n",
    "if not filter_list == []:\n",
    "    filtered_apidf = filterIQM(apidf,filter_list)\n",
    "else:\n",
    "    filtered_apidf = apidf\n",
    "\n",
    "# apidf.head()\n",
    "print(apidf.shape)\n",
    "# filtered_apidf.head()\n",
    "print(filtered_apidf.shape)\n",
    "#print(list(filtered_apidf))"
   ]
  },
  {
   "cell_type": "code",
   "execution_count": 16,
   "metadata": {
    "slideshow": {
     "slide_type": "slide"
    }
   },
   "outputs": [
    {
     "data": {
      "text/plain": [
       "(1018, 78)"
      ]
     },
     "execution_count": 16,
     "metadata": {},
     "output_type": "execute_result"
    }
   ],
   "source": [
    "# Merge dataframes # \n",
    "\n",
    "# Takes the user data and API data and merges it into one dataframe \n",
    "# This will return a single pandas dataframe with the local data and API data merged, with a \"group\" measure to allow for a \"groupby\" \n",
    "# this needs to be updated with actual function name and information about how to use  \n",
    "\n",
    "vis_ready_df = merge_dfs(userdf.copy(), filtered_apidf.copy())\n",
    "#print(vis_ready_df.head())\n",
    "#print(vis_ready_df.tail())\n",
    "vis_ready_df.shape\n"
   ]
  },
  {
   "cell_type": "code",
   "execution_count": 17,
   "metadata": {
    "slideshow": {
     "slide_type": "slide"
    }
   },
   "outputs": [
    {
     "name": "stdout",
     "output_type": "stream",
     "text": [
      "Loading in dataframe...\n",
      "Loading variables: aor\n",
      "Loading in data descriptors...\n"
     ]
    },
    {
     "data": {
      "application/vnd.jupyter.widget-view+json": {
       "model_id": "1d070438293a45aeb2479268195f4a67",
       "version_major": 2,
       "version_minor": 0
      },
      "text/plain": [
       "VBox(children=(Dropdown(description='IQM:', options=('aor',), value='aor'), FigureWidget({\n",
       "    'data': [{'box'…"
      ]
     },
     "metadata": {},
     "output_type": "display_data"
    }
   ],
   "source": [
    "# Visualization # \n",
    "\n",
    "v = make_vio_plot(vis_ready_df,IQM_to_plot,\"\",outliers=True)\n",
    "\n",
    "widgets.VBox([v[0],v[1]])\n"
   ]
  }
 ],
 "metadata": {
  "celltoolbar": "Slideshow",
  "kernelspec": {
   "display_name": "Python 3",
   "language": "python",
   "name": "python3"
  },
  "language_info": {
   "codemirror_mode": {
    "name": "ipython",
    "version": 3
   },
   "file_extension": ".py",
   "mimetype": "text/x-python",
   "name": "python",
   "nbconvert_exporter": "python",
   "pygments_lexer": "ipython3",
   "version": "3.7.1"
  },
  "varInspector": {
   "cols": {
    "lenName": 16,
    "lenType": 16,
    "lenVar": 40
   },
   "kernels_config": {
    "python": {
     "delete_cmd_postfix": "",
     "delete_cmd_prefix": "del ",
     "library": "var_list.py",
     "varRefreshCmd": "print(var_dic_list())"
    },
    "r": {
     "delete_cmd_postfix": ") ",
     "delete_cmd_prefix": "rm(",
     "library": "var_list.r",
     "varRefreshCmd": "cat(var_dic_list()) "
    }
   },
   "types_to_exclude": [
    "module",
    "function",
    "builtin_function_or_method",
    "instance",
    "_Feature"
   ],
   "window_display": false
  }
 },
 "nbformat": 4,
 "nbformat_minor": 2
}
