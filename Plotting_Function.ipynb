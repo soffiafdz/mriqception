{
 "cells": [
  {
   "cell_type": "code",
   "execution_count": 10,
   "metadata": {
    "scrolled": true
   },
   "outputs": [],
   "source": [
    "import pandas as pd\n",
    "import plotly.graph_objects as go"
   ]
  },
  {
   "cell_type": "code",
   "execution_count": 11,
   "metadata": {},
   "outputs": [],
   "source": [
    "data = pd.read_csv(\"test_data/group2_bold.tsv\", sep=\"\\t\")\n",
    "variables=data.columns"
   ]
  },
  {
   "cell_type": "code",
   "execution_count": 12,
   "metadata": {},
   "outputs": [],
   "source": [
    "#variables = [\"var1\", \"var2\", \"var3\"]\n",
    "\n",
    "#import dataframe\n",
    "data = pd.read_csv(\"test_data/group2_bold.tsv\", sep=\"\\t\")\n",
    "#create an index/array of column names\n",
    "variables=data.columns\n",
    "\n",
    "#set and remove the names of variables we are not going to graph\n",
    "#vars_nograph=[\"bids_name\"]\n",
    "#vars_graph=variables.drop(vars_nograph)\n",
    "\n",
    "#create dictionary of descriptions of variables\n",
    "descriptions = {\n",
    "        # note that the \"aor\" one in the top line here is not correct!  that is just an example for now\n",
    "        \"aor\":\"Description: Coefficient of joint variation between white matter and gray matter.\\nQuality: lower values are better.\",\n",
    "        \"cnr\": \"Description: Contrast-to-noise ratio.\\nQuality: higher is better.\",\n",
    "        \"snr\":\"Description: Signal-to-noise ratio.\\nQuality: higher is  better.\",\n",
    "        \"snr_dietrich\": \"Description: Signal-to-noise ratio as calculated in Dietrich et al.\\nQuality: higher is better.\",\n",
    "        \"art_qi2\": \"Description: Checks appropriate removal of artifactual intensities.\\nQuality: lower is better.\",\n",
    "        \"efc\": \"Description: Shannon entropy to detect ghosting and      blurring.\\nQuality: lower is better.\",\n",
    "        \"fber\": \"Description: Mean energy of image within head relative to air mask.\\nQuality: higher is better.\",\n",
    "        \"inu_\": \"Description: Location and spread of bias field.\\n        Quality: closer to 1 is better.\",\n",
    "    \n",
    "        \"aqi\":\"var2 measures SNR.  High number is good!\",\n",
    "        \"dummy_trs\":\"var3 measures how great the participant is.  High number is good!\"\n",
    "\n",
    "}\n",
    "#print(descriptions)\n",
    "\n",
    "#vars_graph"
   ]
  },
  {
   "cell_type": "code",
   "execution_count": 35,
   "metadata": {},
   "outputs": [],
   "source": [
    "def my_function(df, variables, dictionary):\n",
    "    \n",
    "    # change the file to long format\n",
    "    df_long = pd.melt(df,id_vars='bids_name',var_name='var',value_name='values')\n",
    "    \n",
    "    for var_name in variables:\n",
    "        \n",
    "        # create a split violin plot for a single variable\n",
    "        fig = go.Figure()\n",
    "            \n",
    "        # the 'my data' variable is a subset of the original df for plotting reasons\n",
    "        # replace it with the actual user data\n",
    "        user_data = df_long[df_long['var'] == var_name][20:40]\n",
    "        \n",
    "        fig.add_trace(go.Violin(x=user_data[['var']][user_data['var']==var_name]['var'],\n",
    "                        y=user_data[['values']][user_data['var']==var_name]['values'],\n",
    "                        legendgroup='user data', scalegroup='user data', name='user data',\n",
    "                        side='negative',\n",
    "                        points='all',\n",
    "                        pointpos=-0.5, # where to position points\n",
    "                        jitter=0.1,\n",
    "                        line_color='lightseagreen')\n",
    "             )\n",
    "        fig.add_trace(go.Violin(x=df_long[['var']][df_long['var']==var_name]['var'],\n",
    "                        y=df_long[['values']][df_long['var']==var_name]['values'],\n",
    "                        legendgroup='api', scalegroup='api', name='api',\n",
    "                        side='positive',\n",
    "                        line_color='blue')\n",
    "             )\n",
    "        # update characteristics shared by all traces\n",
    "        fig.update_traces(meanline_visible=True,\n",
    "                  box_visible=True) #scale violin plot area with total count\n",
    "        \n",
    "        # make background white; less cluttered\n",
    "        fig.update_layout(template=\"plotly_white\")\n",
    "        \n",
    "        fig.show()\n",
    "\n",
    "        #print description of figure\n",
    "        print(dictionary.get(var_name))"
   ]
  },
  {
   "cell_type": "code",
   "execution_count": 36,
   "metadata": {},
   "outputs": [
    {
     "data": {
      "application/vnd.plotly.v1+json": {
       "config": {
        "plotlyServerURL": "https://plot.ly"
       },
       "data": [
        {
         "box": {
          "visible": true
         },
         "jitter": 0.1,
         "legendgroup": "user data",
         "line": {
          "color": "lightseagreen"
         },
         "meanline": {
          "visible": true
         },
         "name": "user data",
         "pointpos": -0.5,
         "points": "all",
         "scalegroup": "user data",
         "side": "negative",
         "type": "violin",
         "x": [
          "aor",
          "aor",
          "aor",
          "aor",
          "aor",
          "aor",
          "aor",
          "aor",
          "aor",
          "aor",
          "aor",
          "aor",
          "aor",
          "aor",
          "aor",
          "aor",
          "aor",
          "aor",
          "aor",
          "aor"
         ],
         "y": [
          0.005563966666666667,
          0.0070132333333333356,
          0.0027773666666666666,
          0.0015902000000000002,
          0.008604066666666665,
          0.0015406333333333336,
          0.0023677333333333326,
          0.0019024333333333336,
          0.003331833333333333,
          0.0037095,
          0.0042573,
          0.002712933333333333,
          0.0023719666666666664,
          0.0015574333333333336,
          0.0012446666666666665,
          0.004152366666666667,
          0.0019132666666666668,
          0.004040866666666667,
          0.010396899999999995,
          0.004658266666666666
         ]
        },
        {
         "box": {
          "visible": true
         },
         "legendgroup": "api",
         "line": {
          "color": "blue"
         },
         "meanline": {
          "visible": true
         },
         "name": "api",
         "scalegroup": "api",
         "side": "positive",
         "type": "violin",
         "x": [
          "aor",
          "aor",
          "aor",
          "aor",
          "aor",
          "aor",
          "aor",
          "aor",
          "aor",
          "aor",
          "aor",
          "aor",
          "aor",
          "aor",
          "aor",
          "aor",
          "aor",
          "aor",
          "aor",
          "aor",
          "aor",
          "aor",
          "aor",
          "aor",
          "aor",
          "aor",
          "aor",
          "aor",
          "aor",
          "aor",
          "aor",
          "aor",
          "aor",
          "aor",
          "aor",
          "aor",
          "aor",
          "aor",
          "aor",
          "aor",
          "aor",
          "aor",
          "aor",
          "aor",
          "aor",
          "aor",
          "aor",
          "aor",
          "aor",
          "aor",
          "aor",
          "aor",
          "aor",
          "aor",
          "aor",
          "aor",
          "aor",
          "aor",
          "aor",
          "aor",
          "aor",
          "aor",
          "aor",
          "aor",
          "aor",
          "aor",
          "aor",
          "aor",
          "aor",
          "aor",
          "aor",
          "aor",
          "aor",
          "aor",
          "aor",
          "aor",
          "aor",
          "aor",
          "aor",
          "aor",
          "aor",
          "aor",
          "aor",
          "aor",
          "aor",
          "aor",
          "aor",
          "aor",
          "aor",
          "aor",
          "aor",
          "aor",
          "aor",
          "aor",
          "aor",
          "aor",
          "aor",
          "aor",
          "aor",
          "aor",
          "aor",
          "aor",
          "aor",
          "aor",
          "aor",
          "aor",
          "aor",
          "aor",
          "aor",
          "aor",
          "aor",
          "aor",
          "aor",
          "aor",
          "aor",
          "aor",
          "aor",
          "aor",
          "aor",
          "aor",
          "aor",
          "aor",
          "aor",
          "aor",
          "aor",
          "aor",
          "aor",
          "aor",
          "aor",
          "aor",
          "aor",
          "aor",
          "aor",
          "aor",
          "aor",
          "aor",
          "aor",
          "aor",
          "aor",
          "aor",
          "aor",
          "aor"
         ],
         "y": [
          0.0067451,
          0.0152278,
          0.0008609,
          0.0014997333333333332,
          0.011740433333333331,
          0.004733966666666667,
          0.04383886666666666,
          0.005688100000000001,
          0.0034167333333333326,
          0.0018422666666666665,
          0.0078912,
          0.0036896666666666666,
          0.006291733333333335,
          0.0025036,
          0.0016207666666666664,
          0.001715433333333333,
          0.0017146666666666664,
          0.0007540666666666668,
          0.009528333333333337,
          0.0032566,
          0.005563966666666667,
          0.0070132333333333356,
          0.0027773666666666666,
          0.0015902000000000002,
          0.008604066666666665,
          0.0015406333333333336,
          0.0023677333333333326,
          0.0019024333333333336,
          0.003331833333333333,
          0.0037095,
          0.0042573,
          0.002712933333333333,
          0.0023719666666666664,
          0.0015574333333333336,
          0.0012446666666666665,
          0.004152366666666667,
          0.0019132666666666668,
          0.004040866666666667,
          0.010396899999999995,
          0.004658266666666666,
          0.0010163333333333333,
          0.009493499999999998,
          0.0043885666666666654,
          0.0018349,
          0.0021795666666666667,
          0.0021063,
          0.0013475,
          0.0008533,
          0.0017258666666666667,
          0.0017961333333333333,
          0.0011037666666666667,
          0.0015459666666666667,
          0.004301600000000001,
          0.0024474,
          0.0017172,
          0.0124961,
          0.007733833333333333,
          0.0021394666666666663,
          0.010994266666666664,
          0.0018173666666666665,
          0.0010161333333333334,
          0.003517833333333333,
          0.0032825666666666674,
          0.0009503666666666664,
          0.0036376333333333335,
          0.015782233333333336,
          0.0019769333333333333,
          0.005579733333333333,
          0.0033280666666666674,
          0.008723833333333335,
          0.009054399999999999,
          0.0031118666666666663,
          0.0028285666666666666,
          0.006781799999999999,
          0.0015767666666666664,
          0.002001733333333333,
          0.0024551333333333327,
          0.006948322147651008,
          0.001142,
          0.008082366666666667,
          0.004410966666666667,
          0.0008451333333333332,
          0.0006008333333333334,
          0.0036318666666666655,
          0.004717433333333333,
          0.001791,
          0.008283333333333334,
          0.005163866666666666,
          0.0009466333333333332,
          0.003872133333333333,
          0.0032457,
          0.002001433333333333,
          0.0024641666666666666,
          0.0018020333333333331,
          0.025217066666666663,
          0.0020758666666666667,
          0.003746333333333333,
          0.0013466333333333337,
          0.0025481,
          0.0193138,
          0.0037661,
          0.0023854666666666665,
          0.0033749,
          0.0008279666666666668,
          0.0036664666666666665,
          0.0054865,
          0.010513766666666664,
          0.0016191666666666668,
          0.0023885666666666663,
          0.001231933333333333,
          0.0038532666666666673,
          0.0009053666666666668,
          0.0019136333333333328,
          0.0009015333333333334,
          0.002548333333333333,
          0.007061966666666667,
          0.0015091333333333331,
          0.0060264666666666675,
          0.0049832999999999995,
          0.0011082999999999998,
          0.0012381666666666665,
          0.0045531999999999994,
          0.0035933333333333342,
          0.0044152,
          0.002580266666666666,
          0.001535966666666667,
          0.017647700000000002,
          0.0042875,
          0.0027443000000000003,
          0.0033835666666666665,
          0.010676533333333335,
          0.003813666666666667,
          0.005523366666666667,
          0.001990533333333333,
          0.0056582666666666675,
          0.0022303,
          0.011134299999999998,
          0.002403233333333333,
          0.0019954666666666667,
          0.004883866666666667,
          0.0015825333333333333,
          0.010738166666666663
         ]
        }
       ],
       "layout": {
        "template": {
         "data": {
          "bar": [
           {
            "error_x": {
             "color": "#2a3f5f"
            },
            "error_y": {
             "color": "#2a3f5f"
            },
            "marker": {
             "line": {
              "color": "white",
              "width": 0.5
             }
            },
            "type": "bar"
           }
          ],
          "barpolar": [
           {
            "marker": {
             "line": {
              "color": "white",
              "width": 0.5
             }
            },
            "type": "barpolar"
           }
          ],
          "carpet": [
           {
            "aaxis": {
             "endlinecolor": "#2a3f5f",
             "gridcolor": "#C8D4E3",
             "linecolor": "#C8D4E3",
             "minorgridcolor": "#C8D4E3",
             "startlinecolor": "#2a3f5f"
            },
            "baxis": {
             "endlinecolor": "#2a3f5f",
             "gridcolor": "#C8D4E3",
             "linecolor": "#C8D4E3",
             "minorgridcolor": "#C8D4E3",
             "startlinecolor": "#2a3f5f"
            },
            "type": "carpet"
           }
          ],
          "choropleth": [
           {
            "colorbar": {
             "outlinewidth": 0,
             "ticks": ""
            },
            "type": "choropleth"
           }
          ],
          "contour": [
           {
            "colorbar": {
             "outlinewidth": 0,
             "ticks": ""
            },
            "colorscale": [
             [
              0,
              "#0d0887"
             ],
             [
              0.1111111111111111,
              "#46039f"
             ],
             [
              0.2222222222222222,
              "#7201a8"
             ],
             [
              0.3333333333333333,
              "#9c179e"
             ],
             [
              0.4444444444444444,
              "#bd3786"
             ],
             [
              0.5555555555555556,
              "#d8576b"
             ],
             [
              0.6666666666666666,
              "#ed7953"
             ],
             [
              0.7777777777777778,
              "#fb9f3a"
             ],
             [
              0.8888888888888888,
              "#fdca26"
             ],
             [
              1,
              "#f0f921"
             ]
            ],
            "type": "contour"
           }
          ],
          "contourcarpet": [
           {
            "colorbar": {
             "outlinewidth": 0,
             "ticks": ""
            },
            "type": "contourcarpet"
           }
          ],
          "heatmap": [
           {
            "colorbar": {
             "outlinewidth": 0,
             "ticks": ""
            },
            "colorscale": [
             [
              0,
              "#0d0887"
             ],
             [
              0.1111111111111111,
              "#46039f"
             ],
             [
              0.2222222222222222,
              "#7201a8"
             ],
             [
              0.3333333333333333,
              "#9c179e"
             ],
             [
              0.4444444444444444,
              "#bd3786"
             ],
             [
              0.5555555555555556,
              "#d8576b"
             ],
             [
              0.6666666666666666,
              "#ed7953"
             ],
             [
              0.7777777777777778,
              "#fb9f3a"
             ],
             [
              0.8888888888888888,
              "#fdca26"
             ],
             [
              1,
              "#f0f921"
             ]
            ],
            "type": "heatmap"
           }
          ],
          "heatmapgl": [
           {
            "colorbar": {
             "outlinewidth": 0,
             "ticks": ""
            },
            "colorscale": [
             [
              0,
              "#0d0887"
             ],
             [
              0.1111111111111111,
              "#46039f"
             ],
             [
              0.2222222222222222,
              "#7201a8"
             ],
             [
              0.3333333333333333,
              "#9c179e"
             ],
             [
              0.4444444444444444,
              "#bd3786"
             ],
             [
              0.5555555555555556,
              "#d8576b"
             ],
             [
              0.6666666666666666,
              "#ed7953"
             ],
             [
              0.7777777777777778,
              "#fb9f3a"
             ],
             [
              0.8888888888888888,
              "#fdca26"
             ],
             [
              1,
              "#f0f921"
             ]
            ],
            "type": "heatmapgl"
           }
          ],
          "histogram": [
           {
            "marker": {
             "colorbar": {
              "outlinewidth": 0,
              "ticks": ""
             }
            },
            "type": "histogram"
           }
          ],
          "histogram2d": [
           {
            "colorbar": {
             "outlinewidth": 0,
             "ticks": ""
            },
            "colorscale": [
             [
              0,
              "#0d0887"
             ],
             [
              0.1111111111111111,
              "#46039f"
             ],
             [
              0.2222222222222222,
              "#7201a8"
             ],
             [
              0.3333333333333333,
              "#9c179e"
             ],
             [
              0.4444444444444444,
              "#bd3786"
             ],
             [
              0.5555555555555556,
              "#d8576b"
             ],
             [
              0.6666666666666666,
              "#ed7953"
             ],
             [
              0.7777777777777778,
              "#fb9f3a"
             ],
             [
              0.8888888888888888,
              "#fdca26"
             ],
             [
              1,
              "#f0f921"
             ]
            ],
            "type": "histogram2d"
           }
          ],
          "histogram2dcontour": [
           {
            "colorbar": {
             "outlinewidth": 0,
             "ticks": ""
            },
            "colorscale": [
             [
              0,
              "#0d0887"
             ],
             [
              0.1111111111111111,
              "#46039f"
             ],
             [
              0.2222222222222222,
              "#7201a8"
             ],
             [
              0.3333333333333333,
              "#9c179e"
             ],
             [
              0.4444444444444444,
              "#bd3786"
             ],
             [
              0.5555555555555556,
              "#d8576b"
             ],
             [
              0.6666666666666666,
              "#ed7953"
             ],
             [
              0.7777777777777778,
              "#fb9f3a"
             ],
             [
              0.8888888888888888,
              "#fdca26"
             ],
             [
              1,
              "#f0f921"
             ]
            ],
            "type": "histogram2dcontour"
           }
          ],
          "mesh3d": [
           {
            "colorbar": {
             "outlinewidth": 0,
             "ticks": ""
            },
            "type": "mesh3d"
           }
          ],
          "parcoords": [
           {
            "line": {
             "colorbar": {
              "outlinewidth": 0,
              "ticks": ""
             }
            },
            "type": "parcoords"
           }
          ],
          "scatter": [
           {
            "marker": {
             "colorbar": {
              "outlinewidth": 0,
              "ticks": ""
             }
            },
            "type": "scatter"
           }
          ],
          "scatter3d": [
           {
            "line": {
             "colorbar": {
              "outlinewidth": 0,
              "ticks": ""
             }
            },
            "marker": {
             "colorbar": {
              "outlinewidth": 0,
              "ticks": ""
             }
            },
            "type": "scatter3d"
           }
          ],
          "scattercarpet": [
           {
            "marker": {
             "colorbar": {
              "outlinewidth": 0,
              "ticks": ""
             }
            },
            "type": "scattercarpet"
           }
          ],
          "scattergeo": [
           {
            "marker": {
             "colorbar": {
              "outlinewidth": 0,
              "ticks": ""
             }
            },
            "type": "scattergeo"
           }
          ],
          "scattergl": [
           {
            "marker": {
             "colorbar": {
              "outlinewidth": 0,
              "ticks": ""
             }
            },
            "type": "scattergl"
           }
          ],
          "scattermapbox": [
           {
            "marker": {
             "colorbar": {
              "outlinewidth": 0,
              "ticks": ""
             }
            },
            "type": "scattermapbox"
           }
          ],
          "scatterpolar": [
           {
            "marker": {
             "colorbar": {
              "outlinewidth": 0,
              "ticks": ""
             }
            },
            "type": "scatterpolar"
           }
          ],
          "scatterpolargl": [
           {
            "marker": {
             "colorbar": {
              "outlinewidth": 0,
              "ticks": ""
             }
            },
            "type": "scatterpolargl"
           }
          ],
          "scatterternary": [
           {
            "marker": {
             "colorbar": {
              "outlinewidth": 0,
              "ticks": ""
             }
            },
            "type": "scatterternary"
           }
          ],
          "surface": [
           {
            "colorbar": {
             "outlinewidth": 0,
             "ticks": ""
            },
            "colorscale": [
             [
              0,
              "#0d0887"
             ],
             [
              0.1111111111111111,
              "#46039f"
             ],
             [
              0.2222222222222222,
              "#7201a8"
             ],
             [
              0.3333333333333333,
              "#9c179e"
             ],
             [
              0.4444444444444444,
              "#bd3786"
             ],
             [
              0.5555555555555556,
              "#d8576b"
             ],
             [
              0.6666666666666666,
              "#ed7953"
             ],
             [
              0.7777777777777778,
              "#fb9f3a"
             ],
             [
              0.8888888888888888,
              "#fdca26"
             ],
             [
              1,
              "#f0f921"
             ]
            ],
            "type": "surface"
           }
          ],
          "table": [
           {
            "cells": {
             "fill": {
              "color": "#EBF0F8"
             },
             "line": {
              "color": "white"
             }
            },
            "header": {
             "fill": {
              "color": "#C8D4E3"
             },
             "line": {
              "color": "white"
             }
            },
            "type": "table"
           }
          ]
         },
         "layout": {
          "annotationdefaults": {
           "arrowcolor": "#2a3f5f",
           "arrowhead": 0,
           "arrowwidth": 1
          },
          "colorscale": {
           "diverging": [
            [
             0,
             "#8e0152"
            ],
            [
             0.1,
             "#c51b7d"
            ],
            [
             0.2,
             "#de77ae"
            ],
            [
             0.3,
             "#f1b6da"
            ],
            [
             0.4,
             "#fde0ef"
            ],
            [
             0.5,
             "#f7f7f7"
            ],
            [
             0.6,
             "#e6f5d0"
            ],
            [
             0.7,
             "#b8e186"
            ],
            [
             0.8,
             "#7fbc41"
            ],
            [
             0.9,
             "#4d9221"
            ],
            [
             1,
             "#276419"
            ]
           ],
           "sequential": [
            [
             0,
             "#0d0887"
            ],
            [
             0.1111111111111111,
             "#46039f"
            ],
            [
             0.2222222222222222,
             "#7201a8"
            ],
            [
             0.3333333333333333,
             "#9c179e"
            ],
            [
             0.4444444444444444,
             "#bd3786"
            ],
            [
             0.5555555555555556,
             "#d8576b"
            ],
            [
             0.6666666666666666,
             "#ed7953"
            ],
            [
             0.7777777777777778,
             "#fb9f3a"
            ],
            [
             0.8888888888888888,
             "#fdca26"
            ],
            [
             1,
             "#f0f921"
            ]
           ],
           "sequentialminus": [
            [
             0,
             "#0d0887"
            ],
            [
             0.1111111111111111,
             "#46039f"
            ],
            [
             0.2222222222222222,
             "#7201a8"
            ],
            [
             0.3333333333333333,
             "#9c179e"
            ],
            [
             0.4444444444444444,
             "#bd3786"
            ],
            [
             0.5555555555555556,
             "#d8576b"
            ],
            [
             0.6666666666666666,
             "#ed7953"
            ],
            [
             0.7777777777777778,
             "#fb9f3a"
            ],
            [
             0.8888888888888888,
             "#fdca26"
            ],
            [
             1,
             "#f0f921"
            ]
           ]
          },
          "colorway": [
           "#636efa",
           "#EF553B",
           "#00cc96",
           "#ab63fa",
           "#FFA15A",
           "#19d3f3",
           "#FF6692",
           "#B6E880",
           "#FF97FF",
           "#FECB52"
          ],
          "font": {
           "color": "#2a3f5f"
          },
          "geo": {
           "bgcolor": "white",
           "lakecolor": "white",
           "landcolor": "white",
           "showlakes": true,
           "showland": true,
           "subunitcolor": "#C8D4E3"
          },
          "hoverlabel": {
           "align": "left"
          },
          "hovermode": "closest",
          "mapbox": {
           "style": "light"
          },
          "paper_bgcolor": "white",
          "plot_bgcolor": "white",
          "polar": {
           "angularaxis": {
            "gridcolor": "#EBF0F8",
            "linecolor": "#EBF0F8",
            "ticks": ""
           },
           "bgcolor": "white",
           "radialaxis": {
            "gridcolor": "#EBF0F8",
            "linecolor": "#EBF0F8",
            "ticks": ""
           }
          },
          "scene": {
           "xaxis": {
            "backgroundcolor": "white",
            "gridcolor": "#DFE8F3",
            "gridwidth": 2,
            "linecolor": "#EBF0F8",
            "showbackground": true,
            "ticks": "",
            "zerolinecolor": "#EBF0F8"
           },
           "yaxis": {
            "backgroundcolor": "white",
            "gridcolor": "#DFE8F3",
            "gridwidth": 2,
            "linecolor": "#EBF0F8",
            "showbackground": true,
            "ticks": "",
            "zerolinecolor": "#EBF0F8"
           },
           "zaxis": {
            "backgroundcolor": "white",
            "gridcolor": "#DFE8F3",
            "gridwidth": 2,
            "linecolor": "#EBF0F8",
            "showbackground": true,
            "ticks": "",
            "zerolinecolor": "#EBF0F8"
           }
          },
          "shapedefaults": {
           "line": {
            "color": "#2a3f5f"
           }
          },
          "ternary": {
           "aaxis": {
            "gridcolor": "#DFE8F3",
            "linecolor": "#A2B1C6",
            "ticks": ""
           },
           "baxis": {
            "gridcolor": "#DFE8F3",
            "linecolor": "#A2B1C6",
            "ticks": ""
           },
           "bgcolor": "white",
           "caxis": {
            "gridcolor": "#DFE8F3",
            "linecolor": "#A2B1C6",
            "ticks": ""
           }
          },
          "title": {
           "x": 0.05
          },
          "xaxis": {
           "automargin": true,
           "gridcolor": "#EBF0F8",
           "linecolor": "#EBF0F8",
           "ticks": "",
           "zerolinecolor": "#EBF0F8",
           "zerolinewidth": 2
          },
          "yaxis": {
           "automargin": true,
           "gridcolor": "#EBF0F8",
           "linecolor": "#EBF0F8",
           "ticks": "",
           "zerolinecolor": "#EBF0F8",
           "zerolinewidth": 2
          }
         }
        }
       }
      },
      "text/html": [
       "<div>\n",
       "        \n",
       "        \n",
       "            <div id=\"bb3ddcea-b198-4433-b35c-f0e9bc106929\" class=\"plotly-graph-div\" style=\"height:525px; width:100%;\"></div>\n",
       "            <script type=\"text/javascript\">\n",
       "                require([\"plotly\"], function(Plotly) {\n",
       "                    window.PLOTLYENV=window.PLOTLYENV || {};\n",
       "                    \n",
       "                if (document.getElementById(\"bb3ddcea-b198-4433-b35c-f0e9bc106929\")) {\n",
       "                    Plotly.newPlot(\n",
       "                        'bb3ddcea-b198-4433-b35c-f0e9bc106929',\n",
       "                        [{\"box\": {\"visible\": true}, \"jitter\": 0.1, \"legendgroup\": \"user data\", \"line\": {\"color\": \"lightseagreen\"}, \"meanline\": {\"visible\": true}, \"name\": \"user data\", \"pointpos\": -0.5, \"points\": \"all\", \"scalegroup\": \"user data\", \"side\": \"negative\", \"type\": \"violin\", \"x\": [\"aor\", \"aor\", \"aor\", \"aor\", \"aor\", \"aor\", \"aor\", \"aor\", \"aor\", \"aor\", \"aor\", \"aor\", \"aor\", \"aor\", \"aor\", \"aor\", \"aor\", \"aor\", \"aor\", \"aor\"], \"y\": [0.005563966666666667, 0.0070132333333333356, 0.0027773666666666666, 0.0015902000000000002, 0.008604066666666665, 0.0015406333333333336, 0.0023677333333333326, 0.0019024333333333336, 0.003331833333333333, 0.0037095, 0.0042573, 0.002712933333333333, 0.0023719666666666664, 0.0015574333333333336, 0.0012446666666666665, 0.004152366666666667, 0.0019132666666666668, 0.004040866666666667, 0.010396899999999995, 0.004658266666666666]}, {\"box\": {\"visible\": true}, \"legendgroup\": \"api\", \"line\": {\"color\": \"blue\"}, \"meanline\": {\"visible\": true}, \"name\": \"api\", \"scalegroup\": \"api\", \"side\": \"positive\", \"type\": \"violin\", \"x\": [\"aor\", \"aor\", \"aor\", \"aor\", \"aor\", \"aor\", \"aor\", \"aor\", \"aor\", \"aor\", \"aor\", \"aor\", \"aor\", \"aor\", \"aor\", \"aor\", \"aor\", \"aor\", \"aor\", \"aor\", \"aor\", \"aor\", \"aor\", \"aor\", \"aor\", \"aor\", \"aor\", \"aor\", \"aor\", \"aor\", \"aor\", \"aor\", \"aor\", \"aor\", \"aor\", \"aor\", \"aor\", \"aor\", \"aor\", \"aor\", \"aor\", \"aor\", \"aor\", \"aor\", \"aor\", \"aor\", \"aor\", \"aor\", \"aor\", \"aor\", \"aor\", \"aor\", \"aor\", \"aor\", \"aor\", \"aor\", \"aor\", \"aor\", \"aor\", \"aor\", \"aor\", \"aor\", \"aor\", \"aor\", \"aor\", \"aor\", \"aor\", \"aor\", \"aor\", \"aor\", \"aor\", \"aor\", \"aor\", \"aor\", \"aor\", \"aor\", \"aor\", \"aor\", \"aor\", \"aor\", \"aor\", \"aor\", \"aor\", \"aor\", \"aor\", \"aor\", \"aor\", \"aor\", \"aor\", \"aor\", \"aor\", \"aor\", \"aor\", \"aor\", \"aor\", \"aor\", \"aor\", \"aor\", \"aor\", \"aor\", \"aor\", \"aor\", \"aor\", \"aor\", \"aor\", \"aor\", \"aor\", \"aor\", \"aor\", \"aor\", \"aor\", \"aor\", \"aor\", \"aor\", \"aor\", \"aor\", \"aor\", \"aor\", \"aor\", \"aor\", \"aor\", \"aor\", \"aor\", \"aor\", \"aor\", \"aor\", \"aor\", \"aor\", \"aor\", \"aor\", \"aor\", \"aor\", \"aor\", \"aor\", \"aor\", \"aor\", \"aor\", \"aor\", \"aor\", \"aor\", \"aor\", \"aor\"], \"y\": [0.0067451, 0.0152278, 0.0008609, 0.0014997333333333332, 0.011740433333333331, 0.004733966666666667, 0.04383886666666666, 0.005688100000000001, 0.0034167333333333326, 0.0018422666666666665, 0.0078912, 0.0036896666666666666, 0.006291733333333335, 0.0025036, 0.0016207666666666664, 0.001715433333333333, 0.0017146666666666664, 0.0007540666666666668, 0.009528333333333337, 0.0032566, 0.005563966666666667, 0.0070132333333333356, 0.0027773666666666666, 0.0015902000000000002, 0.008604066666666665, 0.0015406333333333336, 0.0023677333333333326, 0.0019024333333333336, 0.003331833333333333, 0.0037095, 0.0042573, 0.002712933333333333, 0.0023719666666666664, 0.0015574333333333336, 0.0012446666666666665, 0.004152366666666667, 0.0019132666666666668, 0.004040866666666667, 0.010396899999999995, 0.004658266666666666, 0.0010163333333333333, 0.009493499999999998, 0.0043885666666666654, 0.0018349, 0.0021795666666666667, 0.0021063, 0.0013475, 0.0008533, 0.0017258666666666667, 0.0017961333333333333, 0.0011037666666666667, 0.0015459666666666667, 0.004301600000000001, 0.0024474, 0.0017172, 0.0124961, 0.007733833333333333, 0.0021394666666666663, 0.010994266666666664, 0.0018173666666666665, 0.0010161333333333334, 0.003517833333333333, 0.0032825666666666674, 0.0009503666666666664, 0.0036376333333333335, 0.015782233333333336, 0.0019769333333333333, 0.005579733333333333, 0.0033280666666666674, 0.008723833333333335, 0.009054399999999999, 0.0031118666666666663, 0.0028285666666666666, 0.006781799999999999, 0.0015767666666666664, 0.002001733333333333, 0.0024551333333333327, 0.006948322147651008, 0.001142, 0.008082366666666667, 0.004410966666666667, 0.0008451333333333332, 0.0006008333333333334, 0.0036318666666666655, 0.004717433333333333, 0.001791, 0.008283333333333334, 0.005163866666666666, 0.0009466333333333332, 0.003872133333333333, 0.0032457, 0.002001433333333333, 0.0024641666666666666, 0.0018020333333333331, 0.025217066666666663, 0.0020758666666666667, 0.003746333333333333, 0.0013466333333333337, 0.0025481, 0.0193138, 0.0037661, 0.0023854666666666665, 0.0033749, 0.0008279666666666668, 0.0036664666666666665, 0.0054865, 0.010513766666666664, 0.0016191666666666668, 0.0023885666666666663, 0.001231933333333333, 0.0038532666666666673, 0.0009053666666666668, 0.0019136333333333328, 0.0009015333333333334, 0.002548333333333333, 0.007061966666666667, 0.0015091333333333331, 0.0060264666666666675, 0.0049832999999999995, 0.0011082999999999998, 0.0012381666666666665, 0.0045531999999999994, 0.0035933333333333342, 0.0044152, 0.002580266666666666, 0.001535966666666667, 0.017647700000000002, 0.0042875, 0.0027443000000000003, 0.0033835666666666665, 0.010676533333333335, 0.003813666666666667, 0.005523366666666667, 0.001990533333333333, 0.0056582666666666675, 0.0022303, 0.011134299999999998, 0.002403233333333333, 0.0019954666666666667, 0.004883866666666667, 0.0015825333333333333, 0.010738166666666663]}],\n",
       "                        {\"template\": {\"data\": {\"bar\": [{\"error_x\": {\"color\": \"#2a3f5f\"}, \"error_y\": {\"color\": \"#2a3f5f\"}, \"marker\": {\"line\": {\"color\": \"white\", \"width\": 0.5}}, \"type\": \"bar\"}], \"barpolar\": [{\"marker\": {\"line\": {\"color\": \"white\", \"width\": 0.5}}, \"type\": \"barpolar\"}], \"carpet\": [{\"aaxis\": {\"endlinecolor\": \"#2a3f5f\", \"gridcolor\": \"#C8D4E3\", \"linecolor\": \"#C8D4E3\", \"minorgridcolor\": \"#C8D4E3\", \"startlinecolor\": \"#2a3f5f\"}, \"baxis\": {\"endlinecolor\": \"#2a3f5f\", \"gridcolor\": \"#C8D4E3\", \"linecolor\": \"#C8D4E3\", \"minorgridcolor\": \"#C8D4E3\", \"startlinecolor\": \"#2a3f5f\"}, \"type\": \"carpet\"}], \"choropleth\": [{\"colorbar\": {\"outlinewidth\": 0, \"ticks\": \"\"}, \"type\": \"choropleth\"}], \"contour\": [{\"colorbar\": {\"outlinewidth\": 0, \"ticks\": \"\"}, \"colorscale\": [[0.0, \"#0d0887\"], [0.1111111111111111, \"#46039f\"], [0.2222222222222222, \"#7201a8\"], [0.3333333333333333, \"#9c179e\"], [0.4444444444444444, \"#bd3786\"], [0.5555555555555556, \"#d8576b\"], [0.6666666666666666, \"#ed7953\"], [0.7777777777777778, \"#fb9f3a\"], [0.8888888888888888, \"#fdca26\"], [1.0, \"#f0f921\"]], \"type\": \"contour\"}], \"contourcarpet\": [{\"colorbar\": {\"outlinewidth\": 0, \"ticks\": \"\"}, \"type\": \"contourcarpet\"}], \"heatmap\": [{\"colorbar\": {\"outlinewidth\": 0, \"ticks\": \"\"}, \"colorscale\": [[0.0, \"#0d0887\"], [0.1111111111111111, \"#46039f\"], [0.2222222222222222, \"#7201a8\"], [0.3333333333333333, \"#9c179e\"], [0.4444444444444444, \"#bd3786\"], [0.5555555555555556, \"#d8576b\"], [0.6666666666666666, \"#ed7953\"], [0.7777777777777778, \"#fb9f3a\"], [0.8888888888888888, \"#fdca26\"], [1.0, \"#f0f921\"]], \"type\": \"heatmap\"}], \"heatmapgl\": [{\"colorbar\": {\"outlinewidth\": 0, \"ticks\": \"\"}, \"colorscale\": [[0.0, \"#0d0887\"], [0.1111111111111111, \"#46039f\"], [0.2222222222222222, \"#7201a8\"], [0.3333333333333333, \"#9c179e\"], [0.4444444444444444, \"#bd3786\"], [0.5555555555555556, \"#d8576b\"], [0.6666666666666666, \"#ed7953\"], [0.7777777777777778, \"#fb9f3a\"], [0.8888888888888888, \"#fdca26\"], [1.0, \"#f0f921\"]], \"type\": \"heatmapgl\"}], \"histogram\": [{\"marker\": {\"colorbar\": {\"outlinewidth\": 0, \"ticks\": \"\"}}, \"type\": \"histogram\"}], \"histogram2d\": [{\"colorbar\": {\"outlinewidth\": 0, \"ticks\": \"\"}, \"colorscale\": [[0.0, \"#0d0887\"], [0.1111111111111111, \"#46039f\"], [0.2222222222222222, \"#7201a8\"], [0.3333333333333333, \"#9c179e\"], [0.4444444444444444, \"#bd3786\"], [0.5555555555555556, \"#d8576b\"], [0.6666666666666666, \"#ed7953\"], [0.7777777777777778, \"#fb9f3a\"], [0.8888888888888888, \"#fdca26\"], [1.0, \"#f0f921\"]], \"type\": \"histogram2d\"}], \"histogram2dcontour\": [{\"colorbar\": {\"outlinewidth\": 0, \"ticks\": \"\"}, \"colorscale\": [[0.0, \"#0d0887\"], [0.1111111111111111, \"#46039f\"], [0.2222222222222222, \"#7201a8\"], [0.3333333333333333, \"#9c179e\"], [0.4444444444444444, \"#bd3786\"], [0.5555555555555556, \"#d8576b\"], [0.6666666666666666, \"#ed7953\"], [0.7777777777777778, \"#fb9f3a\"], [0.8888888888888888, \"#fdca26\"], [1.0, \"#f0f921\"]], \"type\": \"histogram2dcontour\"}], \"mesh3d\": [{\"colorbar\": {\"outlinewidth\": 0, \"ticks\": \"\"}, \"type\": \"mesh3d\"}], \"parcoords\": [{\"line\": {\"colorbar\": {\"outlinewidth\": 0, \"ticks\": \"\"}}, \"type\": \"parcoords\"}], \"scatter\": [{\"marker\": {\"colorbar\": {\"outlinewidth\": 0, \"ticks\": \"\"}}, \"type\": \"scatter\"}], \"scatter3d\": [{\"line\": {\"colorbar\": {\"outlinewidth\": 0, \"ticks\": \"\"}}, \"marker\": {\"colorbar\": {\"outlinewidth\": 0, \"ticks\": \"\"}}, \"type\": \"scatter3d\"}], \"scattercarpet\": [{\"marker\": {\"colorbar\": {\"outlinewidth\": 0, \"ticks\": \"\"}}, \"type\": \"scattercarpet\"}], \"scattergeo\": [{\"marker\": {\"colorbar\": {\"outlinewidth\": 0, \"ticks\": \"\"}}, \"type\": \"scattergeo\"}], \"scattergl\": [{\"marker\": {\"colorbar\": {\"outlinewidth\": 0, \"ticks\": \"\"}}, \"type\": \"scattergl\"}], \"scattermapbox\": [{\"marker\": {\"colorbar\": {\"outlinewidth\": 0, \"ticks\": \"\"}}, \"type\": \"scattermapbox\"}], \"scatterpolar\": [{\"marker\": {\"colorbar\": {\"outlinewidth\": 0, \"ticks\": \"\"}}, \"type\": \"scatterpolar\"}], \"scatterpolargl\": [{\"marker\": {\"colorbar\": {\"outlinewidth\": 0, \"ticks\": \"\"}}, \"type\": \"scatterpolargl\"}], \"scatterternary\": [{\"marker\": {\"colorbar\": {\"outlinewidth\": 0, \"ticks\": \"\"}}, \"type\": \"scatterternary\"}], \"surface\": [{\"colorbar\": {\"outlinewidth\": 0, \"ticks\": \"\"}, \"colorscale\": [[0.0, \"#0d0887\"], [0.1111111111111111, \"#46039f\"], [0.2222222222222222, \"#7201a8\"], [0.3333333333333333, \"#9c179e\"], [0.4444444444444444, \"#bd3786\"], [0.5555555555555556, \"#d8576b\"], [0.6666666666666666, \"#ed7953\"], [0.7777777777777778, \"#fb9f3a\"], [0.8888888888888888, \"#fdca26\"], [1.0, \"#f0f921\"]], \"type\": \"surface\"}], \"table\": [{\"cells\": {\"fill\": {\"color\": \"#EBF0F8\"}, \"line\": {\"color\": \"white\"}}, \"header\": {\"fill\": {\"color\": \"#C8D4E3\"}, \"line\": {\"color\": \"white\"}}, \"type\": \"table\"}]}, \"layout\": {\"annotationdefaults\": {\"arrowcolor\": \"#2a3f5f\", \"arrowhead\": 0, \"arrowwidth\": 1}, \"colorscale\": {\"diverging\": [[0, \"#8e0152\"], [0.1, \"#c51b7d\"], [0.2, \"#de77ae\"], [0.3, \"#f1b6da\"], [0.4, \"#fde0ef\"], [0.5, \"#f7f7f7\"], [0.6, \"#e6f5d0\"], [0.7, \"#b8e186\"], [0.8, \"#7fbc41\"], [0.9, \"#4d9221\"], [1, \"#276419\"]], \"sequential\": [[0.0, \"#0d0887\"], [0.1111111111111111, \"#46039f\"], [0.2222222222222222, \"#7201a8\"], [0.3333333333333333, \"#9c179e\"], [0.4444444444444444, \"#bd3786\"], [0.5555555555555556, \"#d8576b\"], [0.6666666666666666, \"#ed7953\"], [0.7777777777777778, \"#fb9f3a\"], [0.8888888888888888, \"#fdca26\"], [1.0, \"#f0f921\"]], \"sequentialminus\": [[0.0, \"#0d0887\"], [0.1111111111111111, \"#46039f\"], [0.2222222222222222, \"#7201a8\"], [0.3333333333333333, \"#9c179e\"], [0.4444444444444444, \"#bd3786\"], [0.5555555555555556, \"#d8576b\"], [0.6666666666666666, \"#ed7953\"], [0.7777777777777778, \"#fb9f3a\"], [0.8888888888888888, \"#fdca26\"], [1.0, \"#f0f921\"]]}, \"colorway\": [\"#636efa\", \"#EF553B\", \"#00cc96\", \"#ab63fa\", \"#FFA15A\", \"#19d3f3\", \"#FF6692\", \"#B6E880\", \"#FF97FF\", \"#FECB52\"], \"font\": {\"color\": \"#2a3f5f\"}, \"geo\": {\"bgcolor\": \"white\", \"lakecolor\": \"white\", \"landcolor\": \"white\", \"showlakes\": true, \"showland\": true, \"subunitcolor\": \"#C8D4E3\"}, \"hoverlabel\": {\"align\": \"left\"}, \"hovermode\": \"closest\", \"mapbox\": {\"style\": \"light\"}, \"paper_bgcolor\": \"white\", \"plot_bgcolor\": \"white\", \"polar\": {\"angularaxis\": {\"gridcolor\": \"#EBF0F8\", \"linecolor\": \"#EBF0F8\", \"ticks\": \"\"}, \"bgcolor\": \"white\", \"radialaxis\": {\"gridcolor\": \"#EBF0F8\", \"linecolor\": \"#EBF0F8\", \"ticks\": \"\"}}, \"scene\": {\"xaxis\": {\"backgroundcolor\": \"white\", \"gridcolor\": \"#DFE8F3\", \"gridwidth\": 2, \"linecolor\": \"#EBF0F8\", \"showbackground\": true, \"ticks\": \"\", \"zerolinecolor\": \"#EBF0F8\"}, \"yaxis\": {\"backgroundcolor\": \"white\", \"gridcolor\": \"#DFE8F3\", \"gridwidth\": 2, \"linecolor\": \"#EBF0F8\", \"showbackground\": true, \"ticks\": \"\", \"zerolinecolor\": \"#EBF0F8\"}, \"zaxis\": {\"backgroundcolor\": \"white\", \"gridcolor\": \"#DFE8F3\", \"gridwidth\": 2, \"linecolor\": \"#EBF0F8\", \"showbackground\": true, \"ticks\": \"\", \"zerolinecolor\": \"#EBF0F8\"}}, \"shapedefaults\": {\"line\": {\"color\": \"#2a3f5f\"}}, \"ternary\": {\"aaxis\": {\"gridcolor\": \"#DFE8F3\", \"linecolor\": \"#A2B1C6\", \"ticks\": \"\"}, \"baxis\": {\"gridcolor\": \"#DFE8F3\", \"linecolor\": \"#A2B1C6\", \"ticks\": \"\"}, \"bgcolor\": \"white\", \"caxis\": {\"gridcolor\": \"#DFE8F3\", \"linecolor\": \"#A2B1C6\", \"ticks\": \"\"}}, \"title\": {\"x\": 0.05}, \"xaxis\": {\"automargin\": true, \"gridcolor\": \"#EBF0F8\", \"linecolor\": \"#EBF0F8\", \"ticks\": \"\", \"zerolinecolor\": \"#EBF0F8\", \"zerolinewidth\": 2}, \"yaxis\": {\"automargin\": true, \"gridcolor\": \"#EBF0F8\", \"linecolor\": \"#EBF0F8\", \"ticks\": \"\", \"zerolinecolor\": \"#EBF0F8\", \"zerolinewidth\": 2}}}},\n",
       "                        {\"responsive\": true}\n",
       "                    ).then(function(){\n",
       "                            \n",
       "var gd = document.getElementById('bb3ddcea-b198-4433-b35c-f0e9bc106929');\n",
       "var x = new MutationObserver(function (mutations, observer) {{\n",
       "        var display = window.getComputedStyle(gd).display;\n",
       "        if (!display || display === 'none') {{\n",
       "            console.log([gd, 'removed!']);\n",
       "            Plotly.purge(gd);\n",
       "            observer.disconnect();\n",
       "        }}\n",
       "}});\n",
       "\n",
       "// Listen for the removal of the full notebook cells\n",
       "var notebookContainer = gd.closest('#notebook-container');\n",
       "if (notebookContainer) {{\n",
       "    x.observe(notebookContainer, {childList: true});\n",
       "}}\n",
       "\n",
       "// Listen for the clearing of the current output cell\n",
       "var outputEl = gd.closest('.output');\n",
       "if (outputEl) {{\n",
       "    x.observe(outputEl, {childList: true});\n",
       "}}\n",
       "\n",
       "                        })\n",
       "                };\n",
       "                });\n",
       "            </script>\n",
       "        </div>"
      ]
     },
     "metadata": {},
     "output_type": "display_data"
    },
    {
     "name": "stdout",
     "output_type": "stream",
     "text": [
      "Description: Coefficient of joint variation between white matter and gray matter.\n",
      "Quality: lower values are better.\n"
     ]
    },
    {
     "data": {
      "application/vnd.plotly.v1+json": {
       "config": {
        "plotlyServerURL": "https://plot.ly"
       },
       "data": [
        {
         "box": {
          "visible": true
         },
         "jitter": 0.1,
         "legendgroup": "user data",
         "line": {
          "color": "lightseagreen"
         },
         "meanline": {
          "visible": true
         },
         "name": "user data",
         "pointpos": -0.5,
         "points": "all",
         "scalegroup": "user data",
         "side": "negative",
         "type": "violin",
         "x": [
          "aqi",
          "aqi",
          "aqi",
          "aqi",
          "aqi",
          "aqi",
          "aqi",
          "aqi",
          "aqi",
          "aqi",
          "aqi",
          "aqi",
          "aqi",
          "aqi",
          "aqi",
          "aqi",
          "aqi",
          "aqi",
          "aqi",
          "aqi"
         ],
         "y": [
          0.011049955833333331,
          0.038561429,
          0.0144980991,
          0.009501953366666666,
          0.021255180466666662,
          0.0064228207999999995,
          0.013902493033333334,
          0.010484029133333336,
          0.020056869600000003,
          0.0129321009,
          0.011490996399999998,
          0.009482369266666664,
          0.007057638900000001,
          0.0056207795999999996,
          0.0045219815,
          0.010127894266666668,
          0.008626194366666666,
          0.0061463570333333325,
          0.01257103606666667,
          0.0126407258
         ]
        },
        {
         "box": {
          "visible": true
         },
         "legendgroup": "api",
         "line": {
          "color": "blue"
         },
         "meanline": {
          "visible": true
         },
         "name": "api",
         "scalegroup": "api",
         "side": "positive",
         "type": "violin",
         "x": [
          "aqi",
          "aqi",
          "aqi",
          "aqi",
          "aqi",
          "aqi",
          "aqi",
          "aqi",
          "aqi",
          "aqi",
          "aqi",
          "aqi",
          "aqi",
          "aqi",
          "aqi",
          "aqi",
          "aqi",
          "aqi",
          "aqi",
          "aqi",
          "aqi",
          "aqi",
          "aqi",
          "aqi",
          "aqi",
          "aqi",
          "aqi",
          "aqi",
          "aqi",
          "aqi",
          "aqi",
          "aqi",
          "aqi",
          "aqi",
          "aqi",
          "aqi",
          "aqi",
          "aqi",
          "aqi",
          "aqi",
          "aqi",
          "aqi",
          "aqi",
          "aqi",
          "aqi",
          "aqi",
          "aqi",
          "aqi",
          "aqi",
          "aqi",
          "aqi",
          "aqi",
          "aqi",
          "aqi",
          "aqi",
          "aqi",
          "aqi",
          "aqi",
          "aqi",
          "aqi",
          "aqi",
          "aqi",
          "aqi",
          "aqi",
          "aqi",
          "aqi",
          "aqi",
          "aqi",
          "aqi",
          "aqi",
          "aqi",
          "aqi",
          "aqi",
          "aqi",
          "aqi",
          "aqi",
          "aqi",
          "aqi",
          "aqi",
          "aqi",
          "aqi",
          "aqi",
          "aqi",
          "aqi",
          "aqi",
          "aqi",
          "aqi",
          "aqi",
          "aqi",
          "aqi",
          "aqi",
          "aqi",
          "aqi",
          "aqi",
          "aqi",
          "aqi",
          "aqi",
          "aqi",
          "aqi",
          "aqi",
          "aqi",
          "aqi",
          "aqi",
          "aqi",
          "aqi",
          "aqi",
          "aqi",
          "aqi",
          "aqi",
          "aqi",
          "aqi",
          "aqi",
          "aqi",
          "aqi",
          "aqi",
          "aqi",
          "aqi",
          "aqi",
          "aqi",
          "aqi",
          "aqi",
          "aqi",
          "aqi",
          "aqi",
          "aqi",
          "aqi",
          "aqi",
          "aqi",
          "aqi",
          "aqi",
          "aqi",
          "aqi",
          "aqi",
          "aqi",
          "aqi",
          "aqi",
          "aqi",
          "aqi",
          "aqi",
          "aqi",
          "aqi",
          "aqi"
         ],
         "y": [
          0.011519372966666669,
          0.02330820126666667,
          0.007070814966666667,
          0.006214233166666665,
          0.014392374333333334,
          0.009746132133333332,
          0.0778064497,
          0.011707405099999998,
          0.0072644146666666675,
          0.0082425206,
          0.0265079577,
          0.0185008746,
          0.013123099999999999,
          0.02131246706666667,
          0.005271639999999999,
          0.012640938300000001,
          0.0077938200333333325,
          0.009151887666666669,
          0.027185554100000002,
          0.0063406604333333325,
          0.011049955833333331,
          0.038561429,
          0.0144980991,
          0.009501953366666666,
          0.021255180466666662,
          0.0064228207999999995,
          0.013902493033333334,
          0.010484029133333336,
          0.020056869600000003,
          0.0129321009,
          0.011490996399999998,
          0.009482369266666664,
          0.007057638900000001,
          0.0056207795999999996,
          0.0045219815,
          0.010127894266666668,
          0.008626194366666666,
          0.0061463570333333325,
          0.01257103606666667,
          0.0126407258,
          0.011760112733333331,
          0.024248434300000003,
          0.033646644,
          0.013519138799999999,
          0.00904606026666667,
          0.00973923936666667,
          0.009956370833333334,
          0.007715615233333333,
          0.0102105142,
          0.009433878233333332,
          0.0072999917,
          0.004525677033333334,
          0.06851072799999999,
          0.027089366900000002,
          0.013133918666666666,
          0.0376451664,
          0.011115110800000001,
          0.0061507867333333325,
          0.06352795066666668,
          0.008665696733333332,
          0.015419998866666666,
          0.01951293063333333,
          0.0365800296,
          0.010204709533333332,
          0.013065450066666666,
          0.019283703200000002,
          0.008643709233333335,
          0.012887677433333331,
          0.0231018872,
          0.013100900800000002,
          0.01789842643333333,
          0.0119129749,
          0.0145341783,
          0.012205358,
          0.013619436399999999,
          0.0087113061,
          0.010691946133333331,
          0.016772009127516776,
          0.007041695733333335,
          0.009841936899999999,
          0.008673658666666667,
          0.011735403933333331,
          0.011196174666666666,
          0.009821367866666668,
          0.0108050194,
          0.011417447066666666,
          0.0322938246,
          0.0112186712,
          0.006883111166666665,
          0.007614740699999998,
          0.0076467545333333345,
          0.009161017500000002,
          0.012714625166666669,
          0.011387370600000002,
          0.05687804923333334,
          0.007937673866666667,
          0.010015425166666665,
          0.005233598,
          0.0077179797666666675,
          0.07430273273333332,
          0.017720472533333337,
          0.0073870252,
          0.016735023833333338,
          0.008015526700000001,
          0.034956010299999986,
          0.01605757203333334,
          0.012655167266666666,
          0.004790054666666666,
          0.008974451133333332,
          0.011719073966666669,
          0.013741263966666669,
          0.009458463733333332,
          0.007389346333333331,
          0.008511530699999999,
          0.0064505284,
          0.012908284366666665,
          0.012477789166666666,
          0.012341903866666669,
          0.0094860501,
          0.004977959400000001,
          0.0064649480333333325,
          0.02169098106666667,
          0.026280303999999997,
          0.008587242566666667,
          0.005053097566666667,
          0.02331958233333333,
          0.01855982046666667,
          0.01609583426666666,
          0.01152953586666667,
          0.030638216,
          0.01615229136666667,
          0.012444197933333331,
          0.036785589,
          0.011183201033333331,
          0.015466845766666666,
          0.006818871066666666,
          0.013517166166666664,
          0.010772848733333331,
          0.010576549566666666,
          0.033824267000000005,
          0.0046433322333333344,
          0.023151364566666662
         ]
        }
       ],
       "layout": {
        "template": {
         "data": {
          "bar": [
           {
            "error_x": {
             "color": "#2a3f5f"
            },
            "error_y": {
             "color": "#2a3f5f"
            },
            "marker": {
             "line": {
              "color": "white",
              "width": 0.5
             }
            },
            "type": "bar"
           }
          ],
          "barpolar": [
           {
            "marker": {
             "line": {
              "color": "white",
              "width": 0.5
             }
            },
            "type": "barpolar"
           }
          ],
          "carpet": [
           {
            "aaxis": {
             "endlinecolor": "#2a3f5f",
             "gridcolor": "#C8D4E3",
             "linecolor": "#C8D4E3",
             "minorgridcolor": "#C8D4E3",
             "startlinecolor": "#2a3f5f"
            },
            "baxis": {
             "endlinecolor": "#2a3f5f",
             "gridcolor": "#C8D4E3",
             "linecolor": "#C8D4E3",
             "minorgridcolor": "#C8D4E3",
             "startlinecolor": "#2a3f5f"
            },
            "type": "carpet"
           }
          ],
          "choropleth": [
           {
            "colorbar": {
             "outlinewidth": 0,
             "ticks": ""
            },
            "type": "choropleth"
           }
          ],
          "contour": [
           {
            "colorbar": {
             "outlinewidth": 0,
             "ticks": ""
            },
            "colorscale": [
             [
              0,
              "#0d0887"
             ],
             [
              0.1111111111111111,
              "#46039f"
             ],
             [
              0.2222222222222222,
              "#7201a8"
             ],
             [
              0.3333333333333333,
              "#9c179e"
             ],
             [
              0.4444444444444444,
              "#bd3786"
             ],
             [
              0.5555555555555556,
              "#d8576b"
             ],
             [
              0.6666666666666666,
              "#ed7953"
             ],
             [
              0.7777777777777778,
              "#fb9f3a"
             ],
             [
              0.8888888888888888,
              "#fdca26"
             ],
             [
              1,
              "#f0f921"
             ]
            ],
            "type": "contour"
           }
          ],
          "contourcarpet": [
           {
            "colorbar": {
             "outlinewidth": 0,
             "ticks": ""
            },
            "type": "contourcarpet"
           }
          ],
          "heatmap": [
           {
            "colorbar": {
             "outlinewidth": 0,
             "ticks": ""
            },
            "colorscale": [
             [
              0,
              "#0d0887"
             ],
             [
              0.1111111111111111,
              "#46039f"
             ],
             [
              0.2222222222222222,
              "#7201a8"
             ],
             [
              0.3333333333333333,
              "#9c179e"
             ],
             [
              0.4444444444444444,
              "#bd3786"
             ],
             [
              0.5555555555555556,
              "#d8576b"
             ],
             [
              0.6666666666666666,
              "#ed7953"
             ],
             [
              0.7777777777777778,
              "#fb9f3a"
             ],
             [
              0.8888888888888888,
              "#fdca26"
             ],
             [
              1,
              "#f0f921"
             ]
            ],
            "type": "heatmap"
           }
          ],
          "heatmapgl": [
           {
            "colorbar": {
             "outlinewidth": 0,
             "ticks": ""
            },
            "colorscale": [
             [
              0,
              "#0d0887"
             ],
             [
              0.1111111111111111,
              "#46039f"
             ],
             [
              0.2222222222222222,
              "#7201a8"
             ],
             [
              0.3333333333333333,
              "#9c179e"
             ],
             [
              0.4444444444444444,
              "#bd3786"
             ],
             [
              0.5555555555555556,
              "#d8576b"
             ],
             [
              0.6666666666666666,
              "#ed7953"
             ],
             [
              0.7777777777777778,
              "#fb9f3a"
             ],
             [
              0.8888888888888888,
              "#fdca26"
             ],
             [
              1,
              "#f0f921"
             ]
            ],
            "type": "heatmapgl"
           }
          ],
          "histogram": [
           {
            "marker": {
             "colorbar": {
              "outlinewidth": 0,
              "ticks": ""
             }
            },
            "type": "histogram"
           }
          ],
          "histogram2d": [
           {
            "colorbar": {
             "outlinewidth": 0,
             "ticks": ""
            },
            "colorscale": [
             [
              0,
              "#0d0887"
             ],
             [
              0.1111111111111111,
              "#46039f"
             ],
             [
              0.2222222222222222,
              "#7201a8"
             ],
             [
              0.3333333333333333,
              "#9c179e"
             ],
             [
              0.4444444444444444,
              "#bd3786"
             ],
             [
              0.5555555555555556,
              "#d8576b"
             ],
             [
              0.6666666666666666,
              "#ed7953"
             ],
             [
              0.7777777777777778,
              "#fb9f3a"
             ],
             [
              0.8888888888888888,
              "#fdca26"
             ],
             [
              1,
              "#f0f921"
             ]
            ],
            "type": "histogram2d"
           }
          ],
          "histogram2dcontour": [
           {
            "colorbar": {
             "outlinewidth": 0,
             "ticks": ""
            },
            "colorscale": [
             [
              0,
              "#0d0887"
             ],
             [
              0.1111111111111111,
              "#46039f"
             ],
             [
              0.2222222222222222,
              "#7201a8"
             ],
             [
              0.3333333333333333,
              "#9c179e"
             ],
             [
              0.4444444444444444,
              "#bd3786"
             ],
             [
              0.5555555555555556,
              "#d8576b"
             ],
             [
              0.6666666666666666,
              "#ed7953"
             ],
             [
              0.7777777777777778,
              "#fb9f3a"
             ],
             [
              0.8888888888888888,
              "#fdca26"
             ],
             [
              1,
              "#f0f921"
             ]
            ],
            "type": "histogram2dcontour"
           }
          ],
          "mesh3d": [
           {
            "colorbar": {
             "outlinewidth": 0,
             "ticks": ""
            },
            "type": "mesh3d"
           }
          ],
          "parcoords": [
           {
            "line": {
             "colorbar": {
              "outlinewidth": 0,
              "ticks": ""
             }
            },
            "type": "parcoords"
           }
          ],
          "scatter": [
           {
            "marker": {
             "colorbar": {
              "outlinewidth": 0,
              "ticks": ""
             }
            },
            "type": "scatter"
           }
          ],
          "scatter3d": [
           {
            "line": {
             "colorbar": {
              "outlinewidth": 0,
              "ticks": ""
             }
            },
            "marker": {
             "colorbar": {
              "outlinewidth": 0,
              "ticks": ""
             }
            },
            "type": "scatter3d"
           }
          ],
          "scattercarpet": [
           {
            "marker": {
             "colorbar": {
              "outlinewidth": 0,
              "ticks": ""
             }
            },
            "type": "scattercarpet"
           }
          ],
          "scattergeo": [
           {
            "marker": {
             "colorbar": {
              "outlinewidth": 0,
              "ticks": ""
             }
            },
            "type": "scattergeo"
           }
          ],
          "scattergl": [
           {
            "marker": {
             "colorbar": {
              "outlinewidth": 0,
              "ticks": ""
             }
            },
            "type": "scattergl"
           }
          ],
          "scattermapbox": [
           {
            "marker": {
             "colorbar": {
              "outlinewidth": 0,
              "ticks": ""
             }
            },
            "type": "scattermapbox"
           }
          ],
          "scatterpolar": [
           {
            "marker": {
             "colorbar": {
              "outlinewidth": 0,
              "ticks": ""
             }
            },
            "type": "scatterpolar"
           }
          ],
          "scatterpolargl": [
           {
            "marker": {
             "colorbar": {
              "outlinewidth": 0,
              "ticks": ""
             }
            },
            "type": "scatterpolargl"
           }
          ],
          "scatterternary": [
           {
            "marker": {
             "colorbar": {
              "outlinewidth": 0,
              "ticks": ""
             }
            },
            "type": "scatterternary"
           }
          ],
          "surface": [
           {
            "colorbar": {
             "outlinewidth": 0,
             "ticks": ""
            },
            "colorscale": [
             [
              0,
              "#0d0887"
             ],
             [
              0.1111111111111111,
              "#46039f"
             ],
             [
              0.2222222222222222,
              "#7201a8"
             ],
             [
              0.3333333333333333,
              "#9c179e"
             ],
             [
              0.4444444444444444,
              "#bd3786"
             ],
             [
              0.5555555555555556,
              "#d8576b"
             ],
             [
              0.6666666666666666,
              "#ed7953"
             ],
             [
              0.7777777777777778,
              "#fb9f3a"
             ],
             [
              0.8888888888888888,
              "#fdca26"
             ],
             [
              1,
              "#f0f921"
             ]
            ],
            "type": "surface"
           }
          ],
          "table": [
           {
            "cells": {
             "fill": {
              "color": "#EBF0F8"
             },
             "line": {
              "color": "white"
             }
            },
            "header": {
             "fill": {
              "color": "#C8D4E3"
             },
             "line": {
              "color": "white"
             }
            },
            "type": "table"
           }
          ]
         },
         "layout": {
          "annotationdefaults": {
           "arrowcolor": "#2a3f5f",
           "arrowhead": 0,
           "arrowwidth": 1
          },
          "colorscale": {
           "diverging": [
            [
             0,
             "#8e0152"
            ],
            [
             0.1,
             "#c51b7d"
            ],
            [
             0.2,
             "#de77ae"
            ],
            [
             0.3,
             "#f1b6da"
            ],
            [
             0.4,
             "#fde0ef"
            ],
            [
             0.5,
             "#f7f7f7"
            ],
            [
             0.6,
             "#e6f5d0"
            ],
            [
             0.7,
             "#b8e186"
            ],
            [
             0.8,
             "#7fbc41"
            ],
            [
             0.9,
             "#4d9221"
            ],
            [
             1,
             "#276419"
            ]
           ],
           "sequential": [
            [
             0,
             "#0d0887"
            ],
            [
             0.1111111111111111,
             "#46039f"
            ],
            [
             0.2222222222222222,
             "#7201a8"
            ],
            [
             0.3333333333333333,
             "#9c179e"
            ],
            [
             0.4444444444444444,
             "#bd3786"
            ],
            [
             0.5555555555555556,
             "#d8576b"
            ],
            [
             0.6666666666666666,
             "#ed7953"
            ],
            [
             0.7777777777777778,
             "#fb9f3a"
            ],
            [
             0.8888888888888888,
             "#fdca26"
            ],
            [
             1,
             "#f0f921"
            ]
           ],
           "sequentialminus": [
            [
             0,
             "#0d0887"
            ],
            [
             0.1111111111111111,
             "#46039f"
            ],
            [
             0.2222222222222222,
             "#7201a8"
            ],
            [
             0.3333333333333333,
             "#9c179e"
            ],
            [
             0.4444444444444444,
             "#bd3786"
            ],
            [
             0.5555555555555556,
             "#d8576b"
            ],
            [
             0.6666666666666666,
             "#ed7953"
            ],
            [
             0.7777777777777778,
             "#fb9f3a"
            ],
            [
             0.8888888888888888,
             "#fdca26"
            ],
            [
             1,
             "#f0f921"
            ]
           ]
          },
          "colorway": [
           "#636efa",
           "#EF553B",
           "#00cc96",
           "#ab63fa",
           "#FFA15A",
           "#19d3f3",
           "#FF6692",
           "#B6E880",
           "#FF97FF",
           "#FECB52"
          ],
          "font": {
           "color": "#2a3f5f"
          },
          "geo": {
           "bgcolor": "white",
           "lakecolor": "white",
           "landcolor": "white",
           "showlakes": true,
           "showland": true,
           "subunitcolor": "#C8D4E3"
          },
          "hoverlabel": {
           "align": "left"
          },
          "hovermode": "closest",
          "mapbox": {
           "style": "light"
          },
          "paper_bgcolor": "white",
          "plot_bgcolor": "white",
          "polar": {
           "angularaxis": {
            "gridcolor": "#EBF0F8",
            "linecolor": "#EBF0F8",
            "ticks": ""
           },
           "bgcolor": "white",
           "radialaxis": {
            "gridcolor": "#EBF0F8",
            "linecolor": "#EBF0F8",
            "ticks": ""
           }
          },
          "scene": {
           "xaxis": {
            "backgroundcolor": "white",
            "gridcolor": "#DFE8F3",
            "gridwidth": 2,
            "linecolor": "#EBF0F8",
            "showbackground": true,
            "ticks": "",
            "zerolinecolor": "#EBF0F8"
           },
           "yaxis": {
            "backgroundcolor": "white",
            "gridcolor": "#DFE8F3",
            "gridwidth": 2,
            "linecolor": "#EBF0F8",
            "showbackground": true,
            "ticks": "",
            "zerolinecolor": "#EBF0F8"
           },
           "zaxis": {
            "backgroundcolor": "white",
            "gridcolor": "#DFE8F3",
            "gridwidth": 2,
            "linecolor": "#EBF0F8",
            "showbackground": true,
            "ticks": "",
            "zerolinecolor": "#EBF0F8"
           }
          },
          "shapedefaults": {
           "line": {
            "color": "#2a3f5f"
           }
          },
          "ternary": {
           "aaxis": {
            "gridcolor": "#DFE8F3",
            "linecolor": "#A2B1C6",
            "ticks": ""
           },
           "baxis": {
            "gridcolor": "#DFE8F3",
            "linecolor": "#A2B1C6",
            "ticks": ""
           },
           "bgcolor": "white",
           "caxis": {
            "gridcolor": "#DFE8F3",
            "linecolor": "#A2B1C6",
            "ticks": ""
           }
          },
          "title": {
           "x": 0.05
          },
          "xaxis": {
           "automargin": true,
           "gridcolor": "#EBF0F8",
           "linecolor": "#EBF0F8",
           "ticks": "",
           "zerolinecolor": "#EBF0F8",
           "zerolinewidth": 2
          },
          "yaxis": {
           "automargin": true,
           "gridcolor": "#EBF0F8",
           "linecolor": "#EBF0F8",
           "ticks": "",
           "zerolinecolor": "#EBF0F8",
           "zerolinewidth": 2
          }
         }
        }
       }
      },
      "text/html": [
       "<div>\n",
       "        \n",
       "        \n",
       "            <div id=\"35802782-1ed2-4712-9d52-7c41c23dd10a\" class=\"plotly-graph-div\" style=\"height:525px; width:100%;\"></div>\n",
       "            <script type=\"text/javascript\">\n",
       "                require([\"plotly\"], function(Plotly) {\n",
       "                    window.PLOTLYENV=window.PLOTLYENV || {};\n",
       "                    \n",
       "                if (document.getElementById(\"35802782-1ed2-4712-9d52-7c41c23dd10a\")) {\n",
       "                    Plotly.newPlot(\n",
       "                        '35802782-1ed2-4712-9d52-7c41c23dd10a',\n",
       "                        [{\"box\": {\"visible\": true}, \"jitter\": 0.1, \"legendgroup\": \"user data\", \"line\": {\"color\": \"lightseagreen\"}, \"meanline\": {\"visible\": true}, \"name\": \"user data\", \"pointpos\": -0.5, \"points\": \"all\", \"scalegroup\": \"user data\", \"side\": \"negative\", \"type\": \"violin\", \"x\": [\"aqi\", \"aqi\", \"aqi\", \"aqi\", \"aqi\", \"aqi\", \"aqi\", \"aqi\", \"aqi\", \"aqi\", \"aqi\", \"aqi\", \"aqi\", \"aqi\", \"aqi\", \"aqi\", \"aqi\", \"aqi\", \"aqi\", \"aqi\"], \"y\": [0.011049955833333331, 0.038561429, 0.0144980991, 0.009501953366666666, 0.021255180466666662, 0.0064228207999999995, 0.013902493033333334, 0.010484029133333336, 0.020056869600000003, 0.0129321009, 0.011490996399999998, 0.009482369266666664, 0.007057638900000001, 0.0056207795999999996, 0.0045219815, 0.010127894266666668, 0.008626194366666666, 0.0061463570333333325, 0.01257103606666667, 0.0126407258]}, {\"box\": {\"visible\": true}, \"legendgroup\": \"api\", \"line\": {\"color\": \"blue\"}, \"meanline\": {\"visible\": true}, \"name\": \"api\", \"scalegroup\": \"api\", \"side\": \"positive\", \"type\": \"violin\", \"x\": [\"aqi\", \"aqi\", \"aqi\", \"aqi\", \"aqi\", \"aqi\", \"aqi\", \"aqi\", \"aqi\", \"aqi\", \"aqi\", \"aqi\", \"aqi\", \"aqi\", \"aqi\", \"aqi\", \"aqi\", \"aqi\", \"aqi\", \"aqi\", \"aqi\", \"aqi\", \"aqi\", \"aqi\", \"aqi\", \"aqi\", \"aqi\", \"aqi\", \"aqi\", \"aqi\", \"aqi\", \"aqi\", \"aqi\", \"aqi\", \"aqi\", \"aqi\", \"aqi\", \"aqi\", \"aqi\", \"aqi\", \"aqi\", \"aqi\", \"aqi\", \"aqi\", \"aqi\", \"aqi\", \"aqi\", \"aqi\", \"aqi\", \"aqi\", \"aqi\", \"aqi\", \"aqi\", \"aqi\", \"aqi\", \"aqi\", \"aqi\", \"aqi\", \"aqi\", \"aqi\", \"aqi\", \"aqi\", \"aqi\", \"aqi\", \"aqi\", \"aqi\", \"aqi\", \"aqi\", \"aqi\", \"aqi\", \"aqi\", \"aqi\", \"aqi\", \"aqi\", \"aqi\", \"aqi\", \"aqi\", \"aqi\", \"aqi\", \"aqi\", \"aqi\", \"aqi\", \"aqi\", \"aqi\", \"aqi\", \"aqi\", \"aqi\", \"aqi\", \"aqi\", \"aqi\", \"aqi\", \"aqi\", \"aqi\", \"aqi\", \"aqi\", \"aqi\", \"aqi\", \"aqi\", \"aqi\", \"aqi\", \"aqi\", \"aqi\", \"aqi\", \"aqi\", \"aqi\", \"aqi\", \"aqi\", \"aqi\", \"aqi\", \"aqi\", \"aqi\", \"aqi\", \"aqi\", \"aqi\", \"aqi\", \"aqi\", \"aqi\", \"aqi\", \"aqi\", \"aqi\", \"aqi\", \"aqi\", \"aqi\", \"aqi\", \"aqi\", \"aqi\", \"aqi\", \"aqi\", \"aqi\", \"aqi\", \"aqi\", \"aqi\", \"aqi\", \"aqi\", \"aqi\", \"aqi\", \"aqi\", \"aqi\", \"aqi\", \"aqi\", \"aqi\", \"aqi\"], \"y\": [0.011519372966666669, 0.02330820126666667, 0.007070814966666667, 0.006214233166666665, 0.014392374333333334, 0.009746132133333332, 0.0778064497, 0.011707405099999998, 0.0072644146666666675, 0.0082425206, 0.0265079577, 0.0185008746, 0.013123099999999999, 0.02131246706666667, 0.005271639999999999, 0.012640938300000001, 0.0077938200333333325, 0.009151887666666669, 0.027185554100000002, 0.0063406604333333325, 0.011049955833333331, 0.038561429, 0.0144980991, 0.009501953366666666, 0.021255180466666662, 0.0064228207999999995, 0.013902493033333334, 0.010484029133333336, 0.020056869600000003, 0.0129321009, 0.011490996399999998, 0.009482369266666664, 0.007057638900000001, 0.0056207795999999996, 0.0045219815, 0.010127894266666668, 0.008626194366666666, 0.0061463570333333325, 0.01257103606666667, 0.0126407258, 0.011760112733333331, 0.024248434300000003, 0.033646644, 0.013519138799999999, 0.00904606026666667, 0.00973923936666667, 0.009956370833333334, 0.007715615233333333, 0.0102105142, 0.009433878233333332, 0.0072999917, 0.004525677033333334, 0.06851072799999999, 0.027089366900000002, 0.013133918666666666, 0.0376451664, 0.011115110800000001, 0.0061507867333333325, 0.06352795066666668, 0.008665696733333332, 0.015419998866666666, 0.01951293063333333, 0.0365800296, 0.010204709533333332, 0.013065450066666666, 0.019283703200000002, 0.008643709233333335, 0.012887677433333331, 0.0231018872, 0.013100900800000002, 0.01789842643333333, 0.0119129749, 0.0145341783, 0.012205358, 0.013619436399999999, 0.0087113061, 0.010691946133333331, 0.016772009127516776, 0.007041695733333335, 0.009841936899999999, 0.008673658666666667, 0.011735403933333331, 0.011196174666666666, 0.009821367866666668, 0.0108050194, 0.011417447066666666, 0.0322938246, 0.0112186712, 0.006883111166666665, 0.007614740699999998, 0.0076467545333333345, 0.009161017500000002, 0.012714625166666669, 0.011387370600000002, 0.05687804923333334, 0.007937673866666667, 0.010015425166666665, 0.005233598, 0.0077179797666666675, 0.07430273273333332, 0.017720472533333337, 0.0073870252, 0.016735023833333338, 0.008015526700000001, 0.034956010299999986, 0.01605757203333334, 0.012655167266666666, 0.004790054666666666, 0.008974451133333332, 0.011719073966666669, 0.013741263966666669, 0.009458463733333332, 0.007389346333333331, 0.008511530699999999, 0.0064505284, 0.012908284366666665, 0.012477789166666666, 0.012341903866666669, 0.0094860501, 0.004977959400000001, 0.0064649480333333325, 0.02169098106666667, 0.026280303999999997, 0.008587242566666667, 0.005053097566666667, 0.02331958233333333, 0.01855982046666667, 0.01609583426666666, 0.01152953586666667, 0.030638216, 0.01615229136666667, 0.012444197933333331, 0.036785589, 0.011183201033333331, 0.015466845766666666, 0.006818871066666666, 0.013517166166666664, 0.010772848733333331, 0.010576549566666666, 0.033824267000000005, 0.0046433322333333344, 0.023151364566666662]}],\n",
       "                        {\"template\": {\"data\": {\"bar\": [{\"error_x\": {\"color\": \"#2a3f5f\"}, \"error_y\": {\"color\": \"#2a3f5f\"}, \"marker\": {\"line\": {\"color\": \"white\", \"width\": 0.5}}, \"type\": \"bar\"}], \"barpolar\": [{\"marker\": {\"line\": {\"color\": \"white\", \"width\": 0.5}}, \"type\": \"barpolar\"}], \"carpet\": [{\"aaxis\": {\"endlinecolor\": \"#2a3f5f\", \"gridcolor\": \"#C8D4E3\", \"linecolor\": \"#C8D4E3\", \"minorgridcolor\": \"#C8D4E3\", \"startlinecolor\": \"#2a3f5f\"}, \"baxis\": {\"endlinecolor\": \"#2a3f5f\", \"gridcolor\": \"#C8D4E3\", \"linecolor\": \"#C8D4E3\", \"minorgridcolor\": \"#C8D4E3\", \"startlinecolor\": \"#2a3f5f\"}, \"type\": \"carpet\"}], \"choropleth\": [{\"colorbar\": {\"outlinewidth\": 0, \"ticks\": \"\"}, \"type\": \"choropleth\"}], \"contour\": [{\"colorbar\": {\"outlinewidth\": 0, \"ticks\": \"\"}, \"colorscale\": [[0.0, \"#0d0887\"], [0.1111111111111111, \"#46039f\"], [0.2222222222222222, \"#7201a8\"], [0.3333333333333333, \"#9c179e\"], [0.4444444444444444, \"#bd3786\"], [0.5555555555555556, \"#d8576b\"], [0.6666666666666666, \"#ed7953\"], [0.7777777777777778, \"#fb9f3a\"], [0.8888888888888888, \"#fdca26\"], [1.0, \"#f0f921\"]], \"type\": \"contour\"}], \"contourcarpet\": [{\"colorbar\": {\"outlinewidth\": 0, \"ticks\": \"\"}, \"type\": \"contourcarpet\"}], \"heatmap\": [{\"colorbar\": {\"outlinewidth\": 0, \"ticks\": \"\"}, \"colorscale\": [[0.0, \"#0d0887\"], [0.1111111111111111, \"#46039f\"], [0.2222222222222222, \"#7201a8\"], [0.3333333333333333, \"#9c179e\"], [0.4444444444444444, \"#bd3786\"], [0.5555555555555556, \"#d8576b\"], [0.6666666666666666, \"#ed7953\"], [0.7777777777777778, \"#fb9f3a\"], [0.8888888888888888, \"#fdca26\"], [1.0, \"#f0f921\"]], \"type\": \"heatmap\"}], \"heatmapgl\": [{\"colorbar\": {\"outlinewidth\": 0, \"ticks\": \"\"}, \"colorscale\": [[0.0, \"#0d0887\"], [0.1111111111111111, \"#46039f\"], [0.2222222222222222, \"#7201a8\"], [0.3333333333333333, \"#9c179e\"], [0.4444444444444444, \"#bd3786\"], [0.5555555555555556, \"#d8576b\"], [0.6666666666666666, \"#ed7953\"], [0.7777777777777778, \"#fb9f3a\"], [0.8888888888888888, \"#fdca26\"], [1.0, \"#f0f921\"]], \"type\": \"heatmapgl\"}], \"histogram\": [{\"marker\": {\"colorbar\": {\"outlinewidth\": 0, \"ticks\": \"\"}}, \"type\": \"histogram\"}], \"histogram2d\": [{\"colorbar\": {\"outlinewidth\": 0, \"ticks\": \"\"}, \"colorscale\": [[0.0, \"#0d0887\"], [0.1111111111111111, \"#46039f\"], [0.2222222222222222, \"#7201a8\"], [0.3333333333333333, \"#9c179e\"], [0.4444444444444444, \"#bd3786\"], [0.5555555555555556, \"#d8576b\"], [0.6666666666666666, \"#ed7953\"], [0.7777777777777778, \"#fb9f3a\"], [0.8888888888888888, \"#fdca26\"], [1.0, \"#f0f921\"]], \"type\": \"histogram2d\"}], \"histogram2dcontour\": [{\"colorbar\": {\"outlinewidth\": 0, \"ticks\": \"\"}, \"colorscale\": [[0.0, \"#0d0887\"], [0.1111111111111111, \"#46039f\"], [0.2222222222222222, \"#7201a8\"], [0.3333333333333333, \"#9c179e\"], [0.4444444444444444, \"#bd3786\"], [0.5555555555555556, \"#d8576b\"], [0.6666666666666666, \"#ed7953\"], [0.7777777777777778, \"#fb9f3a\"], [0.8888888888888888, \"#fdca26\"], [1.0, \"#f0f921\"]], \"type\": \"histogram2dcontour\"}], \"mesh3d\": [{\"colorbar\": {\"outlinewidth\": 0, \"ticks\": \"\"}, \"type\": \"mesh3d\"}], \"parcoords\": [{\"line\": {\"colorbar\": {\"outlinewidth\": 0, \"ticks\": \"\"}}, \"type\": \"parcoords\"}], \"scatter\": [{\"marker\": {\"colorbar\": {\"outlinewidth\": 0, \"ticks\": \"\"}}, \"type\": \"scatter\"}], \"scatter3d\": [{\"line\": {\"colorbar\": {\"outlinewidth\": 0, \"ticks\": \"\"}}, \"marker\": {\"colorbar\": {\"outlinewidth\": 0, \"ticks\": \"\"}}, \"type\": \"scatter3d\"}], \"scattercarpet\": [{\"marker\": {\"colorbar\": {\"outlinewidth\": 0, \"ticks\": \"\"}}, \"type\": \"scattercarpet\"}], \"scattergeo\": [{\"marker\": {\"colorbar\": {\"outlinewidth\": 0, \"ticks\": \"\"}}, \"type\": \"scattergeo\"}], \"scattergl\": [{\"marker\": {\"colorbar\": {\"outlinewidth\": 0, \"ticks\": \"\"}}, \"type\": \"scattergl\"}], \"scattermapbox\": [{\"marker\": {\"colorbar\": {\"outlinewidth\": 0, \"ticks\": \"\"}}, \"type\": \"scattermapbox\"}], \"scatterpolar\": [{\"marker\": {\"colorbar\": {\"outlinewidth\": 0, \"ticks\": \"\"}}, \"type\": \"scatterpolar\"}], \"scatterpolargl\": [{\"marker\": {\"colorbar\": {\"outlinewidth\": 0, \"ticks\": \"\"}}, \"type\": \"scatterpolargl\"}], \"scatterternary\": [{\"marker\": {\"colorbar\": {\"outlinewidth\": 0, \"ticks\": \"\"}}, \"type\": \"scatterternary\"}], \"surface\": [{\"colorbar\": {\"outlinewidth\": 0, \"ticks\": \"\"}, \"colorscale\": [[0.0, \"#0d0887\"], [0.1111111111111111, \"#46039f\"], [0.2222222222222222, \"#7201a8\"], [0.3333333333333333, \"#9c179e\"], [0.4444444444444444, \"#bd3786\"], [0.5555555555555556, \"#d8576b\"], [0.6666666666666666, \"#ed7953\"], [0.7777777777777778, \"#fb9f3a\"], [0.8888888888888888, \"#fdca26\"], [1.0, \"#f0f921\"]], \"type\": \"surface\"}], \"table\": [{\"cells\": {\"fill\": {\"color\": \"#EBF0F8\"}, \"line\": {\"color\": \"white\"}}, \"header\": {\"fill\": {\"color\": \"#C8D4E3\"}, \"line\": {\"color\": \"white\"}}, \"type\": \"table\"}]}, \"layout\": {\"annotationdefaults\": {\"arrowcolor\": \"#2a3f5f\", \"arrowhead\": 0, \"arrowwidth\": 1}, \"colorscale\": {\"diverging\": [[0, \"#8e0152\"], [0.1, \"#c51b7d\"], [0.2, \"#de77ae\"], [0.3, \"#f1b6da\"], [0.4, \"#fde0ef\"], [0.5, \"#f7f7f7\"], [0.6, \"#e6f5d0\"], [0.7, \"#b8e186\"], [0.8, \"#7fbc41\"], [0.9, \"#4d9221\"], [1, \"#276419\"]], \"sequential\": [[0.0, \"#0d0887\"], [0.1111111111111111, \"#46039f\"], [0.2222222222222222, \"#7201a8\"], [0.3333333333333333, \"#9c179e\"], [0.4444444444444444, \"#bd3786\"], [0.5555555555555556, \"#d8576b\"], [0.6666666666666666, \"#ed7953\"], [0.7777777777777778, \"#fb9f3a\"], [0.8888888888888888, \"#fdca26\"], [1.0, \"#f0f921\"]], \"sequentialminus\": [[0.0, \"#0d0887\"], [0.1111111111111111, \"#46039f\"], [0.2222222222222222, \"#7201a8\"], [0.3333333333333333, \"#9c179e\"], [0.4444444444444444, \"#bd3786\"], [0.5555555555555556, \"#d8576b\"], [0.6666666666666666, \"#ed7953\"], [0.7777777777777778, \"#fb9f3a\"], [0.8888888888888888, \"#fdca26\"], [1.0, \"#f0f921\"]]}, \"colorway\": [\"#636efa\", \"#EF553B\", \"#00cc96\", \"#ab63fa\", \"#FFA15A\", \"#19d3f3\", \"#FF6692\", \"#B6E880\", \"#FF97FF\", \"#FECB52\"], \"font\": {\"color\": \"#2a3f5f\"}, \"geo\": {\"bgcolor\": \"white\", \"lakecolor\": \"white\", \"landcolor\": \"white\", \"showlakes\": true, \"showland\": true, \"subunitcolor\": \"#C8D4E3\"}, \"hoverlabel\": {\"align\": \"left\"}, \"hovermode\": \"closest\", \"mapbox\": {\"style\": \"light\"}, \"paper_bgcolor\": \"white\", \"plot_bgcolor\": \"white\", \"polar\": {\"angularaxis\": {\"gridcolor\": \"#EBF0F8\", \"linecolor\": \"#EBF0F8\", \"ticks\": \"\"}, \"bgcolor\": \"white\", \"radialaxis\": {\"gridcolor\": \"#EBF0F8\", \"linecolor\": \"#EBF0F8\", \"ticks\": \"\"}}, \"scene\": {\"xaxis\": {\"backgroundcolor\": \"white\", \"gridcolor\": \"#DFE8F3\", \"gridwidth\": 2, \"linecolor\": \"#EBF0F8\", \"showbackground\": true, \"ticks\": \"\", \"zerolinecolor\": \"#EBF0F8\"}, \"yaxis\": {\"backgroundcolor\": \"white\", \"gridcolor\": \"#DFE8F3\", \"gridwidth\": 2, \"linecolor\": \"#EBF0F8\", \"showbackground\": true, \"ticks\": \"\", \"zerolinecolor\": \"#EBF0F8\"}, \"zaxis\": {\"backgroundcolor\": \"white\", \"gridcolor\": \"#DFE8F3\", \"gridwidth\": 2, \"linecolor\": \"#EBF0F8\", \"showbackground\": true, \"ticks\": \"\", \"zerolinecolor\": \"#EBF0F8\"}}, \"shapedefaults\": {\"line\": {\"color\": \"#2a3f5f\"}}, \"ternary\": {\"aaxis\": {\"gridcolor\": \"#DFE8F3\", \"linecolor\": \"#A2B1C6\", \"ticks\": \"\"}, \"baxis\": {\"gridcolor\": \"#DFE8F3\", \"linecolor\": \"#A2B1C6\", \"ticks\": \"\"}, \"bgcolor\": \"white\", \"caxis\": {\"gridcolor\": \"#DFE8F3\", \"linecolor\": \"#A2B1C6\", \"ticks\": \"\"}}, \"title\": {\"x\": 0.05}, \"xaxis\": {\"automargin\": true, \"gridcolor\": \"#EBF0F8\", \"linecolor\": \"#EBF0F8\", \"ticks\": \"\", \"zerolinecolor\": \"#EBF0F8\", \"zerolinewidth\": 2}, \"yaxis\": {\"automargin\": true, \"gridcolor\": \"#EBF0F8\", \"linecolor\": \"#EBF0F8\", \"ticks\": \"\", \"zerolinecolor\": \"#EBF0F8\", \"zerolinewidth\": 2}}}},\n",
       "                        {\"responsive\": true}\n",
       "                    ).then(function(){\n",
       "                            \n",
       "var gd = document.getElementById('35802782-1ed2-4712-9d52-7c41c23dd10a');\n",
       "var x = new MutationObserver(function (mutations, observer) {{\n",
       "        var display = window.getComputedStyle(gd).display;\n",
       "        if (!display || display === 'none') {{\n",
       "            console.log([gd, 'removed!']);\n",
       "            Plotly.purge(gd);\n",
       "            observer.disconnect();\n",
       "        }}\n",
       "}});\n",
       "\n",
       "// Listen for the removal of the full notebook cells\n",
       "var notebookContainer = gd.closest('#notebook-container');\n",
       "if (notebookContainer) {{\n",
       "    x.observe(notebookContainer, {childList: true});\n",
       "}}\n",
       "\n",
       "// Listen for the clearing of the current output cell\n",
       "var outputEl = gd.closest('.output');\n",
       "if (outputEl) {{\n",
       "    x.observe(outputEl, {childList: true});\n",
       "}}\n",
       "\n",
       "                        })\n",
       "                };\n",
       "                });\n",
       "            </script>\n",
       "        </div>"
      ]
     },
     "metadata": {},
     "output_type": "display_data"
    },
    {
     "name": "stdout",
     "output_type": "stream",
     "text": [
      "var2 measures SNR.  High number is good!\n"
     ]
    },
    {
     "data": {
      "application/vnd.plotly.v1+json": {
       "config": {
        "plotlyServerURL": "https://plot.ly"
       },
       "data": [
        {
         "box": {
          "visible": true
         },
         "jitter": 0.1,
         "legendgroup": "user data",
         "line": {
          "color": "lightseagreen"
         },
         "meanline": {
          "visible": true
         },
         "name": "user data",
         "pointpos": -0.5,
         "points": "all",
         "scalegroup": "user data",
         "side": "negative",
         "type": "violin",
         "x": [
          "dummy_trs",
          "dummy_trs",
          "dummy_trs",
          "dummy_trs",
          "dummy_trs",
          "dummy_trs",
          "dummy_trs",
          "dummy_trs",
          "dummy_trs",
          "dummy_trs",
          "dummy_trs",
          "dummy_trs",
          "dummy_trs",
          "dummy_trs",
          "dummy_trs",
          "dummy_trs",
          "dummy_trs",
          "dummy_trs",
          "dummy_trs",
          "dummy_trs"
         ],
         "y": [
          0,
          0,
          0,
          0,
          0,
          0,
          0,
          0,
          0,
          0,
          0,
          0,
          0,
          0,
          0,
          0,
          0,
          0,
          0,
          0
         ]
        },
        {
         "box": {
          "visible": true
         },
         "legendgroup": "api",
         "line": {
          "color": "blue"
         },
         "meanline": {
          "visible": true
         },
         "name": "api",
         "scalegroup": "api",
         "side": "positive",
         "type": "violin",
         "x": [
          "dummy_trs",
          "dummy_trs",
          "dummy_trs",
          "dummy_trs",
          "dummy_trs",
          "dummy_trs",
          "dummy_trs",
          "dummy_trs",
          "dummy_trs",
          "dummy_trs",
          "dummy_trs",
          "dummy_trs",
          "dummy_trs",
          "dummy_trs",
          "dummy_trs",
          "dummy_trs",
          "dummy_trs",
          "dummy_trs",
          "dummy_trs",
          "dummy_trs",
          "dummy_trs",
          "dummy_trs",
          "dummy_trs",
          "dummy_trs",
          "dummy_trs",
          "dummy_trs",
          "dummy_trs",
          "dummy_trs",
          "dummy_trs",
          "dummy_trs",
          "dummy_trs",
          "dummy_trs",
          "dummy_trs",
          "dummy_trs",
          "dummy_trs",
          "dummy_trs",
          "dummy_trs",
          "dummy_trs",
          "dummy_trs",
          "dummy_trs",
          "dummy_trs",
          "dummy_trs",
          "dummy_trs",
          "dummy_trs",
          "dummy_trs",
          "dummy_trs",
          "dummy_trs",
          "dummy_trs",
          "dummy_trs",
          "dummy_trs",
          "dummy_trs",
          "dummy_trs",
          "dummy_trs",
          "dummy_trs",
          "dummy_trs",
          "dummy_trs",
          "dummy_trs",
          "dummy_trs",
          "dummy_trs",
          "dummy_trs",
          "dummy_trs",
          "dummy_trs",
          "dummy_trs",
          "dummy_trs",
          "dummy_trs",
          "dummy_trs",
          "dummy_trs",
          "dummy_trs",
          "dummy_trs",
          "dummy_trs",
          "dummy_trs",
          "dummy_trs",
          "dummy_trs",
          "dummy_trs",
          "dummy_trs",
          "dummy_trs",
          "dummy_trs",
          "dummy_trs",
          "dummy_trs",
          "dummy_trs",
          "dummy_trs",
          "dummy_trs",
          "dummy_trs",
          "dummy_trs",
          "dummy_trs",
          "dummy_trs",
          "dummy_trs",
          "dummy_trs",
          "dummy_trs",
          "dummy_trs",
          "dummy_trs",
          "dummy_trs",
          "dummy_trs",
          "dummy_trs",
          "dummy_trs",
          "dummy_trs",
          "dummy_trs",
          "dummy_trs",
          "dummy_trs",
          "dummy_trs",
          "dummy_trs",
          "dummy_trs",
          "dummy_trs",
          "dummy_trs",
          "dummy_trs",
          "dummy_trs",
          "dummy_trs",
          "dummy_trs",
          "dummy_trs",
          "dummy_trs",
          "dummy_trs",
          "dummy_trs",
          "dummy_trs",
          "dummy_trs",
          "dummy_trs",
          "dummy_trs",
          "dummy_trs",
          "dummy_trs",
          "dummy_trs",
          "dummy_trs",
          "dummy_trs",
          "dummy_trs",
          "dummy_trs",
          "dummy_trs",
          "dummy_trs",
          "dummy_trs",
          "dummy_trs",
          "dummy_trs",
          "dummy_trs",
          "dummy_trs",
          "dummy_trs",
          "dummy_trs",
          "dummy_trs",
          "dummy_trs",
          "dummy_trs",
          "dummy_trs",
          "dummy_trs",
          "dummy_trs",
          "dummy_trs",
          "dummy_trs",
          "dummy_trs",
          "dummy_trs"
         ],
         "y": [
          0,
          0,
          0,
          0,
          0,
          0,
          0,
          0,
          0,
          0,
          0,
          0,
          0,
          0,
          0,
          0,
          0,
          0,
          0,
          0,
          0,
          0,
          0,
          0,
          0,
          0,
          0,
          0,
          0,
          0,
          0,
          0,
          0,
          0,
          0,
          0,
          0,
          0,
          0,
          0,
          0,
          0,
          0,
          0,
          0,
          0,
          0,
          0,
          0,
          0,
          0,
          0,
          0,
          0,
          0,
          0,
          0,
          0,
          0,
          0,
          0,
          0,
          0,
          0,
          0,
          0,
          0,
          0,
          0,
          0,
          0,
          0,
          0,
          0,
          0,
          0,
          0,
          2,
          0,
          0,
          0,
          0,
          0,
          0,
          0,
          0,
          0,
          0,
          0,
          0,
          0,
          0,
          0,
          0,
          0,
          0,
          0,
          0,
          0,
          0,
          0,
          0,
          0,
          0,
          0,
          0,
          0,
          0,
          0,
          0,
          0,
          0,
          0,
          0,
          0,
          0,
          0,
          0,
          0,
          0,
          0,
          0,
          0,
          0,
          0,
          0,
          0,
          0,
          0,
          0,
          0,
          0,
          0,
          0,
          0,
          0,
          0,
          0,
          0,
          0,
          0,
          0
         ]
        }
       ],
       "layout": {
        "template": {
         "data": {
          "bar": [
           {
            "error_x": {
             "color": "#2a3f5f"
            },
            "error_y": {
             "color": "#2a3f5f"
            },
            "marker": {
             "line": {
              "color": "white",
              "width": 0.5
             }
            },
            "type": "bar"
           }
          ],
          "barpolar": [
           {
            "marker": {
             "line": {
              "color": "white",
              "width": 0.5
             }
            },
            "type": "barpolar"
           }
          ],
          "carpet": [
           {
            "aaxis": {
             "endlinecolor": "#2a3f5f",
             "gridcolor": "#C8D4E3",
             "linecolor": "#C8D4E3",
             "minorgridcolor": "#C8D4E3",
             "startlinecolor": "#2a3f5f"
            },
            "baxis": {
             "endlinecolor": "#2a3f5f",
             "gridcolor": "#C8D4E3",
             "linecolor": "#C8D4E3",
             "minorgridcolor": "#C8D4E3",
             "startlinecolor": "#2a3f5f"
            },
            "type": "carpet"
           }
          ],
          "choropleth": [
           {
            "colorbar": {
             "outlinewidth": 0,
             "ticks": ""
            },
            "type": "choropleth"
           }
          ],
          "contour": [
           {
            "colorbar": {
             "outlinewidth": 0,
             "ticks": ""
            },
            "colorscale": [
             [
              0,
              "#0d0887"
             ],
             [
              0.1111111111111111,
              "#46039f"
             ],
             [
              0.2222222222222222,
              "#7201a8"
             ],
             [
              0.3333333333333333,
              "#9c179e"
             ],
             [
              0.4444444444444444,
              "#bd3786"
             ],
             [
              0.5555555555555556,
              "#d8576b"
             ],
             [
              0.6666666666666666,
              "#ed7953"
             ],
             [
              0.7777777777777778,
              "#fb9f3a"
             ],
             [
              0.8888888888888888,
              "#fdca26"
             ],
             [
              1,
              "#f0f921"
             ]
            ],
            "type": "contour"
           }
          ],
          "contourcarpet": [
           {
            "colorbar": {
             "outlinewidth": 0,
             "ticks": ""
            },
            "type": "contourcarpet"
           }
          ],
          "heatmap": [
           {
            "colorbar": {
             "outlinewidth": 0,
             "ticks": ""
            },
            "colorscale": [
             [
              0,
              "#0d0887"
             ],
             [
              0.1111111111111111,
              "#46039f"
             ],
             [
              0.2222222222222222,
              "#7201a8"
             ],
             [
              0.3333333333333333,
              "#9c179e"
             ],
             [
              0.4444444444444444,
              "#bd3786"
             ],
             [
              0.5555555555555556,
              "#d8576b"
             ],
             [
              0.6666666666666666,
              "#ed7953"
             ],
             [
              0.7777777777777778,
              "#fb9f3a"
             ],
             [
              0.8888888888888888,
              "#fdca26"
             ],
             [
              1,
              "#f0f921"
             ]
            ],
            "type": "heatmap"
           }
          ],
          "heatmapgl": [
           {
            "colorbar": {
             "outlinewidth": 0,
             "ticks": ""
            },
            "colorscale": [
             [
              0,
              "#0d0887"
             ],
             [
              0.1111111111111111,
              "#46039f"
             ],
             [
              0.2222222222222222,
              "#7201a8"
             ],
             [
              0.3333333333333333,
              "#9c179e"
             ],
             [
              0.4444444444444444,
              "#bd3786"
             ],
             [
              0.5555555555555556,
              "#d8576b"
             ],
             [
              0.6666666666666666,
              "#ed7953"
             ],
             [
              0.7777777777777778,
              "#fb9f3a"
             ],
             [
              0.8888888888888888,
              "#fdca26"
             ],
             [
              1,
              "#f0f921"
             ]
            ],
            "type": "heatmapgl"
           }
          ],
          "histogram": [
           {
            "marker": {
             "colorbar": {
              "outlinewidth": 0,
              "ticks": ""
             }
            },
            "type": "histogram"
           }
          ],
          "histogram2d": [
           {
            "colorbar": {
             "outlinewidth": 0,
             "ticks": ""
            },
            "colorscale": [
             [
              0,
              "#0d0887"
             ],
             [
              0.1111111111111111,
              "#46039f"
             ],
             [
              0.2222222222222222,
              "#7201a8"
             ],
             [
              0.3333333333333333,
              "#9c179e"
             ],
             [
              0.4444444444444444,
              "#bd3786"
             ],
             [
              0.5555555555555556,
              "#d8576b"
             ],
             [
              0.6666666666666666,
              "#ed7953"
             ],
             [
              0.7777777777777778,
              "#fb9f3a"
             ],
             [
              0.8888888888888888,
              "#fdca26"
             ],
             [
              1,
              "#f0f921"
             ]
            ],
            "type": "histogram2d"
           }
          ],
          "histogram2dcontour": [
           {
            "colorbar": {
             "outlinewidth": 0,
             "ticks": ""
            },
            "colorscale": [
             [
              0,
              "#0d0887"
             ],
             [
              0.1111111111111111,
              "#46039f"
             ],
             [
              0.2222222222222222,
              "#7201a8"
             ],
             [
              0.3333333333333333,
              "#9c179e"
             ],
             [
              0.4444444444444444,
              "#bd3786"
             ],
             [
              0.5555555555555556,
              "#d8576b"
             ],
             [
              0.6666666666666666,
              "#ed7953"
             ],
             [
              0.7777777777777778,
              "#fb9f3a"
             ],
             [
              0.8888888888888888,
              "#fdca26"
             ],
             [
              1,
              "#f0f921"
             ]
            ],
            "type": "histogram2dcontour"
           }
          ],
          "mesh3d": [
           {
            "colorbar": {
             "outlinewidth": 0,
             "ticks": ""
            },
            "type": "mesh3d"
           }
          ],
          "parcoords": [
           {
            "line": {
             "colorbar": {
              "outlinewidth": 0,
              "ticks": ""
             }
            },
            "type": "parcoords"
           }
          ],
          "scatter": [
           {
            "marker": {
             "colorbar": {
              "outlinewidth": 0,
              "ticks": ""
             }
            },
            "type": "scatter"
           }
          ],
          "scatter3d": [
           {
            "line": {
             "colorbar": {
              "outlinewidth": 0,
              "ticks": ""
             }
            },
            "marker": {
             "colorbar": {
              "outlinewidth": 0,
              "ticks": ""
             }
            },
            "type": "scatter3d"
           }
          ],
          "scattercarpet": [
           {
            "marker": {
             "colorbar": {
              "outlinewidth": 0,
              "ticks": ""
             }
            },
            "type": "scattercarpet"
           }
          ],
          "scattergeo": [
           {
            "marker": {
             "colorbar": {
              "outlinewidth": 0,
              "ticks": ""
             }
            },
            "type": "scattergeo"
           }
          ],
          "scattergl": [
           {
            "marker": {
             "colorbar": {
              "outlinewidth": 0,
              "ticks": ""
             }
            },
            "type": "scattergl"
           }
          ],
          "scattermapbox": [
           {
            "marker": {
             "colorbar": {
              "outlinewidth": 0,
              "ticks": ""
             }
            },
            "type": "scattermapbox"
           }
          ],
          "scatterpolar": [
           {
            "marker": {
             "colorbar": {
              "outlinewidth": 0,
              "ticks": ""
             }
            },
            "type": "scatterpolar"
           }
          ],
          "scatterpolargl": [
           {
            "marker": {
             "colorbar": {
              "outlinewidth": 0,
              "ticks": ""
             }
            },
            "type": "scatterpolargl"
           }
          ],
          "scatterternary": [
           {
            "marker": {
             "colorbar": {
              "outlinewidth": 0,
              "ticks": ""
             }
            },
            "type": "scatterternary"
           }
          ],
          "surface": [
           {
            "colorbar": {
             "outlinewidth": 0,
             "ticks": ""
            },
            "colorscale": [
             [
              0,
              "#0d0887"
             ],
             [
              0.1111111111111111,
              "#46039f"
             ],
             [
              0.2222222222222222,
              "#7201a8"
             ],
             [
              0.3333333333333333,
              "#9c179e"
             ],
             [
              0.4444444444444444,
              "#bd3786"
             ],
             [
              0.5555555555555556,
              "#d8576b"
             ],
             [
              0.6666666666666666,
              "#ed7953"
             ],
             [
              0.7777777777777778,
              "#fb9f3a"
             ],
             [
              0.8888888888888888,
              "#fdca26"
             ],
             [
              1,
              "#f0f921"
             ]
            ],
            "type": "surface"
           }
          ],
          "table": [
           {
            "cells": {
             "fill": {
              "color": "#EBF0F8"
             },
             "line": {
              "color": "white"
             }
            },
            "header": {
             "fill": {
              "color": "#C8D4E3"
             },
             "line": {
              "color": "white"
             }
            },
            "type": "table"
           }
          ]
         },
         "layout": {
          "annotationdefaults": {
           "arrowcolor": "#2a3f5f",
           "arrowhead": 0,
           "arrowwidth": 1
          },
          "colorscale": {
           "diverging": [
            [
             0,
             "#8e0152"
            ],
            [
             0.1,
             "#c51b7d"
            ],
            [
             0.2,
             "#de77ae"
            ],
            [
             0.3,
             "#f1b6da"
            ],
            [
             0.4,
             "#fde0ef"
            ],
            [
             0.5,
             "#f7f7f7"
            ],
            [
             0.6,
             "#e6f5d0"
            ],
            [
             0.7,
             "#b8e186"
            ],
            [
             0.8,
             "#7fbc41"
            ],
            [
             0.9,
             "#4d9221"
            ],
            [
             1,
             "#276419"
            ]
           ],
           "sequential": [
            [
             0,
             "#0d0887"
            ],
            [
             0.1111111111111111,
             "#46039f"
            ],
            [
             0.2222222222222222,
             "#7201a8"
            ],
            [
             0.3333333333333333,
             "#9c179e"
            ],
            [
             0.4444444444444444,
             "#bd3786"
            ],
            [
             0.5555555555555556,
             "#d8576b"
            ],
            [
             0.6666666666666666,
             "#ed7953"
            ],
            [
             0.7777777777777778,
             "#fb9f3a"
            ],
            [
             0.8888888888888888,
             "#fdca26"
            ],
            [
             1,
             "#f0f921"
            ]
           ],
           "sequentialminus": [
            [
             0,
             "#0d0887"
            ],
            [
             0.1111111111111111,
             "#46039f"
            ],
            [
             0.2222222222222222,
             "#7201a8"
            ],
            [
             0.3333333333333333,
             "#9c179e"
            ],
            [
             0.4444444444444444,
             "#bd3786"
            ],
            [
             0.5555555555555556,
             "#d8576b"
            ],
            [
             0.6666666666666666,
             "#ed7953"
            ],
            [
             0.7777777777777778,
             "#fb9f3a"
            ],
            [
             0.8888888888888888,
             "#fdca26"
            ],
            [
             1,
             "#f0f921"
            ]
           ]
          },
          "colorway": [
           "#636efa",
           "#EF553B",
           "#00cc96",
           "#ab63fa",
           "#FFA15A",
           "#19d3f3",
           "#FF6692",
           "#B6E880",
           "#FF97FF",
           "#FECB52"
          ],
          "font": {
           "color": "#2a3f5f"
          },
          "geo": {
           "bgcolor": "white",
           "lakecolor": "white",
           "landcolor": "white",
           "showlakes": true,
           "showland": true,
           "subunitcolor": "#C8D4E3"
          },
          "hoverlabel": {
           "align": "left"
          },
          "hovermode": "closest",
          "mapbox": {
           "style": "light"
          },
          "paper_bgcolor": "white",
          "plot_bgcolor": "white",
          "polar": {
           "angularaxis": {
            "gridcolor": "#EBF0F8",
            "linecolor": "#EBF0F8",
            "ticks": ""
           },
           "bgcolor": "white",
           "radialaxis": {
            "gridcolor": "#EBF0F8",
            "linecolor": "#EBF0F8",
            "ticks": ""
           }
          },
          "scene": {
           "xaxis": {
            "backgroundcolor": "white",
            "gridcolor": "#DFE8F3",
            "gridwidth": 2,
            "linecolor": "#EBF0F8",
            "showbackground": true,
            "ticks": "",
            "zerolinecolor": "#EBF0F8"
           },
           "yaxis": {
            "backgroundcolor": "white",
            "gridcolor": "#DFE8F3",
            "gridwidth": 2,
            "linecolor": "#EBF0F8",
            "showbackground": true,
            "ticks": "",
            "zerolinecolor": "#EBF0F8"
           },
           "zaxis": {
            "backgroundcolor": "white",
            "gridcolor": "#DFE8F3",
            "gridwidth": 2,
            "linecolor": "#EBF0F8",
            "showbackground": true,
            "ticks": "",
            "zerolinecolor": "#EBF0F8"
           }
          },
          "shapedefaults": {
           "line": {
            "color": "#2a3f5f"
           }
          },
          "ternary": {
           "aaxis": {
            "gridcolor": "#DFE8F3",
            "linecolor": "#A2B1C6",
            "ticks": ""
           },
           "baxis": {
            "gridcolor": "#DFE8F3",
            "linecolor": "#A2B1C6",
            "ticks": ""
           },
           "bgcolor": "white",
           "caxis": {
            "gridcolor": "#DFE8F3",
            "linecolor": "#A2B1C6",
            "ticks": ""
           }
          },
          "title": {
           "x": 0.05
          },
          "xaxis": {
           "automargin": true,
           "gridcolor": "#EBF0F8",
           "linecolor": "#EBF0F8",
           "ticks": "",
           "zerolinecolor": "#EBF0F8",
           "zerolinewidth": 2
          },
          "yaxis": {
           "automargin": true,
           "gridcolor": "#EBF0F8",
           "linecolor": "#EBF0F8",
           "ticks": "",
           "zerolinecolor": "#EBF0F8",
           "zerolinewidth": 2
          }
         }
        }
       }
      },
      "text/html": [
       "<div>\n",
       "        \n",
       "        \n",
       "            <div id=\"17194af5-c5e9-475e-b21c-6e89620edc5e\" class=\"plotly-graph-div\" style=\"height:525px; width:100%;\"></div>\n",
       "            <script type=\"text/javascript\">\n",
       "                require([\"plotly\"], function(Plotly) {\n",
       "                    window.PLOTLYENV=window.PLOTLYENV || {};\n",
       "                    \n",
       "                if (document.getElementById(\"17194af5-c5e9-475e-b21c-6e89620edc5e\")) {\n",
       "                    Plotly.newPlot(\n",
       "                        '17194af5-c5e9-475e-b21c-6e89620edc5e',\n",
       "                        [{\"box\": {\"visible\": true}, \"jitter\": 0.1, \"legendgroup\": \"user data\", \"line\": {\"color\": \"lightseagreen\"}, \"meanline\": {\"visible\": true}, \"name\": \"user data\", \"pointpos\": -0.5, \"points\": \"all\", \"scalegroup\": \"user data\", \"side\": \"negative\", \"type\": \"violin\", \"x\": [\"dummy_trs\", \"dummy_trs\", \"dummy_trs\", \"dummy_trs\", \"dummy_trs\", \"dummy_trs\", \"dummy_trs\", \"dummy_trs\", \"dummy_trs\", \"dummy_trs\", \"dummy_trs\", \"dummy_trs\", \"dummy_trs\", \"dummy_trs\", \"dummy_trs\", \"dummy_trs\", \"dummy_trs\", \"dummy_trs\", \"dummy_trs\", \"dummy_trs\"], \"y\": [0.0, 0.0, 0.0, 0.0, 0.0, 0.0, 0.0, 0.0, 0.0, 0.0, 0.0, 0.0, 0.0, 0.0, 0.0, 0.0, 0.0, 0.0, 0.0, 0.0]}, {\"box\": {\"visible\": true}, \"legendgroup\": \"api\", \"line\": {\"color\": \"blue\"}, \"meanline\": {\"visible\": true}, \"name\": \"api\", \"scalegroup\": \"api\", \"side\": \"positive\", \"type\": \"violin\", \"x\": [\"dummy_trs\", \"dummy_trs\", \"dummy_trs\", \"dummy_trs\", \"dummy_trs\", \"dummy_trs\", \"dummy_trs\", \"dummy_trs\", \"dummy_trs\", \"dummy_trs\", \"dummy_trs\", \"dummy_trs\", \"dummy_trs\", \"dummy_trs\", \"dummy_trs\", \"dummy_trs\", \"dummy_trs\", \"dummy_trs\", \"dummy_trs\", \"dummy_trs\", \"dummy_trs\", \"dummy_trs\", \"dummy_trs\", \"dummy_trs\", \"dummy_trs\", \"dummy_trs\", \"dummy_trs\", \"dummy_trs\", \"dummy_trs\", \"dummy_trs\", \"dummy_trs\", \"dummy_trs\", \"dummy_trs\", \"dummy_trs\", \"dummy_trs\", \"dummy_trs\", \"dummy_trs\", \"dummy_trs\", \"dummy_trs\", \"dummy_trs\", \"dummy_trs\", \"dummy_trs\", \"dummy_trs\", \"dummy_trs\", \"dummy_trs\", \"dummy_trs\", \"dummy_trs\", \"dummy_trs\", \"dummy_trs\", \"dummy_trs\", \"dummy_trs\", \"dummy_trs\", \"dummy_trs\", \"dummy_trs\", \"dummy_trs\", \"dummy_trs\", \"dummy_trs\", \"dummy_trs\", \"dummy_trs\", \"dummy_trs\", \"dummy_trs\", \"dummy_trs\", \"dummy_trs\", \"dummy_trs\", \"dummy_trs\", \"dummy_trs\", \"dummy_trs\", \"dummy_trs\", \"dummy_trs\", \"dummy_trs\", \"dummy_trs\", \"dummy_trs\", \"dummy_trs\", \"dummy_trs\", \"dummy_trs\", \"dummy_trs\", \"dummy_trs\", \"dummy_trs\", \"dummy_trs\", \"dummy_trs\", \"dummy_trs\", \"dummy_trs\", \"dummy_trs\", \"dummy_trs\", \"dummy_trs\", \"dummy_trs\", \"dummy_trs\", \"dummy_trs\", \"dummy_trs\", \"dummy_trs\", \"dummy_trs\", \"dummy_trs\", \"dummy_trs\", \"dummy_trs\", \"dummy_trs\", \"dummy_trs\", \"dummy_trs\", \"dummy_trs\", \"dummy_trs\", \"dummy_trs\", \"dummy_trs\", \"dummy_trs\", \"dummy_trs\", \"dummy_trs\", \"dummy_trs\", \"dummy_trs\", \"dummy_trs\", \"dummy_trs\", \"dummy_trs\", \"dummy_trs\", \"dummy_trs\", \"dummy_trs\", \"dummy_trs\", \"dummy_trs\", \"dummy_trs\", \"dummy_trs\", \"dummy_trs\", \"dummy_trs\", \"dummy_trs\", \"dummy_trs\", \"dummy_trs\", \"dummy_trs\", \"dummy_trs\", \"dummy_trs\", \"dummy_trs\", \"dummy_trs\", \"dummy_trs\", \"dummy_trs\", \"dummy_trs\", \"dummy_trs\", \"dummy_trs\", \"dummy_trs\", \"dummy_trs\", \"dummy_trs\", \"dummy_trs\", \"dummy_trs\", \"dummy_trs\", \"dummy_trs\", \"dummy_trs\", \"dummy_trs\", \"dummy_trs\", \"dummy_trs\"], \"y\": [0.0, 0.0, 0.0, 0.0, 0.0, 0.0, 0.0, 0.0, 0.0, 0.0, 0.0, 0.0, 0.0, 0.0, 0.0, 0.0, 0.0, 0.0, 0.0, 0.0, 0.0, 0.0, 0.0, 0.0, 0.0, 0.0, 0.0, 0.0, 0.0, 0.0, 0.0, 0.0, 0.0, 0.0, 0.0, 0.0, 0.0, 0.0, 0.0, 0.0, 0.0, 0.0, 0.0, 0.0, 0.0, 0.0, 0.0, 0.0, 0.0, 0.0, 0.0, 0.0, 0.0, 0.0, 0.0, 0.0, 0.0, 0.0, 0.0, 0.0, 0.0, 0.0, 0.0, 0.0, 0.0, 0.0, 0.0, 0.0, 0.0, 0.0, 0.0, 0.0, 0.0, 0.0, 0.0, 0.0, 0.0, 2.0, 0.0, 0.0, 0.0, 0.0, 0.0, 0.0, 0.0, 0.0, 0.0, 0.0, 0.0, 0.0, 0.0, 0.0, 0.0, 0.0, 0.0, 0.0, 0.0, 0.0, 0.0, 0.0, 0.0, 0.0, 0.0, 0.0, 0.0, 0.0, 0.0, 0.0, 0.0, 0.0, 0.0, 0.0, 0.0, 0.0, 0.0, 0.0, 0.0, 0.0, 0.0, 0.0, 0.0, 0.0, 0.0, 0.0, 0.0, 0.0, 0.0, 0.0, 0.0, 0.0, 0.0, 0.0, 0.0, 0.0, 0.0, 0.0, 0.0, 0.0, 0.0, 0.0, 0.0, 0.0]}],\n",
       "                        {\"template\": {\"data\": {\"bar\": [{\"error_x\": {\"color\": \"#2a3f5f\"}, \"error_y\": {\"color\": \"#2a3f5f\"}, \"marker\": {\"line\": {\"color\": \"white\", \"width\": 0.5}}, \"type\": \"bar\"}], \"barpolar\": [{\"marker\": {\"line\": {\"color\": \"white\", \"width\": 0.5}}, \"type\": \"barpolar\"}], \"carpet\": [{\"aaxis\": {\"endlinecolor\": \"#2a3f5f\", \"gridcolor\": \"#C8D4E3\", \"linecolor\": \"#C8D4E3\", \"minorgridcolor\": \"#C8D4E3\", \"startlinecolor\": \"#2a3f5f\"}, \"baxis\": {\"endlinecolor\": \"#2a3f5f\", \"gridcolor\": \"#C8D4E3\", \"linecolor\": \"#C8D4E3\", \"minorgridcolor\": \"#C8D4E3\", \"startlinecolor\": \"#2a3f5f\"}, \"type\": \"carpet\"}], \"choropleth\": [{\"colorbar\": {\"outlinewidth\": 0, \"ticks\": \"\"}, \"type\": \"choropleth\"}], \"contour\": [{\"colorbar\": {\"outlinewidth\": 0, \"ticks\": \"\"}, \"colorscale\": [[0.0, \"#0d0887\"], [0.1111111111111111, \"#46039f\"], [0.2222222222222222, \"#7201a8\"], [0.3333333333333333, \"#9c179e\"], [0.4444444444444444, \"#bd3786\"], [0.5555555555555556, \"#d8576b\"], [0.6666666666666666, \"#ed7953\"], [0.7777777777777778, \"#fb9f3a\"], [0.8888888888888888, \"#fdca26\"], [1.0, \"#f0f921\"]], \"type\": \"contour\"}], \"contourcarpet\": [{\"colorbar\": {\"outlinewidth\": 0, \"ticks\": \"\"}, \"type\": \"contourcarpet\"}], \"heatmap\": [{\"colorbar\": {\"outlinewidth\": 0, \"ticks\": \"\"}, \"colorscale\": [[0.0, \"#0d0887\"], [0.1111111111111111, \"#46039f\"], [0.2222222222222222, \"#7201a8\"], [0.3333333333333333, \"#9c179e\"], [0.4444444444444444, \"#bd3786\"], [0.5555555555555556, \"#d8576b\"], [0.6666666666666666, \"#ed7953\"], [0.7777777777777778, \"#fb9f3a\"], [0.8888888888888888, \"#fdca26\"], [1.0, \"#f0f921\"]], \"type\": \"heatmap\"}], \"heatmapgl\": [{\"colorbar\": {\"outlinewidth\": 0, \"ticks\": \"\"}, \"colorscale\": [[0.0, \"#0d0887\"], [0.1111111111111111, \"#46039f\"], [0.2222222222222222, \"#7201a8\"], [0.3333333333333333, \"#9c179e\"], [0.4444444444444444, \"#bd3786\"], [0.5555555555555556, \"#d8576b\"], [0.6666666666666666, \"#ed7953\"], [0.7777777777777778, \"#fb9f3a\"], [0.8888888888888888, \"#fdca26\"], [1.0, \"#f0f921\"]], \"type\": \"heatmapgl\"}], \"histogram\": [{\"marker\": {\"colorbar\": {\"outlinewidth\": 0, \"ticks\": \"\"}}, \"type\": \"histogram\"}], \"histogram2d\": [{\"colorbar\": {\"outlinewidth\": 0, \"ticks\": \"\"}, \"colorscale\": [[0.0, \"#0d0887\"], [0.1111111111111111, \"#46039f\"], [0.2222222222222222, \"#7201a8\"], [0.3333333333333333, \"#9c179e\"], [0.4444444444444444, \"#bd3786\"], [0.5555555555555556, \"#d8576b\"], [0.6666666666666666, \"#ed7953\"], [0.7777777777777778, \"#fb9f3a\"], [0.8888888888888888, \"#fdca26\"], [1.0, \"#f0f921\"]], \"type\": \"histogram2d\"}], \"histogram2dcontour\": [{\"colorbar\": {\"outlinewidth\": 0, \"ticks\": \"\"}, \"colorscale\": [[0.0, \"#0d0887\"], [0.1111111111111111, \"#46039f\"], [0.2222222222222222, \"#7201a8\"], [0.3333333333333333, \"#9c179e\"], [0.4444444444444444, \"#bd3786\"], [0.5555555555555556, \"#d8576b\"], [0.6666666666666666, \"#ed7953\"], [0.7777777777777778, \"#fb9f3a\"], [0.8888888888888888, \"#fdca26\"], [1.0, \"#f0f921\"]], \"type\": \"histogram2dcontour\"}], \"mesh3d\": [{\"colorbar\": {\"outlinewidth\": 0, \"ticks\": \"\"}, \"type\": \"mesh3d\"}], \"parcoords\": [{\"line\": {\"colorbar\": {\"outlinewidth\": 0, \"ticks\": \"\"}}, \"type\": \"parcoords\"}], \"scatter\": [{\"marker\": {\"colorbar\": {\"outlinewidth\": 0, \"ticks\": \"\"}}, \"type\": \"scatter\"}], \"scatter3d\": [{\"line\": {\"colorbar\": {\"outlinewidth\": 0, \"ticks\": \"\"}}, \"marker\": {\"colorbar\": {\"outlinewidth\": 0, \"ticks\": \"\"}}, \"type\": \"scatter3d\"}], \"scattercarpet\": [{\"marker\": {\"colorbar\": {\"outlinewidth\": 0, \"ticks\": \"\"}}, \"type\": \"scattercarpet\"}], \"scattergeo\": [{\"marker\": {\"colorbar\": {\"outlinewidth\": 0, \"ticks\": \"\"}}, \"type\": \"scattergeo\"}], \"scattergl\": [{\"marker\": {\"colorbar\": {\"outlinewidth\": 0, \"ticks\": \"\"}}, \"type\": \"scattergl\"}], \"scattermapbox\": [{\"marker\": {\"colorbar\": {\"outlinewidth\": 0, \"ticks\": \"\"}}, \"type\": \"scattermapbox\"}], \"scatterpolar\": [{\"marker\": {\"colorbar\": {\"outlinewidth\": 0, \"ticks\": \"\"}}, \"type\": \"scatterpolar\"}], \"scatterpolargl\": [{\"marker\": {\"colorbar\": {\"outlinewidth\": 0, \"ticks\": \"\"}}, \"type\": \"scatterpolargl\"}], \"scatterternary\": [{\"marker\": {\"colorbar\": {\"outlinewidth\": 0, \"ticks\": \"\"}}, \"type\": \"scatterternary\"}], \"surface\": [{\"colorbar\": {\"outlinewidth\": 0, \"ticks\": \"\"}, \"colorscale\": [[0.0, \"#0d0887\"], [0.1111111111111111, \"#46039f\"], [0.2222222222222222, \"#7201a8\"], [0.3333333333333333, \"#9c179e\"], [0.4444444444444444, \"#bd3786\"], [0.5555555555555556, \"#d8576b\"], [0.6666666666666666, \"#ed7953\"], [0.7777777777777778, \"#fb9f3a\"], [0.8888888888888888, \"#fdca26\"], [1.0, \"#f0f921\"]], \"type\": \"surface\"}], \"table\": [{\"cells\": {\"fill\": {\"color\": \"#EBF0F8\"}, \"line\": {\"color\": \"white\"}}, \"header\": {\"fill\": {\"color\": \"#C8D4E3\"}, \"line\": {\"color\": \"white\"}}, \"type\": \"table\"}]}, \"layout\": {\"annotationdefaults\": {\"arrowcolor\": \"#2a3f5f\", \"arrowhead\": 0, \"arrowwidth\": 1}, \"colorscale\": {\"diverging\": [[0, \"#8e0152\"], [0.1, \"#c51b7d\"], [0.2, \"#de77ae\"], [0.3, \"#f1b6da\"], [0.4, \"#fde0ef\"], [0.5, \"#f7f7f7\"], [0.6, \"#e6f5d0\"], [0.7, \"#b8e186\"], [0.8, \"#7fbc41\"], [0.9, \"#4d9221\"], [1, \"#276419\"]], \"sequential\": [[0.0, \"#0d0887\"], [0.1111111111111111, \"#46039f\"], [0.2222222222222222, \"#7201a8\"], [0.3333333333333333, \"#9c179e\"], [0.4444444444444444, \"#bd3786\"], [0.5555555555555556, \"#d8576b\"], [0.6666666666666666, \"#ed7953\"], [0.7777777777777778, \"#fb9f3a\"], [0.8888888888888888, \"#fdca26\"], [1.0, \"#f0f921\"]], \"sequentialminus\": [[0.0, \"#0d0887\"], [0.1111111111111111, \"#46039f\"], [0.2222222222222222, \"#7201a8\"], [0.3333333333333333, \"#9c179e\"], [0.4444444444444444, \"#bd3786\"], [0.5555555555555556, \"#d8576b\"], [0.6666666666666666, \"#ed7953\"], [0.7777777777777778, \"#fb9f3a\"], [0.8888888888888888, \"#fdca26\"], [1.0, \"#f0f921\"]]}, \"colorway\": [\"#636efa\", \"#EF553B\", \"#00cc96\", \"#ab63fa\", \"#FFA15A\", \"#19d3f3\", \"#FF6692\", \"#B6E880\", \"#FF97FF\", \"#FECB52\"], \"font\": {\"color\": \"#2a3f5f\"}, \"geo\": {\"bgcolor\": \"white\", \"lakecolor\": \"white\", \"landcolor\": \"white\", \"showlakes\": true, \"showland\": true, \"subunitcolor\": \"#C8D4E3\"}, \"hoverlabel\": {\"align\": \"left\"}, \"hovermode\": \"closest\", \"mapbox\": {\"style\": \"light\"}, \"paper_bgcolor\": \"white\", \"plot_bgcolor\": \"white\", \"polar\": {\"angularaxis\": {\"gridcolor\": \"#EBF0F8\", \"linecolor\": \"#EBF0F8\", \"ticks\": \"\"}, \"bgcolor\": \"white\", \"radialaxis\": {\"gridcolor\": \"#EBF0F8\", \"linecolor\": \"#EBF0F8\", \"ticks\": \"\"}}, \"scene\": {\"xaxis\": {\"backgroundcolor\": \"white\", \"gridcolor\": \"#DFE8F3\", \"gridwidth\": 2, \"linecolor\": \"#EBF0F8\", \"showbackground\": true, \"ticks\": \"\", \"zerolinecolor\": \"#EBF0F8\"}, \"yaxis\": {\"backgroundcolor\": \"white\", \"gridcolor\": \"#DFE8F3\", \"gridwidth\": 2, \"linecolor\": \"#EBF0F8\", \"showbackground\": true, \"ticks\": \"\", \"zerolinecolor\": \"#EBF0F8\"}, \"zaxis\": {\"backgroundcolor\": \"white\", \"gridcolor\": \"#DFE8F3\", \"gridwidth\": 2, \"linecolor\": \"#EBF0F8\", \"showbackground\": true, \"ticks\": \"\", \"zerolinecolor\": \"#EBF0F8\"}}, \"shapedefaults\": {\"line\": {\"color\": \"#2a3f5f\"}}, \"ternary\": {\"aaxis\": {\"gridcolor\": \"#DFE8F3\", \"linecolor\": \"#A2B1C6\", \"ticks\": \"\"}, \"baxis\": {\"gridcolor\": \"#DFE8F3\", \"linecolor\": \"#A2B1C6\", \"ticks\": \"\"}, \"bgcolor\": \"white\", \"caxis\": {\"gridcolor\": \"#DFE8F3\", \"linecolor\": \"#A2B1C6\", \"ticks\": \"\"}}, \"title\": {\"x\": 0.05}, \"xaxis\": {\"automargin\": true, \"gridcolor\": \"#EBF0F8\", \"linecolor\": \"#EBF0F8\", \"ticks\": \"\", \"zerolinecolor\": \"#EBF0F8\", \"zerolinewidth\": 2}, \"yaxis\": {\"automargin\": true, \"gridcolor\": \"#EBF0F8\", \"linecolor\": \"#EBF0F8\", \"ticks\": \"\", \"zerolinecolor\": \"#EBF0F8\", \"zerolinewidth\": 2}}}},\n",
       "                        {\"responsive\": true}\n",
       "                    ).then(function(){\n",
       "                            \n",
       "var gd = document.getElementById('17194af5-c5e9-475e-b21c-6e89620edc5e');\n",
       "var x = new MutationObserver(function (mutations, observer) {{\n",
       "        var display = window.getComputedStyle(gd).display;\n",
       "        if (!display || display === 'none') {{\n",
       "            console.log([gd, 'removed!']);\n",
       "            Plotly.purge(gd);\n",
       "            observer.disconnect();\n",
       "        }}\n",
       "}});\n",
       "\n",
       "// Listen for the removal of the full notebook cells\n",
       "var notebookContainer = gd.closest('#notebook-container');\n",
       "if (notebookContainer) {{\n",
       "    x.observe(notebookContainer, {childList: true});\n",
       "}}\n",
       "\n",
       "// Listen for the clearing of the current output cell\n",
       "var outputEl = gd.closest('.output');\n",
       "if (outputEl) {{\n",
       "    x.observe(outputEl, {childList: true});\n",
       "}}\n",
       "\n",
       "                        })\n",
       "                };\n",
       "                });\n",
       "            </script>\n",
       "        </div>"
      ]
     },
     "metadata": {},
     "output_type": "display_data"
    },
    {
     "name": "stdout",
     "output_type": "stream",
     "text": [
      "var3 measures how great the participant is.  High number is good!\n"
     ]
    },
    {
     "data": {
      "application/vnd.plotly.v1+json": {
       "config": {
        "plotlyServerURL": "https://plot.ly"
       },
       "data": [
        {
         "box": {
          "visible": true
         },
         "jitter": 0.1,
         "legendgroup": "user data",
         "line": {
          "color": "lightseagreen"
         },
         "meanline": {
          "visible": true
         },
         "name": "user data",
         "pointpos": -0.5,
         "points": "all",
         "scalegroup": "user data",
         "side": "negative",
         "type": "violin",
         "x": [
          "dvars_nstd",
          "dvars_nstd",
          "dvars_nstd",
          "dvars_nstd",
          "dvars_nstd",
          "dvars_nstd",
          "dvars_nstd",
          "dvars_nstd",
          "dvars_nstd",
          "dvars_nstd",
          "dvars_nstd",
          "dvars_nstd",
          "dvars_nstd",
          "dvars_nstd",
          "dvars_nstd",
          "dvars_nstd",
          "dvars_nstd",
          "dvars_nstd",
          "dvars_nstd",
          "dvars_nstd"
         ],
         "y": [
          36.164916092608706,
          40.730901590602016,
          30.03065142408026,
          29.3212523126756,
          32.647246344715725,
          26.659252230535106,
          32.47218045270904,
          22.08649824785952,
          26.754318932608705,
          35.785289107658855,
          24.45471739374584,
          27.090635331571928,
          23.99219747030099,
          25.970241138260857,
          39.90012775545152,
          20.199503404448155,
          33.25883589775922,
          24.123466376889645,
          32.45951013993309,
          38.921111518093625
         ]
        },
        {
         "box": {
          "visible": true
         },
         "legendgroup": "api",
         "line": {
          "color": "blue"
         },
         "meanline": {
          "visible": true
         },
         "name": "api",
         "scalegroup": "api",
         "side": "positive",
         "type": "violin",
         "x": [
          "dvars_nstd",
          "dvars_nstd",
          "dvars_nstd",
          "dvars_nstd",
          "dvars_nstd",
          "dvars_nstd",
          "dvars_nstd",
          "dvars_nstd",
          "dvars_nstd",
          "dvars_nstd",
          "dvars_nstd",
          "dvars_nstd",
          "dvars_nstd",
          "dvars_nstd",
          "dvars_nstd",
          "dvars_nstd",
          "dvars_nstd",
          "dvars_nstd",
          "dvars_nstd",
          "dvars_nstd",
          "dvars_nstd",
          "dvars_nstd",
          "dvars_nstd",
          "dvars_nstd",
          "dvars_nstd",
          "dvars_nstd",
          "dvars_nstd",
          "dvars_nstd",
          "dvars_nstd",
          "dvars_nstd",
          "dvars_nstd",
          "dvars_nstd",
          "dvars_nstd",
          "dvars_nstd",
          "dvars_nstd",
          "dvars_nstd",
          "dvars_nstd",
          "dvars_nstd",
          "dvars_nstd",
          "dvars_nstd",
          "dvars_nstd",
          "dvars_nstd",
          "dvars_nstd",
          "dvars_nstd",
          "dvars_nstd",
          "dvars_nstd",
          "dvars_nstd",
          "dvars_nstd",
          "dvars_nstd",
          "dvars_nstd",
          "dvars_nstd",
          "dvars_nstd",
          "dvars_nstd",
          "dvars_nstd",
          "dvars_nstd",
          "dvars_nstd",
          "dvars_nstd",
          "dvars_nstd",
          "dvars_nstd",
          "dvars_nstd",
          "dvars_nstd",
          "dvars_nstd",
          "dvars_nstd",
          "dvars_nstd",
          "dvars_nstd",
          "dvars_nstd",
          "dvars_nstd",
          "dvars_nstd",
          "dvars_nstd",
          "dvars_nstd",
          "dvars_nstd",
          "dvars_nstd",
          "dvars_nstd",
          "dvars_nstd",
          "dvars_nstd",
          "dvars_nstd",
          "dvars_nstd",
          "dvars_nstd",
          "dvars_nstd",
          "dvars_nstd",
          "dvars_nstd",
          "dvars_nstd",
          "dvars_nstd",
          "dvars_nstd",
          "dvars_nstd",
          "dvars_nstd",
          "dvars_nstd",
          "dvars_nstd",
          "dvars_nstd",
          "dvars_nstd",
          "dvars_nstd",
          "dvars_nstd",
          "dvars_nstd",
          "dvars_nstd",
          "dvars_nstd",
          "dvars_nstd",
          "dvars_nstd",
          "dvars_nstd",
          "dvars_nstd",
          "dvars_nstd",
          "dvars_nstd",
          "dvars_nstd",
          "dvars_nstd",
          "dvars_nstd",
          "dvars_nstd",
          "dvars_nstd",
          "dvars_nstd",
          "dvars_nstd",
          "dvars_nstd",
          "dvars_nstd",
          "dvars_nstd",
          "dvars_nstd",
          "dvars_nstd",
          "dvars_nstd",
          "dvars_nstd",
          "dvars_nstd",
          "dvars_nstd",
          "dvars_nstd",
          "dvars_nstd",
          "dvars_nstd",
          "dvars_nstd",
          "dvars_nstd",
          "dvars_nstd",
          "dvars_nstd",
          "dvars_nstd",
          "dvars_nstd",
          "dvars_nstd",
          "dvars_nstd",
          "dvars_nstd",
          "dvars_nstd",
          "dvars_nstd",
          "dvars_nstd",
          "dvars_nstd",
          "dvars_nstd",
          "dvars_nstd",
          "dvars_nstd",
          "dvars_nstd",
          "dvars_nstd",
          "dvars_nstd",
          "dvars_nstd",
          "dvars_nstd",
          "dvars_nstd"
         ],
         "y": [
          30.441892177290978,
          41.41931044555181,
          25.358087450133773,
          26.986923090234107,
          36.20927195076924,
          25.92060570063545,
          60.337501098662244,
          38.58065614749164,
          29.845873689197308,
          27.998065221170553,
          44.393471216856156,
          22.533221484113717,
          27.59014597842811,
          20.393512349264206,
          26.544035978394646,
          31.37731195518397,
          24.408680287658857,
          26.176882154113702,
          36.41622847605349,
          22.098158693143805,
          36.164916092608706,
          40.730901590602016,
          30.03065142408026,
          29.3212523126756,
          32.647246344715725,
          26.659252230535106,
          32.47218045270904,
          22.08649824785952,
          26.754318932608705,
          35.785289107658855,
          24.45471739374584,
          27.090635331571928,
          23.99219747030099,
          25.970241138260857,
          39.90012775545152,
          20.199503404448155,
          33.25883589775922,
          24.123466376889645,
          32.45951013993309,
          38.921111518093625,
          19.17203364193979,
          25.931041921605345,
          31.177918137692316,
          35.58198688344482,
          30.566562901538447,
          25.91669109468226,
          28.845463245919703,
          24.28872974093645,
          23.833895099598642,
          26.993582314214052,
          32.19816477702343,
          26.75411079561872,
          29.462940107458202,
          39.371586419866226,
          24.603863731806012,
          36.12682527535118,
          27.55324805143812,
          25.503380013244136,
          74.58283437779261,
          22.944535622274238,
          30.13806108324417,
          28.426663956755863,
          31.089444240434805,
          28.467857609665558,
          27.50206239886289,
          48.14335520675585,
          28.574760309197316,
          27.419602608060213,
          27.06995498655519,
          36.55764552341138,
          34.97415710371238,
          39.59833164906354,
          27.44634264070235,
          26.33959333872909,
          35.205762282708996,
          28.440928934448166,
          30.072463810501645,
          31.288531910505075,
          22.05316583137125,
          23.3361843326087,
          22.93625910093646,
          35.67998108505017,
          28.54611503334447,
          29.164222781505018,
          29.30078968973245,
          23.160567063478265,
          47.095615246856184,
          23.5129996529097,
          20.066698154314395,
          21.152578526454857,
          24.03645120571905,
          26.743029565652197,
          34.638090165484954,
          30.564011245384627,
          39.12751007719061,
          27.227260474682275,
          26.17388462448159,
          22.82861885023409,
          25.71496792555184,
          44.96895143913044,
          31.284691584214066,
          23.974849790133792,
          30.285864692642146,
          26.471126760434775,
          31.51173212702342,
          26.874984760401322,
          32.7708780357525,
          18.070888815886306,
          33.666625848896324,
          27.211400169264213,
          28.768256592274266,
          25.565259811939804,
          22.998922861605354,
          29.23403147943141,
          20.301846430802666,
          27.192939643545145,
          23.48398532642143,
          30.284158636488275,
          33.39011601862879,
          29.647960777391308,
          26.086238835317737,
          23.814019416755833,
          19.363023894816056,
          27.39322644478263,
          22.79648202903011,
          28.337950486555187,
          28.55687528016722,
          23.35155843013377,
          28.27537233625419,
          28.048155436956517,
          24.576554294849505,
          24.419359902441453,
          27.147985713779264,
          21.09626212474916,
          32.423477013645496,
          23.51595470341139,
          18.487390058896317,
          20.357186378227425,
          23.23314740742477,
          22.69378853177259,
          18.54090107227423,
          24.46063384237459
         ]
        }
       ],
       "layout": {
        "template": {
         "data": {
          "bar": [
           {
            "error_x": {
             "color": "#2a3f5f"
            },
            "error_y": {
             "color": "#2a3f5f"
            },
            "marker": {
             "line": {
              "color": "white",
              "width": 0.5
             }
            },
            "type": "bar"
           }
          ],
          "barpolar": [
           {
            "marker": {
             "line": {
              "color": "white",
              "width": 0.5
             }
            },
            "type": "barpolar"
           }
          ],
          "carpet": [
           {
            "aaxis": {
             "endlinecolor": "#2a3f5f",
             "gridcolor": "#C8D4E3",
             "linecolor": "#C8D4E3",
             "minorgridcolor": "#C8D4E3",
             "startlinecolor": "#2a3f5f"
            },
            "baxis": {
             "endlinecolor": "#2a3f5f",
             "gridcolor": "#C8D4E3",
             "linecolor": "#C8D4E3",
             "minorgridcolor": "#C8D4E3",
             "startlinecolor": "#2a3f5f"
            },
            "type": "carpet"
           }
          ],
          "choropleth": [
           {
            "colorbar": {
             "outlinewidth": 0,
             "ticks": ""
            },
            "type": "choropleth"
           }
          ],
          "contour": [
           {
            "colorbar": {
             "outlinewidth": 0,
             "ticks": ""
            },
            "colorscale": [
             [
              0,
              "#0d0887"
             ],
             [
              0.1111111111111111,
              "#46039f"
             ],
             [
              0.2222222222222222,
              "#7201a8"
             ],
             [
              0.3333333333333333,
              "#9c179e"
             ],
             [
              0.4444444444444444,
              "#bd3786"
             ],
             [
              0.5555555555555556,
              "#d8576b"
             ],
             [
              0.6666666666666666,
              "#ed7953"
             ],
             [
              0.7777777777777778,
              "#fb9f3a"
             ],
             [
              0.8888888888888888,
              "#fdca26"
             ],
             [
              1,
              "#f0f921"
             ]
            ],
            "type": "contour"
           }
          ],
          "contourcarpet": [
           {
            "colorbar": {
             "outlinewidth": 0,
             "ticks": ""
            },
            "type": "contourcarpet"
           }
          ],
          "heatmap": [
           {
            "colorbar": {
             "outlinewidth": 0,
             "ticks": ""
            },
            "colorscale": [
             [
              0,
              "#0d0887"
             ],
             [
              0.1111111111111111,
              "#46039f"
             ],
             [
              0.2222222222222222,
              "#7201a8"
             ],
             [
              0.3333333333333333,
              "#9c179e"
             ],
             [
              0.4444444444444444,
              "#bd3786"
             ],
             [
              0.5555555555555556,
              "#d8576b"
             ],
             [
              0.6666666666666666,
              "#ed7953"
             ],
             [
              0.7777777777777778,
              "#fb9f3a"
             ],
             [
              0.8888888888888888,
              "#fdca26"
             ],
             [
              1,
              "#f0f921"
             ]
            ],
            "type": "heatmap"
           }
          ],
          "heatmapgl": [
           {
            "colorbar": {
             "outlinewidth": 0,
             "ticks": ""
            },
            "colorscale": [
             [
              0,
              "#0d0887"
             ],
             [
              0.1111111111111111,
              "#46039f"
             ],
             [
              0.2222222222222222,
              "#7201a8"
             ],
             [
              0.3333333333333333,
              "#9c179e"
             ],
             [
              0.4444444444444444,
              "#bd3786"
             ],
             [
              0.5555555555555556,
              "#d8576b"
             ],
             [
              0.6666666666666666,
              "#ed7953"
             ],
             [
              0.7777777777777778,
              "#fb9f3a"
             ],
             [
              0.8888888888888888,
              "#fdca26"
             ],
             [
              1,
              "#f0f921"
             ]
            ],
            "type": "heatmapgl"
           }
          ],
          "histogram": [
           {
            "marker": {
             "colorbar": {
              "outlinewidth": 0,
              "ticks": ""
             }
            },
            "type": "histogram"
           }
          ],
          "histogram2d": [
           {
            "colorbar": {
             "outlinewidth": 0,
             "ticks": ""
            },
            "colorscale": [
             [
              0,
              "#0d0887"
             ],
             [
              0.1111111111111111,
              "#46039f"
             ],
             [
              0.2222222222222222,
              "#7201a8"
             ],
             [
              0.3333333333333333,
              "#9c179e"
             ],
             [
              0.4444444444444444,
              "#bd3786"
             ],
             [
              0.5555555555555556,
              "#d8576b"
             ],
             [
              0.6666666666666666,
              "#ed7953"
             ],
             [
              0.7777777777777778,
              "#fb9f3a"
             ],
             [
              0.8888888888888888,
              "#fdca26"
             ],
             [
              1,
              "#f0f921"
             ]
            ],
            "type": "histogram2d"
           }
          ],
          "histogram2dcontour": [
           {
            "colorbar": {
             "outlinewidth": 0,
             "ticks": ""
            },
            "colorscale": [
             [
              0,
              "#0d0887"
             ],
             [
              0.1111111111111111,
              "#46039f"
             ],
             [
              0.2222222222222222,
              "#7201a8"
             ],
             [
              0.3333333333333333,
              "#9c179e"
             ],
             [
              0.4444444444444444,
              "#bd3786"
             ],
             [
              0.5555555555555556,
              "#d8576b"
             ],
             [
              0.6666666666666666,
              "#ed7953"
             ],
             [
              0.7777777777777778,
              "#fb9f3a"
             ],
             [
              0.8888888888888888,
              "#fdca26"
             ],
             [
              1,
              "#f0f921"
             ]
            ],
            "type": "histogram2dcontour"
           }
          ],
          "mesh3d": [
           {
            "colorbar": {
             "outlinewidth": 0,
             "ticks": ""
            },
            "type": "mesh3d"
           }
          ],
          "parcoords": [
           {
            "line": {
             "colorbar": {
              "outlinewidth": 0,
              "ticks": ""
             }
            },
            "type": "parcoords"
           }
          ],
          "scatter": [
           {
            "marker": {
             "colorbar": {
              "outlinewidth": 0,
              "ticks": ""
             }
            },
            "type": "scatter"
           }
          ],
          "scatter3d": [
           {
            "line": {
             "colorbar": {
              "outlinewidth": 0,
              "ticks": ""
             }
            },
            "marker": {
             "colorbar": {
              "outlinewidth": 0,
              "ticks": ""
             }
            },
            "type": "scatter3d"
           }
          ],
          "scattercarpet": [
           {
            "marker": {
             "colorbar": {
              "outlinewidth": 0,
              "ticks": ""
             }
            },
            "type": "scattercarpet"
           }
          ],
          "scattergeo": [
           {
            "marker": {
             "colorbar": {
              "outlinewidth": 0,
              "ticks": ""
             }
            },
            "type": "scattergeo"
           }
          ],
          "scattergl": [
           {
            "marker": {
             "colorbar": {
              "outlinewidth": 0,
              "ticks": ""
             }
            },
            "type": "scattergl"
           }
          ],
          "scattermapbox": [
           {
            "marker": {
             "colorbar": {
              "outlinewidth": 0,
              "ticks": ""
             }
            },
            "type": "scattermapbox"
           }
          ],
          "scatterpolar": [
           {
            "marker": {
             "colorbar": {
              "outlinewidth": 0,
              "ticks": ""
             }
            },
            "type": "scatterpolar"
           }
          ],
          "scatterpolargl": [
           {
            "marker": {
             "colorbar": {
              "outlinewidth": 0,
              "ticks": ""
             }
            },
            "type": "scatterpolargl"
           }
          ],
          "scatterternary": [
           {
            "marker": {
             "colorbar": {
              "outlinewidth": 0,
              "ticks": ""
             }
            },
            "type": "scatterternary"
           }
          ],
          "surface": [
           {
            "colorbar": {
             "outlinewidth": 0,
             "ticks": ""
            },
            "colorscale": [
             [
              0,
              "#0d0887"
             ],
             [
              0.1111111111111111,
              "#46039f"
             ],
             [
              0.2222222222222222,
              "#7201a8"
             ],
             [
              0.3333333333333333,
              "#9c179e"
             ],
             [
              0.4444444444444444,
              "#bd3786"
             ],
             [
              0.5555555555555556,
              "#d8576b"
             ],
             [
              0.6666666666666666,
              "#ed7953"
             ],
             [
              0.7777777777777778,
              "#fb9f3a"
             ],
             [
              0.8888888888888888,
              "#fdca26"
             ],
             [
              1,
              "#f0f921"
             ]
            ],
            "type": "surface"
           }
          ],
          "table": [
           {
            "cells": {
             "fill": {
              "color": "#EBF0F8"
             },
             "line": {
              "color": "white"
             }
            },
            "header": {
             "fill": {
              "color": "#C8D4E3"
             },
             "line": {
              "color": "white"
             }
            },
            "type": "table"
           }
          ]
         },
         "layout": {
          "annotationdefaults": {
           "arrowcolor": "#2a3f5f",
           "arrowhead": 0,
           "arrowwidth": 1
          },
          "colorscale": {
           "diverging": [
            [
             0,
             "#8e0152"
            ],
            [
             0.1,
             "#c51b7d"
            ],
            [
             0.2,
             "#de77ae"
            ],
            [
             0.3,
             "#f1b6da"
            ],
            [
             0.4,
             "#fde0ef"
            ],
            [
             0.5,
             "#f7f7f7"
            ],
            [
             0.6,
             "#e6f5d0"
            ],
            [
             0.7,
             "#b8e186"
            ],
            [
             0.8,
             "#7fbc41"
            ],
            [
             0.9,
             "#4d9221"
            ],
            [
             1,
             "#276419"
            ]
           ],
           "sequential": [
            [
             0,
             "#0d0887"
            ],
            [
             0.1111111111111111,
             "#46039f"
            ],
            [
             0.2222222222222222,
             "#7201a8"
            ],
            [
             0.3333333333333333,
             "#9c179e"
            ],
            [
             0.4444444444444444,
             "#bd3786"
            ],
            [
             0.5555555555555556,
             "#d8576b"
            ],
            [
             0.6666666666666666,
             "#ed7953"
            ],
            [
             0.7777777777777778,
             "#fb9f3a"
            ],
            [
             0.8888888888888888,
             "#fdca26"
            ],
            [
             1,
             "#f0f921"
            ]
           ],
           "sequentialminus": [
            [
             0,
             "#0d0887"
            ],
            [
             0.1111111111111111,
             "#46039f"
            ],
            [
             0.2222222222222222,
             "#7201a8"
            ],
            [
             0.3333333333333333,
             "#9c179e"
            ],
            [
             0.4444444444444444,
             "#bd3786"
            ],
            [
             0.5555555555555556,
             "#d8576b"
            ],
            [
             0.6666666666666666,
             "#ed7953"
            ],
            [
             0.7777777777777778,
             "#fb9f3a"
            ],
            [
             0.8888888888888888,
             "#fdca26"
            ],
            [
             1,
             "#f0f921"
            ]
           ]
          },
          "colorway": [
           "#636efa",
           "#EF553B",
           "#00cc96",
           "#ab63fa",
           "#FFA15A",
           "#19d3f3",
           "#FF6692",
           "#B6E880",
           "#FF97FF",
           "#FECB52"
          ],
          "font": {
           "color": "#2a3f5f"
          },
          "geo": {
           "bgcolor": "white",
           "lakecolor": "white",
           "landcolor": "white",
           "showlakes": true,
           "showland": true,
           "subunitcolor": "#C8D4E3"
          },
          "hoverlabel": {
           "align": "left"
          },
          "hovermode": "closest",
          "mapbox": {
           "style": "light"
          },
          "paper_bgcolor": "white",
          "plot_bgcolor": "white",
          "polar": {
           "angularaxis": {
            "gridcolor": "#EBF0F8",
            "linecolor": "#EBF0F8",
            "ticks": ""
           },
           "bgcolor": "white",
           "radialaxis": {
            "gridcolor": "#EBF0F8",
            "linecolor": "#EBF0F8",
            "ticks": ""
           }
          },
          "scene": {
           "xaxis": {
            "backgroundcolor": "white",
            "gridcolor": "#DFE8F3",
            "gridwidth": 2,
            "linecolor": "#EBF0F8",
            "showbackground": true,
            "ticks": "",
            "zerolinecolor": "#EBF0F8"
           },
           "yaxis": {
            "backgroundcolor": "white",
            "gridcolor": "#DFE8F3",
            "gridwidth": 2,
            "linecolor": "#EBF0F8",
            "showbackground": true,
            "ticks": "",
            "zerolinecolor": "#EBF0F8"
           },
           "zaxis": {
            "backgroundcolor": "white",
            "gridcolor": "#DFE8F3",
            "gridwidth": 2,
            "linecolor": "#EBF0F8",
            "showbackground": true,
            "ticks": "",
            "zerolinecolor": "#EBF0F8"
           }
          },
          "shapedefaults": {
           "line": {
            "color": "#2a3f5f"
           }
          },
          "ternary": {
           "aaxis": {
            "gridcolor": "#DFE8F3",
            "linecolor": "#A2B1C6",
            "ticks": ""
           },
           "baxis": {
            "gridcolor": "#DFE8F3",
            "linecolor": "#A2B1C6",
            "ticks": ""
           },
           "bgcolor": "white",
           "caxis": {
            "gridcolor": "#DFE8F3",
            "linecolor": "#A2B1C6",
            "ticks": ""
           }
          },
          "title": {
           "x": 0.05
          },
          "xaxis": {
           "automargin": true,
           "gridcolor": "#EBF0F8",
           "linecolor": "#EBF0F8",
           "ticks": "",
           "zerolinecolor": "#EBF0F8",
           "zerolinewidth": 2
          },
          "yaxis": {
           "automargin": true,
           "gridcolor": "#EBF0F8",
           "linecolor": "#EBF0F8",
           "ticks": "",
           "zerolinecolor": "#EBF0F8",
           "zerolinewidth": 2
          }
         }
        }
       }
      },
      "text/html": [
       "<div>\n",
       "        \n",
       "        \n",
       "            <div id=\"bdb1eba8-d834-45c1-9f2c-f5cad636f9b7\" class=\"plotly-graph-div\" style=\"height:525px; width:100%;\"></div>\n",
       "            <script type=\"text/javascript\">\n",
       "                require([\"plotly\"], function(Plotly) {\n",
       "                    window.PLOTLYENV=window.PLOTLYENV || {};\n",
       "                    \n",
       "                if (document.getElementById(\"bdb1eba8-d834-45c1-9f2c-f5cad636f9b7\")) {\n",
       "                    Plotly.newPlot(\n",
       "                        'bdb1eba8-d834-45c1-9f2c-f5cad636f9b7',\n",
       "                        [{\"box\": {\"visible\": true}, \"jitter\": 0.1, \"legendgroup\": \"user data\", \"line\": {\"color\": \"lightseagreen\"}, \"meanline\": {\"visible\": true}, \"name\": \"user data\", \"pointpos\": -0.5, \"points\": \"all\", \"scalegroup\": \"user data\", \"side\": \"negative\", \"type\": \"violin\", \"x\": [\"dvars_nstd\", \"dvars_nstd\", \"dvars_nstd\", \"dvars_nstd\", \"dvars_nstd\", \"dvars_nstd\", \"dvars_nstd\", \"dvars_nstd\", \"dvars_nstd\", \"dvars_nstd\", \"dvars_nstd\", \"dvars_nstd\", \"dvars_nstd\", \"dvars_nstd\", \"dvars_nstd\", \"dvars_nstd\", \"dvars_nstd\", \"dvars_nstd\", \"dvars_nstd\", \"dvars_nstd\"], \"y\": [36.164916092608706, 40.730901590602016, 30.03065142408026, 29.3212523126756, 32.647246344715725, 26.659252230535106, 32.47218045270904, 22.08649824785952, 26.754318932608705, 35.785289107658855, 24.45471739374584, 27.090635331571928, 23.99219747030099, 25.970241138260857, 39.90012775545152, 20.199503404448155, 33.25883589775922, 24.123466376889645, 32.45951013993309, 38.921111518093625]}, {\"box\": {\"visible\": true}, \"legendgroup\": \"api\", \"line\": {\"color\": \"blue\"}, \"meanline\": {\"visible\": true}, \"name\": \"api\", \"scalegroup\": \"api\", \"side\": \"positive\", \"type\": \"violin\", \"x\": [\"dvars_nstd\", \"dvars_nstd\", \"dvars_nstd\", \"dvars_nstd\", \"dvars_nstd\", \"dvars_nstd\", \"dvars_nstd\", \"dvars_nstd\", \"dvars_nstd\", \"dvars_nstd\", \"dvars_nstd\", \"dvars_nstd\", \"dvars_nstd\", \"dvars_nstd\", \"dvars_nstd\", \"dvars_nstd\", \"dvars_nstd\", \"dvars_nstd\", \"dvars_nstd\", \"dvars_nstd\", \"dvars_nstd\", \"dvars_nstd\", \"dvars_nstd\", \"dvars_nstd\", \"dvars_nstd\", \"dvars_nstd\", \"dvars_nstd\", \"dvars_nstd\", \"dvars_nstd\", \"dvars_nstd\", \"dvars_nstd\", \"dvars_nstd\", \"dvars_nstd\", \"dvars_nstd\", \"dvars_nstd\", \"dvars_nstd\", \"dvars_nstd\", \"dvars_nstd\", \"dvars_nstd\", \"dvars_nstd\", \"dvars_nstd\", \"dvars_nstd\", \"dvars_nstd\", \"dvars_nstd\", \"dvars_nstd\", \"dvars_nstd\", \"dvars_nstd\", \"dvars_nstd\", \"dvars_nstd\", \"dvars_nstd\", \"dvars_nstd\", \"dvars_nstd\", \"dvars_nstd\", \"dvars_nstd\", \"dvars_nstd\", \"dvars_nstd\", \"dvars_nstd\", \"dvars_nstd\", \"dvars_nstd\", \"dvars_nstd\", \"dvars_nstd\", \"dvars_nstd\", \"dvars_nstd\", \"dvars_nstd\", \"dvars_nstd\", \"dvars_nstd\", \"dvars_nstd\", \"dvars_nstd\", \"dvars_nstd\", \"dvars_nstd\", \"dvars_nstd\", \"dvars_nstd\", \"dvars_nstd\", \"dvars_nstd\", \"dvars_nstd\", \"dvars_nstd\", \"dvars_nstd\", \"dvars_nstd\", \"dvars_nstd\", \"dvars_nstd\", \"dvars_nstd\", \"dvars_nstd\", \"dvars_nstd\", \"dvars_nstd\", \"dvars_nstd\", \"dvars_nstd\", \"dvars_nstd\", \"dvars_nstd\", \"dvars_nstd\", \"dvars_nstd\", \"dvars_nstd\", \"dvars_nstd\", \"dvars_nstd\", \"dvars_nstd\", \"dvars_nstd\", \"dvars_nstd\", \"dvars_nstd\", \"dvars_nstd\", \"dvars_nstd\", \"dvars_nstd\", \"dvars_nstd\", \"dvars_nstd\", \"dvars_nstd\", \"dvars_nstd\", \"dvars_nstd\", \"dvars_nstd\", \"dvars_nstd\", \"dvars_nstd\", \"dvars_nstd\", \"dvars_nstd\", \"dvars_nstd\", \"dvars_nstd\", \"dvars_nstd\", \"dvars_nstd\", \"dvars_nstd\", \"dvars_nstd\", \"dvars_nstd\", \"dvars_nstd\", \"dvars_nstd\", \"dvars_nstd\", \"dvars_nstd\", \"dvars_nstd\", \"dvars_nstd\", \"dvars_nstd\", \"dvars_nstd\", \"dvars_nstd\", \"dvars_nstd\", \"dvars_nstd\", \"dvars_nstd\", \"dvars_nstd\", \"dvars_nstd\", \"dvars_nstd\", \"dvars_nstd\", \"dvars_nstd\", \"dvars_nstd\", \"dvars_nstd\", \"dvars_nstd\", \"dvars_nstd\", \"dvars_nstd\", \"dvars_nstd\", \"dvars_nstd\", \"dvars_nstd\"], \"y\": [30.441892177290978, 41.41931044555181, 25.358087450133773, 26.986923090234107, 36.20927195076924, 25.92060570063545, 60.337501098662244, 38.58065614749164, 29.845873689197308, 27.998065221170553, 44.393471216856156, 22.533221484113717, 27.59014597842811, 20.393512349264206, 26.544035978394646, 31.37731195518397, 24.408680287658857, 26.176882154113702, 36.41622847605349, 22.098158693143805, 36.164916092608706, 40.730901590602016, 30.03065142408026, 29.3212523126756, 32.647246344715725, 26.659252230535106, 32.47218045270904, 22.08649824785952, 26.754318932608705, 35.785289107658855, 24.45471739374584, 27.090635331571928, 23.99219747030099, 25.970241138260857, 39.90012775545152, 20.199503404448155, 33.25883589775922, 24.123466376889645, 32.45951013993309, 38.921111518093625, 19.17203364193979, 25.931041921605345, 31.177918137692316, 35.58198688344482, 30.566562901538447, 25.91669109468226, 28.845463245919703, 24.28872974093645, 23.833895099598642, 26.993582314214052, 32.19816477702343, 26.75411079561872, 29.462940107458202, 39.371586419866226, 24.603863731806012, 36.12682527535118, 27.55324805143812, 25.503380013244136, 74.58283437779261, 22.944535622274238, 30.13806108324417, 28.426663956755863, 31.089444240434805, 28.467857609665558, 27.50206239886289, 48.14335520675585, 28.574760309197316, 27.419602608060213, 27.06995498655519, 36.55764552341138, 34.97415710371238, 39.59833164906354, 27.44634264070235, 26.33959333872909, 35.205762282708996, 28.440928934448166, 30.072463810501645, 31.288531910505075, 22.05316583137125, 23.3361843326087, 22.93625910093646, 35.67998108505017, 28.54611503334447, 29.164222781505018, 29.30078968973245, 23.160567063478265, 47.095615246856184, 23.5129996529097, 20.066698154314395, 21.152578526454857, 24.03645120571905, 26.743029565652197, 34.638090165484954, 30.564011245384627, 39.12751007719061, 27.227260474682275, 26.17388462448159, 22.82861885023409, 25.71496792555184, 44.96895143913044, 31.284691584214066, 23.974849790133792, 30.285864692642146, 26.471126760434775, 31.51173212702342, 26.874984760401322, 32.7708780357525, 18.070888815886306, 33.666625848896324, 27.211400169264213, 28.768256592274266, 25.565259811939804, 22.998922861605354, 29.23403147943141, 20.301846430802666, 27.192939643545145, 23.48398532642143, 30.284158636488275, 33.39011601862879, 29.647960777391308, 26.086238835317737, 23.814019416755833, 19.363023894816056, 27.39322644478263, 22.79648202903011, 28.337950486555187, 28.55687528016722, 23.35155843013377, 28.27537233625419, 28.048155436956517, 24.576554294849505, 24.419359902441453, 27.147985713779264, 21.09626212474916, 32.423477013645496, 23.51595470341139, 18.487390058896317, 20.357186378227425, 23.23314740742477, 22.69378853177259, 18.54090107227423, 24.46063384237459]}],\n",
       "                        {\"template\": {\"data\": {\"bar\": [{\"error_x\": {\"color\": \"#2a3f5f\"}, \"error_y\": {\"color\": \"#2a3f5f\"}, \"marker\": {\"line\": {\"color\": \"white\", \"width\": 0.5}}, \"type\": \"bar\"}], \"barpolar\": [{\"marker\": {\"line\": {\"color\": \"white\", \"width\": 0.5}}, \"type\": \"barpolar\"}], \"carpet\": [{\"aaxis\": {\"endlinecolor\": \"#2a3f5f\", \"gridcolor\": \"#C8D4E3\", \"linecolor\": \"#C8D4E3\", \"minorgridcolor\": \"#C8D4E3\", \"startlinecolor\": \"#2a3f5f\"}, \"baxis\": {\"endlinecolor\": \"#2a3f5f\", \"gridcolor\": \"#C8D4E3\", \"linecolor\": \"#C8D4E3\", \"minorgridcolor\": \"#C8D4E3\", \"startlinecolor\": \"#2a3f5f\"}, \"type\": \"carpet\"}], \"choropleth\": [{\"colorbar\": {\"outlinewidth\": 0, \"ticks\": \"\"}, \"type\": \"choropleth\"}], \"contour\": [{\"colorbar\": {\"outlinewidth\": 0, \"ticks\": \"\"}, \"colorscale\": [[0.0, \"#0d0887\"], [0.1111111111111111, \"#46039f\"], [0.2222222222222222, \"#7201a8\"], [0.3333333333333333, \"#9c179e\"], [0.4444444444444444, \"#bd3786\"], [0.5555555555555556, \"#d8576b\"], [0.6666666666666666, \"#ed7953\"], [0.7777777777777778, \"#fb9f3a\"], [0.8888888888888888, \"#fdca26\"], [1.0, \"#f0f921\"]], \"type\": \"contour\"}], \"contourcarpet\": [{\"colorbar\": {\"outlinewidth\": 0, \"ticks\": \"\"}, \"type\": \"contourcarpet\"}], \"heatmap\": [{\"colorbar\": {\"outlinewidth\": 0, \"ticks\": \"\"}, \"colorscale\": [[0.0, \"#0d0887\"], [0.1111111111111111, \"#46039f\"], [0.2222222222222222, \"#7201a8\"], [0.3333333333333333, \"#9c179e\"], [0.4444444444444444, \"#bd3786\"], [0.5555555555555556, \"#d8576b\"], [0.6666666666666666, \"#ed7953\"], [0.7777777777777778, \"#fb9f3a\"], [0.8888888888888888, \"#fdca26\"], [1.0, \"#f0f921\"]], \"type\": \"heatmap\"}], \"heatmapgl\": [{\"colorbar\": {\"outlinewidth\": 0, \"ticks\": \"\"}, \"colorscale\": [[0.0, \"#0d0887\"], [0.1111111111111111, \"#46039f\"], [0.2222222222222222, \"#7201a8\"], [0.3333333333333333, \"#9c179e\"], [0.4444444444444444, \"#bd3786\"], [0.5555555555555556, \"#d8576b\"], [0.6666666666666666, \"#ed7953\"], [0.7777777777777778, \"#fb9f3a\"], [0.8888888888888888, \"#fdca26\"], [1.0, \"#f0f921\"]], \"type\": \"heatmapgl\"}], \"histogram\": [{\"marker\": {\"colorbar\": {\"outlinewidth\": 0, \"ticks\": \"\"}}, \"type\": \"histogram\"}], \"histogram2d\": [{\"colorbar\": {\"outlinewidth\": 0, \"ticks\": \"\"}, \"colorscale\": [[0.0, \"#0d0887\"], [0.1111111111111111, \"#46039f\"], [0.2222222222222222, \"#7201a8\"], [0.3333333333333333, \"#9c179e\"], [0.4444444444444444, \"#bd3786\"], [0.5555555555555556, \"#d8576b\"], [0.6666666666666666, \"#ed7953\"], [0.7777777777777778, \"#fb9f3a\"], [0.8888888888888888, \"#fdca26\"], [1.0, \"#f0f921\"]], \"type\": \"histogram2d\"}], \"histogram2dcontour\": [{\"colorbar\": {\"outlinewidth\": 0, \"ticks\": \"\"}, \"colorscale\": [[0.0, \"#0d0887\"], [0.1111111111111111, \"#46039f\"], [0.2222222222222222, \"#7201a8\"], [0.3333333333333333, \"#9c179e\"], [0.4444444444444444, \"#bd3786\"], [0.5555555555555556, \"#d8576b\"], [0.6666666666666666, \"#ed7953\"], [0.7777777777777778, \"#fb9f3a\"], [0.8888888888888888, \"#fdca26\"], [1.0, \"#f0f921\"]], \"type\": \"histogram2dcontour\"}], \"mesh3d\": [{\"colorbar\": {\"outlinewidth\": 0, \"ticks\": \"\"}, \"type\": \"mesh3d\"}], \"parcoords\": [{\"line\": {\"colorbar\": {\"outlinewidth\": 0, \"ticks\": \"\"}}, \"type\": \"parcoords\"}], \"scatter\": [{\"marker\": {\"colorbar\": {\"outlinewidth\": 0, \"ticks\": \"\"}}, \"type\": \"scatter\"}], \"scatter3d\": [{\"line\": {\"colorbar\": {\"outlinewidth\": 0, \"ticks\": \"\"}}, \"marker\": {\"colorbar\": {\"outlinewidth\": 0, \"ticks\": \"\"}}, \"type\": \"scatter3d\"}], \"scattercarpet\": [{\"marker\": {\"colorbar\": {\"outlinewidth\": 0, \"ticks\": \"\"}}, \"type\": \"scattercarpet\"}], \"scattergeo\": [{\"marker\": {\"colorbar\": {\"outlinewidth\": 0, \"ticks\": \"\"}}, \"type\": \"scattergeo\"}], \"scattergl\": [{\"marker\": {\"colorbar\": {\"outlinewidth\": 0, \"ticks\": \"\"}}, \"type\": \"scattergl\"}], \"scattermapbox\": [{\"marker\": {\"colorbar\": {\"outlinewidth\": 0, \"ticks\": \"\"}}, \"type\": \"scattermapbox\"}], \"scatterpolar\": [{\"marker\": {\"colorbar\": {\"outlinewidth\": 0, \"ticks\": \"\"}}, \"type\": \"scatterpolar\"}], \"scatterpolargl\": [{\"marker\": {\"colorbar\": {\"outlinewidth\": 0, \"ticks\": \"\"}}, \"type\": \"scatterpolargl\"}], \"scatterternary\": [{\"marker\": {\"colorbar\": {\"outlinewidth\": 0, \"ticks\": \"\"}}, \"type\": \"scatterternary\"}], \"surface\": [{\"colorbar\": {\"outlinewidth\": 0, \"ticks\": \"\"}, \"colorscale\": [[0.0, \"#0d0887\"], [0.1111111111111111, \"#46039f\"], [0.2222222222222222, \"#7201a8\"], [0.3333333333333333, \"#9c179e\"], [0.4444444444444444, \"#bd3786\"], [0.5555555555555556, \"#d8576b\"], [0.6666666666666666, \"#ed7953\"], [0.7777777777777778, \"#fb9f3a\"], [0.8888888888888888, \"#fdca26\"], [1.0, \"#f0f921\"]], \"type\": \"surface\"}], \"table\": [{\"cells\": {\"fill\": {\"color\": \"#EBF0F8\"}, \"line\": {\"color\": \"white\"}}, \"header\": {\"fill\": {\"color\": \"#C8D4E3\"}, \"line\": {\"color\": \"white\"}}, \"type\": \"table\"}]}, \"layout\": {\"annotationdefaults\": {\"arrowcolor\": \"#2a3f5f\", \"arrowhead\": 0, \"arrowwidth\": 1}, \"colorscale\": {\"diverging\": [[0, \"#8e0152\"], [0.1, \"#c51b7d\"], [0.2, \"#de77ae\"], [0.3, \"#f1b6da\"], [0.4, \"#fde0ef\"], [0.5, \"#f7f7f7\"], [0.6, \"#e6f5d0\"], [0.7, \"#b8e186\"], [0.8, \"#7fbc41\"], [0.9, \"#4d9221\"], [1, \"#276419\"]], \"sequential\": [[0.0, \"#0d0887\"], [0.1111111111111111, \"#46039f\"], [0.2222222222222222, \"#7201a8\"], [0.3333333333333333, \"#9c179e\"], [0.4444444444444444, \"#bd3786\"], [0.5555555555555556, \"#d8576b\"], [0.6666666666666666, \"#ed7953\"], [0.7777777777777778, \"#fb9f3a\"], [0.8888888888888888, \"#fdca26\"], [1.0, \"#f0f921\"]], \"sequentialminus\": [[0.0, \"#0d0887\"], [0.1111111111111111, \"#46039f\"], [0.2222222222222222, \"#7201a8\"], [0.3333333333333333, \"#9c179e\"], [0.4444444444444444, \"#bd3786\"], [0.5555555555555556, \"#d8576b\"], [0.6666666666666666, \"#ed7953\"], [0.7777777777777778, \"#fb9f3a\"], [0.8888888888888888, \"#fdca26\"], [1.0, \"#f0f921\"]]}, \"colorway\": [\"#636efa\", \"#EF553B\", \"#00cc96\", \"#ab63fa\", \"#FFA15A\", \"#19d3f3\", \"#FF6692\", \"#B6E880\", \"#FF97FF\", \"#FECB52\"], \"font\": {\"color\": \"#2a3f5f\"}, \"geo\": {\"bgcolor\": \"white\", \"lakecolor\": \"white\", \"landcolor\": \"white\", \"showlakes\": true, \"showland\": true, \"subunitcolor\": \"#C8D4E3\"}, \"hoverlabel\": {\"align\": \"left\"}, \"hovermode\": \"closest\", \"mapbox\": {\"style\": \"light\"}, \"paper_bgcolor\": \"white\", \"plot_bgcolor\": \"white\", \"polar\": {\"angularaxis\": {\"gridcolor\": \"#EBF0F8\", \"linecolor\": \"#EBF0F8\", \"ticks\": \"\"}, \"bgcolor\": \"white\", \"radialaxis\": {\"gridcolor\": \"#EBF0F8\", \"linecolor\": \"#EBF0F8\", \"ticks\": \"\"}}, \"scene\": {\"xaxis\": {\"backgroundcolor\": \"white\", \"gridcolor\": \"#DFE8F3\", \"gridwidth\": 2, \"linecolor\": \"#EBF0F8\", \"showbackground\": true, \"ticks\": \"\", \"zerolinecolor\": \"#EBF0F8\"}, \"yaxis\": {\"backgroundcolor\": \"white\", \"gridcolor\": \"#DFE8F3\", \"gridwidth\": 2, \"linecolor\": \"#EBF0F8\", \"showbackground\": true, \"ticks\": \"\", \"zerolinecolor\": \"#EBF0F8\"}, \"zaxis\": {\"backgroundcolor\": \"white\", \"gridcolor\": \"#DFE8F3\", \"gridwidth\": 2, \"linecolor\": \"#EBF0F8\", \"showbackground\": true, \"ticks\": \"\", \"zerolinecolor\": \"#EBF0F8\"}}, \"shapedefaults\": {\"line\": {\"color\": \"#2a3f5f\"}}, \"ternary\": {\"aaxis\": {\"gridcolor\": \"#DFE8F3\", \"linecolor\": \"#A2B1C6\", \"ticks\": \"\"}, \"baxis\": {\"gridcolor\": \"#DFE8F3\", \"linecolor\": \"#A2B1C6\", \"ticks\": \"\"}, \"bgcolor\": \"white\", \"caxis\": {\"gridcolor\": \"#DFE8F3\", \"linecolor\": \"#A2B1C6\", \"ticks\": \"\"}}, \"title\": {\"x\": 0.05}, \"xaxis\": {\"automargin\": true, \"gridcolor\": \"#EBF0F8\", \"linecolor\": \"#EBF0F8\", \"ticks\": \"\", \"zerolinecolor\": \"#EBF0F8\", \"zerolinewidth\": 2}, \"yaxis\": {\"automargin\": true, \"gridcolor\": \"#EBF0F8\", \"linecolor\": \"#EBF0F8\", \"ticks\": \"\", \"zerolinecolor\": \"#EBF0F8\", \"zerolinewidth\": 2}}}},\n",
       "                        {\"responsive\": true}\n",
       "                    ).then(function(){\n",
       "                            \n",
       "var gd = document.getElementById('bdb1eba8-d834-45c1-9f2c-f5cad636f9b7');\n",
       "var x = new MutationObserver(function (mutations, observer) {{\n",
       "        var display = window.getComputedStyle(gd).display;\n",
       "        if (!display || display === 'none') {{\n",
       "            console.log([gd, 'removed!']);\n",
       "            Plotly.purge(gd);\n",
       "            observer.disconnect();\n",
       "        }}\n",
       "}});\n",
       "\n",
       "// Listen for the removal of the full notebook cells\n",
       "var notebookContainer = gd.closest('#notebook-container');\n",
       "if (notebookContainer) {{\n",
       "    x.observe(notebookContainer, {childList: true});\n",
       "}}\n",
       "\n",
       "// Listen for the clearing of the current output cell\n",
       "var outputEl = gd.closest('.output');\n",
       "if (outputEl) {{\n",
       "    x.observe(outputEl, {childList: true});\n",
       "}}\n",
       "\n",
       "                        })\n",
       "                };\n",
       "                });\n",
       "            </script>\n",
       "        </div>"
      ]
     },
     "metadata": {},
     "output_type": "display_data"
    },
    {
     "name": "stdout",
     "output_type": "stream",
     "text": [
      "None\n"
     ]
    }
   ],
   "source": [
    "my_function(data,variables[1:5], descriptions)"
   ]
  },
  {
   "cell_type": "code",
   "execution_count": null,
   "metadata": {},
   "outputs": [],
   "source": []
  }
 ],
 "metadata": {
  "kernel_info": {
   "name": "python3"
  },
  "kernelspec": {
   "display_name": "Python 3",
   "language": "python",
   "name": "python3"
  },
  "language_info": {
   "codemirror_mode": {
    "name": "ipython",
    "version": 3
   },
   "file_extension": ".py",
   "mimetype": "text/x-python",
   "name": "python",
   "nbconvert_exporter": "python",
   "pygments_lexer": "ipython3",
   "version": "3.7.3"
  },
  "nteract": {
   "version": "0.14.3"
  }
 },
 "nbformat": 4,
 "nbformat_minor": 2
}
